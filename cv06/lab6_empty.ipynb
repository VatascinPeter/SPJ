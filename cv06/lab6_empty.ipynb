{
 "cells": [
  {
   "cell_type": "markdown",
   "metadata": {
    "vscode": {
     "languageId": "julia"
    }
   },
   "source": [
    "# Lab 06: Code introspection and metaprogramming\n",
    "In this lab we are first going to inspect some tooling to help you understand what Julia does under the hood such as:\n",
    "- looking at the code at different levels\n",
    "- understanding what method is being called\n",
    "- showing different levels of code optimization\n",
    "\n",
    "Secondly we will start playing with the metaprogramming side of Julia, mainly covering:\n",
    "- how to view abstract syntax tree (AST) of Julia code\n",
    "- how to manipulate AST\n",
    "\n",
    "These topics will be extended in the next lecture/lab, where we are going use metaprogramming to manipulate code with macros.\n",
    "\n",
    "We will be again a little getting ahead of ourselves as we are going to use quite a few macros, which will be properly explained in the next lecture as well, however for now the important thing to know is that a macro is just a special function, that accepts as an argument Julia code, which it can modify.\n",
    "\n",
    "## Quick reminder of introspection tooling\n",
    "Let's start with the topic of code inspection, e.g. we may ask the following: What happens when Julia evaluates `[i for i in 1:10]`?\n",
    "#### parsing "
   ]
  },
  {
   "cell_type": "code",
   "execution_count": 1,
   "metadata": {},
   "outputs": [
    {
     "name": "stderr",
     "output_type": "stream",
     "text": [
      "\u001b[32m\u001b[1m  Activating\u001b[22m\u001b[39m new project at `c:\\Users\\peter\\Documents\\Skola\\SPJ`\n"
     ]
    }
   ],
   "source": [
    "using Pkg; Pkg.activate(\"../\") # Project in inteactive_notebooks"
   ]
  },
  {
   "cell_type": "code",
   "execution_count": 2,
   "metadata": {},
   "outputs": [],
   "source": [
    "using InteractiveUtils"
   ]
  },
  {
   "cell_type": "code",
   "execution_count": 3,
   "metadata": {},
   "outputs": [
    {
     "name": "stdout",
     "output_type": "stream",
     "text": [
      "Expr\n",
      "  head: Symbol comprehension\n",
      "  args: Array{Any}((1,))\n",
      "    1: Expr\n",
      "      head: Symbol generator\n",
      "      args: Array{Any}((2,))\n",
      "        1: Symbol i\n",
      "        2: Expr\n",
      "          head: Symbol =\n",
      "          args: Array{Any}((2,))\n",
      "            1: Symbol i\n",
      "            2: Expr\n",
      "              head: Symbol call\n",
      "              args: Array{Any}((3,))\n",
      "                1: Symbol :\n",
      "                2: Int64 1\n",
      "                3: Int64 10\n"
     ]
    }
   ],
   "source": [
    ":([i for i in 1:10]) |> dump"
   ]
  },
  {
   "cell_type": "markdown",
   "metadata": {},
   "source": [
    "#### lowering"
   ]
  },
  {
   "cell_type": "code",
   "execution_count": 4,
   "metadata": {},
   "outputs": [
    {
     "data": {
      "text/plain": [
       ":($(Expr(:thunk, CodeInfo(\n",
       "   \u001b[33m @ none within `top-level scope`\u001b[39m\n",
       "\u001b[90m1 ─\u001b[39m %1 = 1:10\n",
       "\u001b[90m│  \u001b[39m %2 = Base.Generator(Base.identity, %1)\n",
       "\u001b[90m│  \u001b[39m %3 = Base.collect(%2)\n",
       "\u001b[90m└──\u001b[39m      return %3\n",
       "))))"
      ]
     },
     "metadata": {},
     "output_type": "display_data"
    }
   ],
   "source": [
    "Meta.@lower [i for i in 1:10]"
   ]
  },
  {
   "cell_type": "markdown",
   "metadata": {},
   "source": [
    "#### typing"
   ]
  },
  {
   "cell_type": "code",
   "execution_count": 6,
   "metadata": {},
   "outputs": [
    {
     "data": {
      "text/plain": [
       "CodeInfo(\n",
       "\u001b[90m1 ──\u001b[39m       goto #3 if not true\n",
       "\u001b[90m2 ──\u001b[39m       nothing\u001b[90m::Nothing\u001b[39m\n",
       "\u001b[90m3 ┄─\u001b[39m %3  = $(Expr(:foreigncall, :(:jl_alloc_array_1d), Vector{Int64}, svec(Any, Int64), 0, :(:ccall), Vector{Int64}, 10, 10))\u001b[36m::Vector{Int64}\u001b[39m\n",
       "\u001b[90m└───\u001b[39m       Base.arrayset(true, %3, 1, 1)\u001b[90m::Vector{Int64}\u001b[39m\n",
       "\u001b[90m4 ┄─\u001b[39m %5  = φ (#3 => 2, #13 => %23)\u001b[36m::Int64\u001b[39m\n",
       "\u001b[90m│   \u001b[39m %6  = φ (#3 => 1, #13 => %15)\u001b[36m::Int64\u001b[39m\n",
       "\u001b[90m└───\u001b[39m       goto #14 if not true\n",
       "\u001b[90m5 ──\u001b[39m %8  = (%6 === 10)\u001b[36m::Bool\u001b[39m\n",
       "\u001b[90m└───\u001b[39m       goto #7 if not %8\n",
       "\u001b[90m6 ──\u001b[39m       goto #8\n",
       "\u001b[90m7 ──\u001b[39m %11 = Base.add_int(%6, 1)\u001b[36m::Int64\u001b[39m\n",
       "\u001b[90m└───\u001b[39m       goto #8\n",
       "\u001b[90m8 ┄─\u001b[39m %13 = φ (#6 => true, #7 => false)\u001b[36m::Bool\u001b[39m\n",
       "\u001b[90m│   \u001b[39m %14 = φ (#7 => %11)\u001b[36m::Int64\u001b[39m\n",
       "\u001b[90m│   \u001b[39m %15 = φ (#7 => %11)\u001b[36m::Int64\u001b[39m\n",
       "\u001b[90m└───\u001b[39m       goto #10 if not %13\n",
       "\u001b[90m9 ──\u001b[39m       goto #11\n",
       "\u001b[90m10 ─\u001b[39m       goto #11\n",
       "\u001b[90m11 ┄\u001b[39m %19 = φ (#9 => true, #10 => false)\u001b[36m::Bool\u001b[39m\n",
       "\u001b[90m└───\u001b[39m       goto #13 if not %19\n",
       "\u001b[90m12 ─\u001b[39m       goto #14\n",
       "\u001b[90m13 ─\u001b[39m       Base.arrayset(false, %3, %14, %5)\u001b[90m::Vector{Int64}\u001b[39m\n",
       "\u001b[90m│   \u001b[39m %23 = Base.add_int(%5, 1)\u001b[36m::Int64\u001b[39m\n",
       "\u001b[90m└───\u001b[39m       goto #4\n",
       "\u001b[90m14 ┄\u001b[39m       goto #15\n",
       "\u001b[90m15 ─\u001b[39m       goto #16\n",
       "\u001b[90m16 ─\u001b[39m       goto #17\n",
       "\u001b[90m17 ─\u001b[39m       return %3\n",
       ") => Vector{Int64}"
      ]
     },
     "metadata": {},
     "output_type": "display_data"
    }
   ],
   "source": [
    "f() = [i for i in 1:10]\n",
    "@code_typed debuginfo=:none f()"
   ]
  },
  {
   "cell_type": "code",
   "execution_count": 7,
   "metadata": {},
   "outputs": [
    {
     "data": {
      "text/plain": [
       "CodeInfo(\n",
       "\u001b[90m1 ─\u001b[39m %1 = (1:10)\u001b[36m::Core.Const(1:10)\u001b[39m\n",
       "\u001b[90m│  \u001b[39m %2 = Base.Generator(Base.identity, %1)\u001b[36m::Core.Const(Base.Generator{UnitRange{Int64}, typeof(identity)}(identity, 1:10))\u001b[39m\n",
       "\u001b[90m│  \u001b[39m %3 = Base.collect(%2)\u001b[36m::Vector{Int64}\u001b[39m\n",
       "\u001b[90m└──\u001b[39m      return %3\n",
       ") => Vector{Int64}"
      ]
     },
     "metadata": {},
     "output_type": "display_data"
    }
   ],
   "source": [
    "@code_typed optimize=false f()"
   ]
  },
  {
   "cell_type": "markdown",
   "metadata": {},
   "source": [
    "#### LLVM code generation"
   ]
  },
  {
   "cell_type": "code",
   "execution_count": 8,
   "metadata": {},
   "outputs": [
    {
     "name": "stdout",
     "output_type": "stream",
     "text": [
      "\u001b[90m; Function Attrs: uwtable\u001b[39m\n",
      "\u001b[95mdefine\u001b[39m \u001b[95mnonnull\u001b[39m \u001b[33m{\u001b[39m\u001b[33m}\u001b[39m\u001b[0m* \u001b[93m@julia_f_1915\u001b[39m\u001b[33m(\u001b[39m\u001b[33m)\u001b[39m \u001b[0m#0 \u001b[33m{\u001b[39m\n",
      "\u001b[91mtop:\u001b[39m\n",
      "  \u001b[0m%0 \u001b[0m= \u001b[96m\u001b[1mcall\u001b[22m\u001b[39m \u001b[95mnonnull\u001b[39m \u001b[33m{\u001b[39m\u001b[33m}\u001b[39m\u001b[0m* \u001b[95minttoptr\u001b[39m \u001b[33m(\u001b[39m\u001b[36mi64\u001b[39m \u001b[33m140736243116080\u001b[39m \u001b[95mto\u001b[39m \u001b[33m{\u001b[39m\u001b[33m}\u001b[39m\u001b[0m* \u001b[33m(\u001b[39m\u001b[33m{\u001b[39m\u001b[33m}\u001b[39m\u001b[0m*\u001b[0m, \u001b[36mi64\u001b[39m\u001b[33m)\u001b[39m\u001b[0m*\u001b[33m)\u001b[39m\u001b[33m(\u001b[39m\u001b[33m{\u001b[39m\u001b[33m}\u001b[39m\u001b[0m* \u001b[95minttoptr\u001b[39m \u001b[33m(\u001b[39m\u001b[36mi64\u001b[39m \u001b[33m140733797798624\u001b[39m \u001b[95mto\u001b[39m \u001b[33m{\u001b[39m\u001b[33m}\u001b[39m\u001b[0m*\u001b[33m)\u001b[39m\u001b[0m, \u001b[36mi64\u001b[39m \u001b[33m10\u001b[39m\u001b[33m)\u001b[39m\n",
      "  \u001b[0m%1 \u001b[0m= \u001b[96m\u001b[1mbitcast\u001b[22m\u001b[39m \u001b[33m{\u001b[39m\u001b[33m}\u001b[39m\u001b[0m* \u001b[0m%0 \u001b[95mto\u001b[39m \u001b[33m{\u001b[39m \u001b[36mi8\u001b[39m\u001b[0m*\u001b[0m, \u001b[36mi64\u001b[39m\u001b[0m, \u001b[36mi16\u001b[39m\u001b[0m, \u001b[36mi16\u001b[39m\u001b[0m, \u001b[36mi32\u001b[39m \u001b[33m}\u001b[39m\u001b[0m*\n",
      "  \u001b[0m%arraylen_ptr \u001b[0m= \u001b[96m\u001b[1mgetelementptr\u001b[22m\u001b[39m \u001b[95minbounds\u001b[39m \u001b[33m{\u001b[39m \u001b[36mi8\u001b[39m\u001b[0m*\u001b[0m, \u001b[36mi64\u001b[39m\u001b[0m, \u001b[36mi16\u001b[39m\u001b[0m, \u001b[36mi16\u001b[39m\u001b[0m, \u001b[36mi32\u001b[39m \u001b[33m}\u001b[39m\u001b[0m, \u001b[33m{\u001b[39m \u001b[36mi8\u001b[39m\u001b[0m*\u001b[0m, \u001b[36mi64\u001b[39m\u001b[0m, \u001b[36mi16\u001b[39m\u001b[0m, \u001b[36mi16\u001b[39m\u001b[0m, \u001b[36mi32\u001b[39m \u001b[33m}\u001b[39m\u001b[0m* \u001b[0m%1\u001b[0m, \u001b[36mi64\u001b[39m \u001b[33m0\u001b[39m\u001b[0m, \u001b[36mi32\u001b[39m \u001b[33m1\u001b[39m\n",
      "  \u001b[0m%arraylen \u001b[0m= \u001b[96m\u001b[1mload\u001b[22m\u001b[39m \u001b[36mi64\u001b[39m\u001b[0m, \u001b[36mi64\u001b[39m\u001b[0m* \u001b[0m%arraylen_ptr\u001b[0m, \u001b[95malign\u001b[39m \u001b[33m8\u001b[39m\n",
      "  \u001b[0m%inbounds.not \u001b[0m= \u001b[96m\u001b[1micmp\u001b[22m\u001b[39m \u001b[96m\u001b[1meq\u001b[22m\u001b[39m \u001b[36mi64\u001b[39m \u001b[0m%arraylen\u001b[0m, \u001b[33m0\u001b[39m\n",
      "  \u001b[96m\u001b[1mbr\u001b[22m\u001b[39m \u001b[36mi1\u001b[39m \u001b[0m%inbounds.not\u001b[0m, \u001b[36mlabel\u001b[39m \u001b[91m%oob\u001b[39m\u001b[0m, \u001b[36mlabel\u001b[39m \u001b[91m%idxend\u001b[39m\n",
      "\n",
      "\u001b[91moob:\u001b[39m                                              \u001b[90m; preds = %top\u001b[39m\n",
      "  \u001b[0m%errorbox \u001b[0m= \u001b[96m\u001b[1malloca\u001b[22m\u001b[39m \u001b[36mi64\u001b[39m\u001b[0m, \u001b[95malign\u001b[39m \u001b[33m8\u001b[39m\n",
      "  \u001b[96m\u001b[1mstore\u001b[22m\u001b[39m \u001b[36mi64\u001b[39m \u001b[33m1\u001b[39m\u001b[0m, \u001b[36mi64\u001b[39m\u001b[0m* \u001b[0m%errorbox\u001b[0m, \u001b[95malign\u001b[39m \u001b[33m8\u001b[39m\n",
      "  \u001b[96m\u001b[1mcall\u001b[22m\u001b[39m \u001b[36mvoid\u001b[39m \u001b[93m@ijl_bounds_error_ints\u001b[39m\u001b[33m(\u001b[39m\u001b[33m{\u001b[39m\u001b[33m}\u001b[39m\u001b[0m* \u001b[0m%0\u001b[0m, \u001b[36mi64\u001b[39m\u001b[0m* \u001b[95mnonnull\u001b[39m \u001b[0m%errorbox\u001b[0m, \u001b[36mi64\u001b[39m \u001b[33m1\u001b[39m\u001b[33m)\u001b[39m\n",
      "  \u001b[96m\u001b[1munreachable\u001b[22m\u001b[39m\n",
      "\n",
      "\u001b[91midxend:\u001b[39m                                           \u001b[90m; preds = %top\u001b[39m\n",
      "  \u001b[0m%2 \u001b[0m= \u001b[96m\u001b[1mbitcast\u001b[22m\u001b[39m \u001b[33m{\u001b[39m\u001b[33m}\u001b[39m\u001b[0m* \u001b[0m%0 \u001b[95mto\u001b[39m \u001b[36mi64\u001b[39m\u001b[0m**\n",
      "  \u001b[0m%arrayptr8 \u001b[0m= \u001b[96m\u001b[1mload\u001b[22m\u001b[39m \u001b[36mi64\u001b[39m\u001b[0m*\u001b[0m, \u001b[36mi64\u001b[39m\u001b[0m** \u001b[0m%2\u001b[0m, \u001b[95malign\u001b[39m \u001b[33m8\u001b[39m\n",
      "  \u001b[0m%3 \u001b[0m= \u001b[96m\u001b[1mbitcast\u001b[22m\u001b[39m \u001b[36mi64\u001b[39m\u001b[0m* \u001b[0m%arrayptr8 \u001b[95mto\u001b[39m \u001b[33m<\u001b[39m\u001b[33m4\u001b[39m \u001b[0mx \u001b[36mi64\u001b[39m\u001b[33m>\u001b[39m\u001b[0m*\n",
      "  \u001b[96m\u001b[1mstore\u001b[22m\u001b[39m \u001b[33m<\u001b[39m\u001b[33m4\u001b[39m \u001b[0mx \u001b[36mi64\u001b[39m\u001b[33m>\u001b[39m \u001b[33m<\u001b[39m\u001b[36mi64\u001b[39m \u001b[33m1\u001b[39m\u001b[0m, \u001b[36mi64\u001b[39m \u001b[33m2\u001b[39m\u001b[0m, \u001b[36mi64\u001b[39m \u001b[33m3\u001b[39m\u001b[0m, \u001b[36mi64\u001b[39m \u001b[33m4\u001b[39m\u001b[33m>\u001b[39m\u001b[0m, \u001b[33m<\u001b[39m\u001b[33m4\u001b[39m \u001b[0mx \u001b[36mi64\u001b[39m\u001b[33m>\u001b[39m\u001b[0m* \u001b[0m%3\u001b[0m, \u001b[95malign\u001b[39m \u001b[33m8\u001b[39m\n",
      "  \u001b[0m%4 \u001b[0m= \u001b[96m\u001b[1mgetelementptr\u001b[22m\u001b[39m \u001b[95minbounds\u001b[39m \u001b[36mi64\u001b[39m\u001b[0m, \u001b[36mi64\u001b[39m\u001b[0m* \u001b[0m%arrayptr8\u001b[0m, \u001b[36mi64\u001b[39m \u001b[33m4\u001b[39m\n",
      "  \u001b[0m%5 \u001b[0m= \u001b[96m\u001b[1mbitcast\u001b[22m\u001b[39m \u001b[36mi64\u001b[39m\u001b[0m* \u001b[0m%4 \u001b[95mto\u001b[39m \u001b[33m<\u001b[39m\u001b[33m4\u001b[39m \u001b[0mx \u001b[36mi64\u001b[39m\u001b[33m>\u001b[39m\u001b[0m*\n",
      "  \u001b[96m\u001b[1mstore\u001b[22m\u001b[39m \u001b[33m<\u001b[39m\u001b[33m4\u001b[39m \u001b[0mx \u001b[36mi64\u001b[39m\u001b[33m>\u001b[39m \u001b[33m<\u001b[39m\u001b[36mi64\u001b[39m \u001b[33m5\u001b[39m\u001b[0m, \u001b[36mi64\u001b[39m \u001b[33m6\u001b[39m\u001b[0m, \u001b[36mi64\u001b[39m \u001b[33m7\u001b[39m\u001b[0m, \u001b[36mi64\u001b[39m \u001b[33m8\u001b[39m\u001b[33m>\u001b[39m\u001b[0m, \u001b[33m<\u001b[39m\u001b[33m4\u001b[39m \u001b[0mx \u001b[36mi64\u001b[39m\u001b[33m>\u001b[39m\u001b[0m* \u001b[0m%5\u001b[0m, \u001b[95malign\u001b[39m \u001b[33m8\u001b[39m\n",
      "  \u001b[0m%6 \u001b[0m= \u001b[96m\u001b[1mgetelementptr\u001b[22m\u001b[39m \u001b[95minbounds\u001b[39m \u001b[36mi64\u001b[39m\u001b[0m, \u001b[36mi64\u001b[39m\u001b[0m* \u001b[0m%arrayptr8\u001b[0m, \u001b[36mi64\u001b[39m \u001b[33m8\u001b[39m\n",
      "  \u001b[0m%7 \u001b[0m= \u001b[96m\u001b[1mbitcast\u001b[22m\u001b[39m \u001b[36mi64\u001b[39m\u001b[0m* \u001b[0m%6 \u001b[95mto\u001b[39m \u001b[33m<\u001b[39m\u001b[33m2\u001b[39m \u001b[0mx \u001b[36mi64\u001b[39m\u001b[33m>\u001b[39m\u001b[0m*\n",
      "  \u001b[96m\u001b[1mstore\u001b[22m\u001b[39m \u001b[33m<\u001b[39m\u001b[33m2\u001b[39m \u001b[0mx \u001b[36mi64\u001b[39m\u001b[33m>\u001b[39m \u001b[33m<\u001b[39m\u001b[36mi64\u001b[39m \u001b[33m9\u001b[39m\u001b[0m, \u001b[36mi64\u001b[39m \u001b[33m10\u001b[39m\u001b[33m>\u001b[39m\u001b[0m, \u001b[33m<\u001b[39m\u001b[33m2\u001b[39m \u001b[0mx \u001b[36mi64\u001b[39m\u001b[33m>\u001b[39m\u001b[0m* \u001b[0m%7\u001b[0m, \u001b[95malign\u001b[39m \u001b[33m8\u001b[39m\n",
      "  \u001b[96m\u001b[1mret\u001b[22m\u001b[39m \u001b[33m{\u001b[39m\u001b[33m}\u001b[39m\u001b[0m* \u001b[0m%0\n",
      "\u001b[33m}\u001b[39m\n"
     ]
    }
   ],
   "source": [
    "@code_llvm debuginfo=:none f()"
   ]
  },
  {
   "cell_type": "markdown",
   "metadata": {},
   "source": [
    "#### native code generation"
   ]
  },
  {
   "cell_type": "code",
   "execution_count": 9,
   "metadata": {},
   "outputs": [
    {
     "name": "stdout",
     "output_type": "stream",
     "text": [
      "\t\u001b[0m.text\n",
      "\t\u001b[0m.file\t\u001b[0m\"f\"\n",
      "\t\u001b[0m.section\t\u001b[0m.rodata.cst32\u001b[0m,\u001b[0m\"aM\"\u001b[0m,\u001b[0m@progbits\u001b[0m,\u001b[33m32\u001b[39m\n",
      "\t\u001b[0m.p2align\t\u001b[33m5\u001b[39m                               \u001b[90m# -- Begin function julia_f_1950\u001b[39m\n",
      "\u001b[91m.LCPI0_0:\u001b[39m\n",
      "\t\u001b[0m.quad\t\u001b[33m1\u001b[39m                               \u001b[90m# 0x1\u001b[39m\n",
      "\t\u001b[0m.quad\t\u001b[33m2\u001b[39m                               \u001b[90m# 0x2\u001b[39m\n",
      "\t\u001b[0m.quad\t\u001b[33m3\u001b[39m                               \u001b[90m# 0x3\u001b[39m\n",
      "\t\u001b[0m.quad\t\u001b[33m4\u001b[39m                               \u001b[90m# 0x4\u001b[39m\n",
      "\u001b[91m.LCPI0_1:\u001b[39m\n",
      "\t\u001b[0m.quad\t\u001b[33m5\u001b[39m                               \u001b[90m# 0x5\u001b[39m\n",
      "\t\u001b[0m.quad\t\u001b[33m6\u001b[39m                               \u001b[90m# 0x6\u001b[39m\n",
      "\t\u001b[0m.quad\t\u001b[33m7\u001b[39m                               \u001b[90m# 0x7\u001b[39m\n",
      "\t\u001b[0m.quad\t\u001b[33m8\u001b[39m                               \u001b[90m# 0x8\u001b[39m\n",
      "\t\u001b[0m.section\t\u001b[0m.rodata.cst16\u001b[0m,\u001b[0m\"aM\"\u001b[0m,\u001b[0m@progbits\u001b[0m,\u001b[33m16\u001b[39m\n",
      "\t\u001b[0m.p2align\t\u001b[33m4\u001b[39m\n",
      "\u001b[91m.LCPI0_2:\u001b[39m\n",
      "\t\u001b[0m.quad\t\u001b[33m9\u001b[39m                               \u001b[90m# 0x9\u001b[39m\n",
      "\t\u001b[0m.quad\t\u001b[33m10\u001b[39m                              \u001b[90m# 0xa\u001b[39m\n",
      "\t\u001b[0m.text\n",
      "\t\u001b[0m.globl\t\u001b[0mjulia_f_1950\n",
      "\t\u001b[0m.p2align\t\u001b[33m4\u001b[39m\u001b[0m, \u001b[33m0x90\u001b[39m\n",
      "\t\u001b[0m.type\t\u001b[0mjulia_f_1950\u001b[0m,\u001b[0m@function\n",
      "\u001b[91mjulia_f_1950:\u001b[39m                           \u001b[90m# @julia_f_1950\u001b[39m\n",
      "\t\u001b[0m.cfi_startproc\n",
      "\u001b[90m# %bb.0:                                # %top\u001b[39m\n",
      "\t\u001b[96m\u001b[1mpush\u001b[22m\u001b[39m\t\u001b[0mrbp\n",
      "\t\u001b[0m.cfi_def_cfa_offset \u001b[33m16\u001b[39m\n",
      "\t\u001b[0m.cfi_offset \u001b[0mrbp\u001b[0m, \u001b[33m-16\u001b[39m\n",
      "\t\u001b[96m\u001b[1mmov\u001b[22m\u001b[39m\t\u001b[0mrbp\u001b[0m, \u001b[0mrsp\n",
      "\t\u001b[0m.cfi_def_cfa_register \u001b[0mrbp\n",
      "\t\u001b[96m\u001b[1msub\u001b[22m\u001b[39m\t\u001b[0mrsp\u001b[0m, \u001b[33m32\u001b[39m\n",
      "\t\u001b[96m\u001b[1mmovabs\u001b[22m\u001b[39m\t\u001b[0mrcx\u001b[0m, \u001b[33m140733797798624\u001b[39m\n",
      "\t\u001b[96m\u001b[1mmovabs\u001b[22m\u001b[39m\t\u001b[0mrax\u001b[0m, \u001b[33m140736243116080\u001b[39m\n",
      "\t\u001b[96m\u001b[1mmov\u001b[22m\u001b[39m\t\u001b[0medx\u001b[0m, \u001b[33m10\u001b[39m\n",
      "\t\u001b[96m\u001b[1mcall\u001b[22m\u001b[39m\t\u001b[0mrax\n",
      "\t\u001b[96m\u001b[1madd\u001b[22m\u001b[39m\t\u001b[0mrsp\u001b[0m, \u001b[33m32\u001b[39m\n",
      "\t\u001b[96m\u001b[1mcmp\u001b[22m\u001b[39m\t\u001b[95mqword\u001b[39m \u001b[95mptr\u001b[39m \u001b[33m[\u001b[39m\u001b[0mrax \u001b[0m+ \u001b[33m8\u001b[39m\u001b[33m]\u001b[39m\u001b[0m, \u001b[33m0\u001b[39m\n",
      "\t\u001b[96m\u001b[1mmov\u001b[22m\u001b[39m\t\u001b[0mrcx\u001b[0m, \u001b[0mrax\n",
      "\t\u001b[96m\u001b[1mje\u001b[22m\u001b[39m\t\u001b[0m.LBB0_2\n",
      "\u001b[90m# %bb.1:                                # %idxend\u001b[39m\n",
      "\t\u001b[96m\u001b[1mmovabs\u001b[22m\u001b[39m\t\u001b[0mrdx\u001b[0m, \u001b[95moffset\u001b[39m \u001b[0m.LCPI0_0\n",
      "\t\u001b[96m\u001b[1mmov\u001b[22m\u001b[39m\t\u001b[0mrax\u001b[0m, \u001b[95mqword\u001b[39m \u001b[95mptr\u001b[39m \u001b[33m[\u001b[39m\u001b[0mrcx\u001b[33m]\u001b[39m\n",
      "\t\u001b[96m\u001b[1mvmovaps\u001b[22m\u001b[39m\t\u001b[0mymm0\u001b[0m, \u001b[95mymmword\u001b[39m \u001b[95mptr\u001b[39m \u001b[33m[\u001b[39m\u001b[0mrdx\u001b[33m]\u001b[39m\n",
      "\t\u001b[96m\u001b[1mmovabs\u001b[22m\u001b[39m\t\u001b[0mrdx\u001b[0m, \u001b[95moffset\u001b[39m \u001b[0m.LCPI0_1\n",
      "\t\u001b[96m\u001b[1mvmovaps\u001b[22m\u001b[39m\t\u001b[0mymm2\u001b[0m, \u001b[95mymmword\u001b[39m \u001b[95mptr\u001b[39m \u001b[33m[\u001b[39m\u001b[0mrdx\u001b[33m]\u001b[39m\n",
      "\t\u001b[96m\u001b[1mmovabs\u001b[22m\u001b[39m\t\u001b[0mrdx\u001b[0m, \u001b[95moffset\u001b[39m \u001b[0m.LCPI0_2\n",
      "\t\u001b[96m\u001b[1mvmovaps\u001b[22m\u001b[39m\t\u001b[0mxmm1\u001b[0m, \u001b[95mxmmword\u001b[39m \u001b[95mptr\u001b[39m \u001b[33m[\u001b[39m\u001b[0mrdx\u001b[33m]\u001b[39m\n",
      "\t\u001b[96m\u001b[1mvmovups\u001b[22m\u001b[39m\t\u001b[95mymmword\u001b[39m \u001b[95mptr\u001b[39m \u001b[33m[\u001b[39m\u001b[0mrax\u001b[33m]\u001b[39m\u001b[0m, \u001b[0mymm0\n",
      "\t\u001b[96m\u001b[1mvmovups\u001b[22m\u001b[39m\t\u001b[95mymmword\u001b[39m \u001b[95mptr\u001b[39m \u001b[33m[\u001b[39m\u001b[0mrax \u001b[0m+ \u001b[33m32\u001b[39m\u001b[33m]\u001b[39m\u001b[0m, \u001b[0mymm2\n",
      "\t\u001b[96m\u001b[1mvmovups\u001b[22m\u001b[39m\t\u001b[95mxmmword\u001b[39m \u001b[95mptr\u001b[39m \u001b[33m[\u001b[39m\u001b[0mrax \u001b[0m+ \u001b[33m64\u001b[39m\u001b[33m]\u001b[39m\u001b[0m, \u001b[0mxmm1\n",
      "\t\u001b[96m\u001b[1mmov\u001b[22m\u001b[39m\t\u001b[0mrax\u001b[0m, \u001b[0mrcx\n",
      "\t\u001b[96m\u001b[1mmov\u001b[22m\u001b[39m\t\u001b[0mrsp\u001b[0m, \u001b[0mrbp\n",
      "\t\u001b[96m\u001b[1mpop\u001b[22m\u001b[39m\t\u001b[0mrbp\n",
      "\t\u001b[96m\u001b[1mvzeroupper\u001b[22m\u001b[39m\n",
      "\t\u001b[96m\u001b[1mret\u001b[22m\u001b[39m\n",
      "\u001b[91m.LBB0_2:\u001b[39m                                \u001b[90m# %oob\u001b[39m\n",
      "\t\u001b[96m\u001b[1mmov\u001b[22m\u001b[39m\t\u001b[0meax\u001b[0m, \u001b[33m16\u001b[39m\n",
      "\t\u001b[96m\u001b[1mmovabs\u001b[22m\u001b[39m\t\u001b[0mr11\u001b[0m, \u001b[95moffset\u001b[39m \u001b[0m___chkstk_ms\n",
      "\t\u001b[96m\u001b[1mcall\u001b[22m\u001b[39m\t\u001b[0mr11\n",
      "\t\u001b[96m\u001b[1msub\u001b[22m\u001b[39m\t\u001b[0mrsp\u001b[0m, \u001b[0mrax\n",
      "\t\u001b[96m\u001b[1mmov\u001b[22m\u001b[39m\t\u001b[0mrdx\u001b[0m, \u001b[0mrsp\n",
      "\t\u001b[96m\u001b[1mmov\u001b[22m\u001b[39m\t\u001b[95mqword\u001b[39m \u001b[95mptr\u001b[39m \u001b[33m[\u001b[39m\u001b[0mrdx\u001b[33m]\u001b[39m\u001b[0m, \u001b[33m1\u001b[39m\n",
      "\t\u001b[96m\u001b[1msub\u001b[22m\u001b[39m\t\u001b[0mrsp\u001b[0m, \u001b[33m32\u001b[39m\n",
      "\t\u001b[96m\u001b[1mmovabs\u001b[22m\u001b[39m\t\u001b[0mrax\u001b[0m, \u001b[95moffset\u001b[39m \u001b[93mijl_bounds_error_ints\u001b[39m\n",
      "\t\u001b[96m\u001b[1mmov\u001b[22m\u001b[39m\t\u001b[0mr8d\u001b[0m, \u001b[33m1\u001b[39m\n",
      "\t\u001b[96m\u001b[1mcall\u001b[22m\u001b[39m\t\u001b[0mrax\n",
      "\u001b[91m.Lfunc_end0:\u001b[39m\n",
      "\t\u001b[0m.size\t\u001b[0mjulia_f_1950\u001b[0m, \u001b[0m.Lfunc_end0-julia_f_1950\n",
      "\t\u001b[0m.cfi_endproc\n",
      "                                        \u001b[90m# -- End function\u001b[39m\n",
      "\t\u001b[0m.type\t\u001b[0m.L_j_const1\u001b[0m,\u001b[0m@object             \u001b[90m# @_j_const1\u001b[39m\n",
      "\t\u001b[0m.section\t\u001b[0m.rodata.cst8\u001b[0m,\u001b[0m\"aM\"\u001b[0m,\u001b[0m@progbits\u001b[0m,\u001b[33m8\u001b[39m\n",
      "\t\u001b[0m.p2align\t\u001b[33m3\u001b[39m\n",
      "\u001b[91m.L_j_const1:\u001b[39m\n",
      "\t\u001b[0m.quad\t\u001b[33m1\u001b[39m                               \u001b[90m# 0x1\u001b[39m\n",
      "\t\u001b[0m.size\t\u001b[0m.L_j_const1\u001b[0m, \u001b[33m8\u001b[39m\n",
      "\n",
      "\t\u001b[0m.section\t\u001b[0m\".note.GNU-stack\"\u001b[0m,\u001b[0m\"\"\u001b[0m,\u001b[0m@progbits\n"
     ]
    }
   ],
   "source": [
    "@code_native debuginfo=:none f()"
   ]
  },
  {
   "cell_type": "markdown",
   "metadata": {},
   "source": [
    "Let's see how these tools can help us understand some of Julia's internals on examples from previous labs and lectures.\n",
    "\n",
    "### Understanding runtime dispatch and type instabilities\n",
    "We will start with a question: Can we spot internally some difference between type stable/unstable code?"
   ]
  },
  {
   "cell_type": "markdown",
   "metadata": {},
   "source": [
    "<div class=\"alert alert-block alert-success\">\n",
    "<b>Exercise:</b> \n",
    "Inspect the following two functions using `@code_lowered`, `@code_typed`, `@code_llvm` and `@code_native`.\n",
    "\n",
    "```julia\n",
    "x = rand(10^5)\n",
    "function explicit_len(x)\n",
    "    length(x)\n",
    "end\n",
    "function implicit_len()\n",
    "    length(x)\n",
    "end\n",
    "```\n",
    "\n",
    "For now do not try to understand the details, but focus on the overall differences such as length of the code.\n",
    "\n",
    "\n",
    "<div class=\"alert alert-block alert-warning\">\n",
    "<b>info:</b> \"Redirecting `stdout`\":\n",
    "\n",
    "If the output of the method introspection tools is too long you can use a general way of redirecting standard output `stdout` to a file\n",
    "```julia\n",
    "open(\"./llvm_fun.ll\", \"w\") do file\n",
    "    original_stdout = stdout\n",
    "    redirect_stdout(file)\n",
    "    @code_llvm debuginfo=:none fun()\n",
    "    redirect_stdout(original_stdout)\n",
    "end\n",
    "```\n",
    "In case of `@code_llvm` and `@code_native` there are special options, that allow this out of the box, see help `?` for underlying `code_llvm` and `code_native`. If you don't mind adding dependencies there is also the `@capture_out` from [`Suppressor.jl`](https://github.com/JuliaIO/Suppressor.jl)\n",
    "</div>\n",
    "\n",
    "\n",
    "</div>"
   ]
  },
  {
   "cell_type": "markdown",
   "metadata": {},
   "source": [
    "<div class=\"alert alert-block alert-info\">\n",
    "<b>Solution</b>: </div>\n",
    "\n",
    "####"
   ]
  },
  {
   "cell_type": "code",
   "execution_count": 10,
   "metadata": {},
   "outputs": [
    {
     "data": {
      "text/plain": [
       "implicit_len (generic function with 1 method)"
      ]
     },
     "metadata": {},
     "output_type": "display_data"
    }
   ],
   "source": [
    "x = rand(10^5)\n",
    "function explicit_len(x)\n",
    "    length(x)\n",
    "end\n",
    "function implicit_len()\n",
    "    length(x)\n",
    "end"
   ]
  },
  {
   "cell_type": "code",
   "execution_count": 12,
   "metadata": {},
   "outputs": [
    {
     "data": {
      "text/plain": [
       "CodeInfo(\n",
       "\u001b[90m1 ─\u001b[39m %1 = Main.length(x)\n",
       "\u001b[90m└──\u001b[39m      return %1\n",
       ")"
      ]
     },
     "metadata": {},
     "output_type": "display_data"
    }
   ],
   "source": [
    "@code_lowered explicit_len(x)\n"
   ]
  },
  {
   "cell_type": "code",
   "execution_count": 13,
   "metadata": {},
   "outputs": [
    {
     "data": {
      "text/plain": [
       "CodeInfo(\n",
       "\u001b[90m1 ─\u001b[39m %1 = Main.length(Main.x)\n",
       "\u001b[90m└──\u001b[39m      return %1\n",
       ")"
      ]
     },
     "metadata": {},
     "output_type": "display_data"
    }
   ],
   "source": [
    "@code_lowered implicit_len()"
   ]
  },
  {
   "cell_type": "code",
   "execution_count": 14,
   "metadata": {},
   "outputs": [
    {
     "data": {
      "text/plain": [
       "CodeInfo(\n",
       "\u001b[90m1 ─\u001b[39m %1 = Base.arraylen(x)\u001b[36m::Int64\u001b[39m\n",
       "\u001b[90m└──\u001b[39m      return %1\n",
       ") => Int64"
      ]
     },
     "metadata": {},
     "output_type": "display_data"
    }
   ],
   "source": [
    "@code_typed explicit_len(x)"
   ]
  },
  {
   "cell_type": "code",
   "execution_count": 15,
   "metadata": {},
   "outputs": [
    {
     "data": {
      "text/plain": [
       "CodeInfo(\n",
       "\u001b[90m1 ─\u001b[39m %1 = Main.x\u001b[36m::Any\u001b[39m\n",
       "\u001b[90m│  \u001b[39m %2 = Main.length(%1)\u001b[36m::Any\u001b[39m\n",
       "\u001b[90m└──\u001b[39m      return %2\n",
       ") => Any"
      ]
     },
     "metadata": {},
     "output_type": "display_data"
    }
   ],
   "source": [
    "@code_typed implicit_len()"
   ]
  },
  {
   "cell_type": "code",
   "execution_count": 17,
   "metadata": {},
   "outputs": [
    {
     "name": "stdout",
     "output_type": "stream",
     "text": [
      "\u001b[90m;  @ c:\\Users\\peter\\Documents\\Skola\\SPJ\\cv06\\jl_notebook_cell_df34fa98e69747e1a8f8a730347b8e2f_X21sZmlsZQ==.jl:2 within `explicit_len`\u001b[39m\n",
      "\u001b[90m; Function Attrs: uwtable\u001b[39m\n",
      "\u001b[95mdefine\u001b[39m \u001b[36mi64\u001b[39m \u001b[93m@julia_explicit_len_2229\u001b[39m\u001b[33m(\u001b[39m\u001b[33m{\u001b[39m\u001b[33m}\u001b[39m\u001b[0m* \u001b[95mnoundef\u001b[39m \u001b[95mnonnull\u001b[39m \u001b[95malign\u001b[39m \u001b[33m16\u001b[39m \u001b[95mdereferenceable\u001b[39m\u001b[33m(\u001b[39m\u001b[33m40\u001b[39m\u001b[33m)\u001b[39m \u001b[0m%0\u001b[33m)\u001b[39m \u001b[0m#0 \u001b[33m{\u001b[39m\n",
      "\u001b[91mtop:\u001b[39m\n",
      "\u001b[90m;  @ c:\\Users\\peter\\Documents\\Skola\\SPJ\\cv06\\jl_notebook_cell_df34fa98e69747e1a8f8a730347b8e2f_X21sZmlsZQ==.jl:3 within `explicit_len`\u001b[39m\n",
      "\u001b[90m; ┌ @ essentials.jl:10 within `length`\u001b[39m\n",
      "   \u001b[0m%1 \u001b[0m= \u001b[96m\u001b[1mbitcast\u001b[22m\u001b[39m \u001b[33m{\u001b[39m\u001b[33m}\u001b[39m\u001b[0m* \u001b[0m%0 \u001b[95mto\u001b[39m \u001b[33m{\u001b[39m \u001b[36mi8\u001b[39m\u001b[0m*\u001b[0m, \u001b[36mi64\u001b[39m\u001b[0m, \u001b[36mi16\u001b[39m\u001b[0m, \u001b[36mi16\u001b[39m\u001b[0m, \u001b[36mi32\u001b[39m \u001b[33m}\u001b[39m\u001b[0m*\n",
      "   \u001b[0m%arraylen_ptr \u001b[0m= \u001b[96m\u001b[1mgetelementptr\u001b[22m\u001b[39m \u001b[95minbounds\u001b[39m \u001b[33m{\u001b[39m \u001b[36mi8\u001b[39m\u001b[0m*\u001b[0m, \u001b[36mi64\u001b[39m\u001b[0m, \u001b[36mi16\u001b[39m\u001b[0m, \u001b[36mi16\u001b[39m\u001b[0m, \u001b[36mi32\u001b[39m \u001b[33m}\u001b[39m\u001b[0m, \u001b[33m{\u001b[39m \u001b[36mi8\u001b[39m\u001b[0m*\u001b[0m, \u001b[36mi64\u001b[39m\u001b[0m, \u001b[36mi16\u001b[39m\u001b[0m, \u001b[36mi16\u001b[39m\u001b[0m, \u001b[36mi32\u001b[39m \u001b[33m}\u001b[39m\u001b[0m* \u001b[0m%1\u001b[0m, \u001b[36mi64\u001b[39m \u001b[33m0\u001b[39m\u001b[0m, \u001b[36mi32\u001b[39m \u001b[33m1\u001b[39m\n",
      "   \u001b[0m%arraylen \u001b[0m= \u001b[96m\u001b[1mload\u001b[22m\u001b[39m \u001b[36mi64\u001b[39m\u001b[0m, \u001b[36mi64\u001b[39m\u001b[0m* \u001b[0m%arraylen_ptr\u001b[0m, \u001b[95malign\u001b[39m \u001b[33m8\u001b[39m\n",
      "   \u001b[96m\u001b[1mret\u001b[22m\u001b[39m \u001b[36mi64\u001b[39m \u001b[0m%arraylen\n",
      "\u001b[90m; └\u001b[39m\n",
      "\u001b[33m}\u001b[39m\n"
     ]
    }
   ],
   "source": [
    "@code_llvm explicit_len(x)"
   ]
  },
  {
   "cell_type": "code",
   "execution_count": 18,
   "metadata": {},
   "outputs": [
    {
     "name": "stdout",
     "output_type": "stream",
     "text": [
      "\u001b[90m;  @ c:\\Users\\peter\\Documents\\Skola\\SPJ\\cv06\\jl_notebook_cell_df34fa98e69747e1a8f8a730347b8e2f_X21sZmlsZQ==.jl:5 within `implicit_len`\u001b[39m\n",
      "\u001b[90m; Function Attrs: uwtable\u001b[39m\n",
      "\u001b[95mdefine\u001b[39m \u001b[95mnonnull\u001b[39m \u001b[33m{\u001b[39m\u001b[33m}\u001b[39m\u001b[0m* \u001b[93m@julia_implicit_len_2231\u001b[39m\u001b[33m(\u001b[39m\u001b[33m)\u001b[39m \u001b[0m#0 \u001b[33m{\u001b[39m\n",
      "\u001b[91mtop:\u001b[39m\n",
      "  \u001b[0m%0 \u001b[0m= \u001b[96m\u001b[1malloca\u001b[22m\u001b[39m \u001b[33m{\u001b[39m\u001b[33m}\u001b[39m\u001b[0m*\u001b[0m, \u001b[95malign\u001b[39m \u001b[33m8\u001b[39m\n",
      "  \u001b[0m%gcframe2 \u001b[0m= \u001b[96m\u001b[1malloca\u001b[22m\u001b[39m \u001b[33m[\u001b[39m\u001b[33m3\u001b[39m \u001b[0mx \u001b[33m{\u001b[39m\u001b[33m}\u001b[39m\u001b[0m*\u001b[33m]\u001b[39m\u001b[0m, \u001b[95malign\u001b[39m \u001b[33m16\u001b[39m\n",
      "  \u001b[0m%gcframe2.sub \u001b[0m= \u001b[96m\u001b[1mgetelementptr\u001b[22m\u001b[39m \u001b[95minbounds\u001b[39m \u001b[33m[\u001b[39m\u001b[33m3\u001b[39m \u001b[0mx \u001b[33m{\u001b[39m\u001b[33m}\u001b[39m\u001b[0m*\u001b[33m]\u001b[39m\u001b[0m, \u001b[33m[\u001b[39m\u001b[33m3\u001b[39m \u001b[0mx \u001b[33m{\u001b[39m\u001b[33m}\u001b[39m\u001b[0m*\u001b[33m]\u001b[39m\u001b[0m* \u001b[0m%gcframe2\u001b[0m, \u001b[36mi64\u001b[39m \u001b[33m0\u001b[39m\u001b[0m, \u001b[36mi64\u001b[39m \u001b[33m0\u001b[39m\n",
      "  \u001b[0m%1 \u001b[0m= \u001b[96m\u001b[1mbitcast\u001b[22m\u001b[39m \u001b[33m[\u001b[39m\u001b[33m3\u001b[39m \u001b[0mx \u001b[33m{\u001b[39m\u001b[33m}\u001b[39m\u001b[0m*\u001b[33m]\u001b[39m\u001b[0m* \u001b[0m%gcframe2 \u001b[95mto\u001b[39m \u001b[36mi8\u001b[39m\u001b[0m*\n",
      "  \u001b[96m\u001b[1mcall\u001b[22m\u001b[39m \u001b[36mvoid\u001b[39m \u001b[93m@llvm.memset.p0i8.i64\u001b[39m\u001b[33m(\u001b[39m\u001b[36mi8\u001b[39m\u001b[0m* \u001b[95malign\u001b[39m \u001b[33m16\u001b[39m \u001b[0m%1\u001b[0m, \u001b[36mi8\u001b[39m \u001b[33m0\u001b[39m\u001b[0m, \u001b[36mi64\u001b[39m \u001b[33m24\u001b[39m\u001b[0m, \u001b[36mi1\u001b[39m \u001b[95mtrue\u001b[39m\u001b[33m)\u001b[39m\n",
      "  \u001b[0m%2 \u001b[0m= \u001b[96m\u001b[1mcall\u001b[22m\u001b[39m \u001b[33m{\u001b[39m\u001b[33m}\u001b[39m\u001b[0m*** \u001b[95minttoptr\u001b[39m \u001b[33m(\u001b[39m\u001b[36mi64\u001b[39m \u001b[33m140736243305216\u001b[39m \u001b[95mto\u001b[39m \u001b[33m{\u001b[39m\u001b[33m}\u001b[39m\u001b[0m*** \u001b[33m(\u001b[39m\u001b[33m)\u001b[39m\u001b[0m*\u001b[33m)\u001b[39m\u001b[33m(\u001b[39m\u001b[33m)\u001b[39m \u001b[0m#6\n",
      "\u001b[90m;  @ c:\\Users\\peter\\Documents\\Skola\\SPJ\\cv06\\jl_notebook_cell_df34fa98e69747e1a8f8a730347b8e2f_X21sZmlsZQ==.jl:6 within `implicit_len`\u001b[39m\n",
      "  \u001b[0m%3 \u001b[0m= \u001b[96m\u001b[1mbitcast\u001b[22m\u001b[39m \u001b[33m[\u001b[39m\u001b[33m3\u001b[39m \u001b[0mx \u001b[33m{\u001b[39m\u001b[33m}\u001b[39m\u001b[0m*\u001b[33m]\u001b[39m\u001b[0m* \u001b[0m%gcframe2 \u001b[95mto\u001b[39m \u001b[36mi64\u001b[39m\u001b[0m*\n",
      "  \u001b[96m\u001b[1mstore\u001b[22m\u001b[39m \u001b[36mi64\u001b[39m \u001b[33m4\u001b[39m\u001b[0m, \u001b[36mi64\u001b[39m\u001b[0m* \u001b[0m%3\u001b[0m, \u001b[95malign\u001b[39m \u001b[33m16\u001b[39m\n",
      "  \u001b[0m%4 \u001b[0m= \u001b[96m\u001b[1mgetelementptr\u001b[22m\u001b[39m \u001b[95minbounds\u001b[39m \u001b[33m[\u001b[39m\u001b[33m3\u001b[39m \u001b[0mx \u001b[33m{\u001b[39m\u001b[33m}\u001b[39m\u001b[0m*\u001b[33m]\u001b[39m\u001b[0m, \u001b[33m[\u001b[39m\u001b[33m3\u001b[39m \u001b[0mx \u001b[33m{\u001b[39m\u001b[33m}\u001b[39m\u001b[0m*\u001b[33m]\u001b[39m\u001b[0m* \u001b[0m%gcframe2\u001b[0m, \u001b[36mi64\u001b[39m \u001b[33m0\u001b[39m\u001b[0m, \u001b[36mi64\u001b[39m \u001b[33m1\u001b[39m\n",
      "  \u001b[0m%5 \u001b[0m= \u001b[96m\u001b[1mbitcast\u001b[22m\u001b[39m \u001b[33m{\u001b[39m\u001b[33m}\u001b[39m\u001b[0m** \u001b[0m%4 \u001b[95mto\u001b[39m \u001b[33m{\u001b[39m\u001b[33m}\u001b[39m\u001b[0m***\n",
      "  \u001b[0m%6 \u001b[0m= \u001b[96m\u001b[1mload\u001b[22m\u001b[39m \u001b[33m{\u001b[39m\u001b[33m}\u001b[39m\u001b[0m**\u001b[0m, \u001b[33m{\u001b[39m\u001b[33m}\u001b[39m\u001b[0m*** \u001b[0m%2\u001b[0m, \u001b[95malign\u001b[39m \u001b[33m8\u001b[39m\n",
      "  \u001b[96m\u001b[1mstore\u001b[22m\u001b[39m \u001b[33m{\u001b[39m\u001b[33m}\u001b[39m\u001b[0m** \u001b[0m%6\u001b[0m, \u001b[33m{\u001b[39m\u001b[33m}\u001b[39m\u001b[0m*** \u001b[0m%5\u001b[0m, \u001b[95malign\u001b[39m \u001b[33m8\u001b[39m\n",
      "  \u001b[0m%7 \u001b[0m= \u001b[96m\u001b[1mbitcast\u001b[22m\u001b[39m \u001b[33m{\u001b[39m\u001b[33m}\u001b[39m\u001b[0m*** \u001b[0m%2 \u001b[95mto\u001b[39m \u001b[33m{\u001b[39m\u001b[33m}\u001b[39m\u001b[0m***\n",
      "  \u001b[96m\u001b[1mstore\u001b[22m\u001b[39m \u001b[33m{\u001b[39m\u001b[33m}\u001b[39m\u001b[0m** \u001b[0m%gcframe2.sub\u001b[0m, \u001b[33m{\u001b[39m\u001b[33m}\u001b[39m\u001b[0m*** \u001b[0m%7\u001b[0m, \u001b[95malign\u001b[39m \u001b[33m8\u001b[39m\n",
      "  \u001b[0m%x \u001b[0m= \u001b[96m\u001b[1mload\u001b[22m\u001b[39m \u001b[95matomic\u001b[39m \u001b[33m{\u001b[39m\u001b[33m}\u001b[39m\u001b[0m*\u001b[0m, \u001b[33m{\u001b[39m\u001b[33m}\u001b[39m\u001b[0m** \u001b[95minttoptr\u001b[39m \u001b[33m(\u001b[39m\u001b[36mi64\u001b[39m \u001b[33m2367673864912\u001b[39m \u001b[95mto\u001b[39m \u001b[33m{\u001b[39m\u001b[33m}\u001b[39m\u001b[0m**\u001b[33m)\u001b[39m \u001b[95munordered\u001b[39m\u001b[0m, \u001b[95malign\u001b[39m \u001b[33m16\u001b[39m\n",
      "  \u001b[0m%8 \u001b[0m= \u001b[96m\u001b[1mgetelementptr\u001b[22m\u001b[39m \u001b[95minbounds\u001b[39m \u001b[33m[\u001b[39m\u001b[33m3\u001b[39m \u001b[0mx \u001b[33m{\u001b[39m\u001b[33m}\u001b[39m\u001b[0m*\u001b[33m]\u001b[39m\u001b[0m, \u001b[33m[\u001b[39m\u001b[33m3\u001b[39m \u001b[0mx \u001b[33m{\u001b[39m\u001b[33m}\u001b[39m\u001b[0m*\u001b[33m]\u001b[39m\u001b[0m* \u001b[0m%gcframe2\u001b[0m, \u001b[36mi64\u001b[39m \u001b[33m0\u001b[39m\u001b[0m, \u001b[36mi64\u001b[39m \u001b[33m2\u001b[39m\n",
      "  \u001b[96m\u001b[1mstore\u001b[22m\u001b[39m \u001b[33m{\u001b[39m\u001b[33m}\u001b[39m\u001b[0m* \u001b[0m%x\u001b[0m, \u001b[33m{\u001b[39m\u001b[33m}\u001b[39m\u001b[0m** \u001b[0m%8\u001b[0m, \u001b[95malign\u001b[39m \u001b[33m16\u001b[39m\n",
      "  \u001b[96m\u001b[1mstore\u001b[22m\u001b[39m \u001b[33m{\u001b[39m\u001b[33m}\u001b[39m\u001b[0m* \u001b[0m%x\u001b[0m, \u001b[33m{\u001b[39m\u001b[33m}\u001b[39m\u001b[0m** \u001b[0m%0\u001b[0m, \u001b[95malign\u001b[39m \u001b[33m8\u001b[39m\n",
      "  \u001b[0m%9 \u001b[0m= \u001b[96m\u001b[1mcall\u001b[22m\u001b[39m \u001b[95mnonnull\u001b[39m \u001b[33m{\u001b[39m\u001b[33m}\u001b[39m\u001b[0m* \u001b[93m@ijl_apply_generic\u001b[39m\u001b[33m(\u001b[39m\u001b[33m{\u001b[39m\u001b[33m}\u001b[39m\u001b[0m* \u001b[95minttoptr\u001b[39m \u001b[33m(\u001b[39m\u001b[36mi64\u001b[39m \u001b[33m140733808245344\u001b[39m \u001b[95mto\u001b[39m \u001b[33m{\u001b[39m\u001b[33m}\u001b[39m\u001b[0m*\u001b[33m)\u001b[39m\u001b[0m, \u001b[33m{\u001b[39m\u001b[33m}\u001b[39m\u001b[0m** \u001b[95mnonnull\u001b[39m \u001b[0m%0\u001b[0m, \u001b[36mi32\u001b[39m \u001b[33m1\u001b[39m\u001b[33m)\u001b[39m\n",
      "  \u001b[0m%10 \u001b[0m= \u001b[96m\u001b[1mload\u001b[22m\u001b[39m \u001b[33m{\u001b[39m\u001b[33m}\u001b[39m\u001b[0m*\u001b[0m, \u001b[33m{\u001b[39m\u001b[33m}\u001b[39m\u001b[0m** \u001b[0m%4\u001b[0m, \u001b[95malign\u001b[39m \u001b[33m8\u001b[39m\n",
      "  \u001b[0m%11 \u001b[0m= \u001b[96m\u001b[1mbitcast\u001b[22m\u001b[39m \u001b[33m{\u001b[39m\u001b[33m}\u001b[39m\u001b[0m*** \u001b[0m%2 \u001b[95mto\u001b[39m \u001b[33m{\u001b[39m\u001b[33m}\u001b[39m\u001b[0m**\n",
      "  \u001b[96m\u001b[1mstore\u001b[22m\u001b[39m \u001b[33m{\u001b[39m\u001b[33m}\u001b[39m\u001b[0m* \u001b[0m%10\u001b[0m, \u001b[33m{\u001b[39m\u001b[33m}\u001b[39m\u001b[0m** \u001b[0m%11\u001b[0m, \u001b[95malign\u001b[39m \u001b[33m8\u001b[39m\n",
      "  \u001b[96m\u001b[1mret\u001b[22m\u001b[39m \u001b[33m{\u001b[39m\u001b[33m}\u001b[39m\u001b[0m* \u001b[0m%9\n",
      "\u001b[33m}\u001b[39m\n"
     ]
    }
   ],
   "source": [
    "@code_llvm implicit_len()"
   ]
  },
  {
   "cell_type": "code",
   "execution_count": 19,
   "metadata": {},
   "outputs": [
    {
     "name": "stdout",
     "output_type": "stream",
     "text": [
      "\t\u001b[0m.text\n",
      "\t\u001b[0m.file\t\u001b[0m\"explicit_len\"\n",
      "\t\u001b[0m.globl\t\u001b[0mjulia_explicit_len_2235         \u001b[90m# -- Begin function julia_explicit_len_2235\u001b[39m\n",
      "\t\u001b[0m.p2align\t\u001b[33m4\u001b[39m\u001b[0m, \u001b[33m0x90\u001b[39m\n",
      "\t\u001b[0m.type\t\u001b[0mjulia_explicit_len_2235\u001b[0m,\u001b[0m@function\n",
      "\u001b[91mjulia_explicit_len_2235:\u001b[39m                \u001b[90m# @julia_explicit_len_2235\u001b[39m\n",
      "\u001b[90m; ┌ @ c:\\Users\\peter\\Documents\\Skola\\SPJ\\cv06\\jl_notebook_cell_df34fa98e69747e1a8f8a730347b8e2f_X21sZmlsZQ==.jl:2 within `explicit_len`\u001b[39m\n",
      "\t\u001b[0m.cfi_startproc\n",
      "\u001b[90m# %bb.0:                                # %top\u001b[39m\n",
      "\t\u001b[96m\u001b[1mpush\u001b[22m\u001b[39m\t\u001b[0mrbp\n",
      "\t\u001b[0m.cfi_def_cfa_offset \u001b[33m16\u001b[39m\n",
      "\t\u001b[0m.cfi_offset \u001b[0mrbp\u001b[0m, \u001b[33m-16\u001b[39m\n",
      "\t\u001b[96m\u001b[1mmov\u001b[22m\u001b[39m\t\u001b[0mrbp\u001b[0m, \u001b[0mrsp\n",
      "\t\u001b[0m.cfi_def_cfa_register \u001b[0mrbp\n",
      "\u001b[90m; │ @ c:\\Users\\peter\\Documents\\Skola\\SPJ\\cv06\\jl_notebook_cell_df34fa98e69747e1a8f8a730347b8e2f_X21sZmlsZQ==.jl:3 within `explicit_len`\u001b[39m\n",
      "\u001b[90m; │┌ @ essentials.jl:10 within `length`\u001b[39m\n",
      "\t\u001b[96m\u001b[1mmov\u001b[22m\u001b[39m\t\u001b[0mrax\u001b[0m, \u001b[95mqword\u001b[39m \u001b[95mptr\u001b[39m \u001b[33m[\u001b[39m\u001b[0mrcx \u001b[0m+ \u001b[33m8\u001b[39m\u001b[33m]\u001b[39m\n",
      "\t\u001b[96m\u001b[1mpop\u001b[22m\u001b[39m\t\u001b[0mrbp\n",
      "\t\u001b[96m\u001b[1mret\u001b[22m\u001b[39m\n",
      "\u001b[91m.Lfunc_end0:\u001b[39m\n",
      "\t\u001b[0m.size\t\u001b[0mjulia_explicit_len_2235\u001b[0m, \u001b[0m.Lfunc_end0-julia_explicit_len_2235\n",
      "\t\u001b[0m.cfi_endproc\n",
      "\u001b[90m; └└\u001b[39m\n",
      "                                        \u001b[90m# -- End function\u001b[39m\n",
      "\t\u001b[0m.section\t\u001b[0m\".note.GNU-stack\"\u001b[0m,\u001b[0m\"\"\u001b[0m,\u001b[0m@progbits\n"
     ]
    }
   ],
   "source": [
    "@code_native explicit_len(x)"
   ]
  },
  {
   "cell_type": "code",
   "execution_count": 21,
   "metadata": {},
   "outputs": [
    {
     "data": {
      "text/plain": [
       "VSCodeServer.IJuliaCore.IJuliaStdio{Base.PipeEndpoint, typeof(VSCodeServer.io_send_callback)}(IOContext(Base.PipeEndpoint(Base.Libc.WindowsRawSocket(0x000000000000043c) open, 0 bytes waiting)), VSCodeServer.io_send_callback)"
      ]
     },
     "metadata": {},
     "output_type": "display_data"
    }
   ],
   "source": [
    "open(\"./native_impl.ll\", \"w\") do file\n",
    "    original_stdout = stdout\n",
    "    redirect_stdout(file)\n",
    "    @code_native implicit_len()\n",
    "    redirect_stdout(original_stdout)\n",
    "end"
   ]
  },
  {
   "cell_type": "markdown",
   "metadata": {},
   "source": [
    "In this case we see that the generated code for such a simple operation is much longer in the type unstable case resulting in longer run times. However in the next example we will see that having longer code is not always a bad thing."
   ]
  },
  {
   "cell_type": "markdown",
   "metadata": {
    "vscode": {
     "languageId": "julia"
    }
   },
   "source": [
    "####"
   ]
  },
  {
   "cell_type": "markdown",
   "metadata": {
    "vscode": {
     "languageId": "julia"
    }
   },
   "source": [
    "### Loop unrolling\n",
    "In some cases the compiler uses loop unrolling[^1] optimization to speed up loops at the expense of binary size. The result of such optimization is removal of the loop control instructions and rewriting the loop into a repeated sequence of independent statements.\n",
    "\n",
    "[^1]: [https://en.wikipedia.org/wiki/Loop_unrolling](https://en.wikipedia.org/wiki/Loop\\_unrolling)"
   ]
  },
  {
   "cell_type": "markdown",
   "metadata": {
    "vscode": {
     "languageId": "julia"
    }
   },
   "source": [
    "<div class=\"alert alert-block alert-success\">\n",
    "<b>Exercise:</b> \n",
    "\n",
    "Inspect under what conditions does the compiler unroll the for loop in the `polynomial` function from the last [lab](@ref horner).\n",
    "```julia\n",
    "function polynomial(a, x)\n",
    "    accumulator = a[end] * one(x)\n",
    "    for i in length(a)-1:-1:1\n",
    "        accumulator = accumulator * x + a[i]\n",
    "    end\n",
    "    accumulator  \n",
    "end\n",
    "```\n",
    "\n",
    "Compare the speed of execution with and without loop unrolling.\n",
    "\n",
    "**HINTS**:\n",
    "- these kind of optimization are lower level than intermediate language\n",
    "- loop unrolling is possible when compiler knows the length of the input\n",
    "\n",
    "</div>"
   ]
  },
  {
   "cell_type": "markdown",
   "metadata": {
    "vscode": {
     "languageId": "julia"
    }
   },
   "source": [
    "<div class=\"alert alert-block alert-info\">\n",
    "<b>Solution</b>: </div>\n",
    "\n",
    "####"
   ]
  },
  {
   "cell_type": "code",
   "execution_count": 22,
   "metadata": {},
   "outputs": [
    {
     "data": {
      "text/plain": [
       "polynomial (generic function with 1 method)"
      ]
     },
     "metadata": {},
     "output_type": "display_data"
    }
   ],
   "source": [
    "function polynomial(a, x)\n",
    "    accumulator = a[end] * one(x)\n",
    "    for i in length(a)-1:-1:1\n",
    "        accumulator = accumulator * x + a[i]\n",
    "    end\n",
    "    accumulator  \n",
    "end"
   ]
  },
  {
   "cell_type": "code",
   "execution_count": 23,
   "metadata": {},
   "outputs": [],
   "source": [
    "using Test \n",
    "using BenchmarkTools"
   ]
  },
  {
   "cell_type": "code",
   "execution_count": 45,
   "metadata": {},
   "outputs": [
    {
     "data": {
      "text/plain": [
       "NTuple{5, Float64}"
      ]
     },
     "metadata": {},
     "output_type": "display_data"
    }
   ],
   "source": [
    "a = tuple(1.0, 2.0, 3.0, 4.0, 5.0)\n",
    "x = 0.4\n",
    "typeof(a)"
   ]
  },
  {
   "cell_type": "code",
   "execution_count": 46,
   "metadata": {},
   "outputs": [
    {
     "data": {
      "text/plain": [
       "CodeInfo(\n",
       "\u001b[90m1 ─\u001b[39m %1  = Base.getfield(a, 5, true)\u001b[36m::Float64\u001b[39m\n",
       "\u001b[90m│  \u001b[39m %2  = Base.mul_float(%1, 1.0)\u001b[36m::Float64\u001b[39m\n",
       "\u001b[90m└──\u001b[39m       goto #7 if not true\n",
       "\u001b[90m2 ┄\u001b[39m %4  = φ (#1 => 4, #6 => %15)\u001b[36m::Int64\u001b[39m\n",
       "\u001b[90m│  \u001b[39m %5  = φ (#1 => 4, #6 => %16)\u001b[36m::Int64\u001b[39m\n",
       "\u001b[90m│  \u001b[39m %6  = φ (#1 => %2, #6 => %9)\u001b[36m::Float64\u001b[39m\n",
       "\u001b[90m│  \u001b[39m %7  = Base.mul_float(%6, x)\u001b[36m::Float64\u001b[39m\n",
       "\u001b[90m│  \u001b[39m %8  = Base.getfield(a, %4, true)\u001b[36m::Float64\u001b[39m\n",
       "\u001b[90m│  \u001b[39m %9  = Base.add_float(%7, %8)\u001b[36m::Float64\u001b[39m\n",
       "\u001b[90m│  \u001b[39m %10 = (%5 === 1)\u001b[36m::Bool\u001b[39m\n",
       "\u001b[90m└──\u001b[39m       goto #4 if not %10\n",
       "\u001b[90m3 ─\u001b[39m       goto #5\n",
       "\u001b[90m4 ─\u001b[39m %13 = Base.add_int(%5, -1)\u001b[36m::Int64\u001b[39m\n",
       "\u001b[90m└──\u001b[39m       goto #5\n",
       "\u001b[90m5 ┄\u001b[39m %15 = φ (#4 => %13)\u001b[36m::Int64\u001b[39m\n",
       "\u001b[90m│  \u001b[39m %16 = φ (#4 => %13)\u001b[36m::Int64\u001b[39m\n",
       "\u001b[90m│  \u001b[39m %17 = φ (#3 => true, #4 => false)\u001b[36m::Bool\u001b[39m\n",
       "\u001b[90m│  \u001b[39m %18 = Base.not_int(%17)\u001b[36m::Bool\u001b[39m\n",
       "\u001b[90m└──\u001b[39m       goto #7 if not %18\n",
       "\u001b[90m6 ─\u001b[39m       goto #2\n",
       "\u001b[90m7 ┄\u001b[39m %21 = φ (#5 => %9, #1 => %2)\u001b[36m::Float64\u001b[39m\n",
       "\u001b[90m└──\u001b[39m       return %21\n",
       ") => Float64"
      ]
     },
     "metadata": {},
     "output_type": "display_data"
    }
   ],
   "source": [
    "@code_typed polynomial(a, x)"
   ]
  },
  {
   "cell_type": "code",
   "execution_count": 47,
   "metadata": {},
   "outputs": [
    {
     "name": "stdout",
     "output_type": "stream",
     "text": [
      "\t\u001b[0m.text\n",
      "\t\u001b[0m.file\t\u001b[0m\"polynomial\"\n",
      "\t\u001b[0m.globl\t\u001b[0mjulia_polynomial_2927           \u001b[90m# -- Begin function julia_polynomial_2927\u001b[39m\n",
      "\t\u001b[0m.p2align\t\u001b[33m4\u001b[39m\u001b[0m, \u001b[33m0x90\u001b[39m\n",
      "\t\u001b[0m.type\t\u001b[0mjulia_polynomial_2927\u001b[0m,\u001b[0m@function\n",
      "\u001b[91mjulia_polynomial_2927:\u001b[39m                  \u001b[90m# @julia_polynomial_2927\u001b[39m\n",
      "\u001b[90m; ┌ @ c:\\Users\\peter\\Documents\\Skola\\SPJ\\cv06\\jl_notebook_cell_df34fa98e69747e1a8f8a730347b8e2f_X35sZmlsZQ==.jl:1 within `polynomial`\u001b[39m\n",
      "\t\u001b[0m.cfi_startproc\n",
      "\u001b[90m# %bb.0:                                # %pass.3\u001b[39m\n",
      "\t\u001b[96m\u001b[1mpush\u001b[22m\u001b[39m\t\u001b[0mrbp\n",
      "\t\u001b[0m.cfi_def_cfa_offset \u001b[33m16\u001b[39m\n",
      "\t\u001b[0m.cfi_offset \u001b[0mrbp\u001b[0m, \u001b[33m-16\u001b[39m\n",
      "\t\u001b[96m\u001b[1mmov\u001b[22m\u001b[39m\t\u001b[0mrbp\u001b[0m, \u001b[0mrsp\n",
      "\t\u001b[0m.cfi_def_cfa_register \u001b[0mrbp\n",
      "\u001b[90m; │ @ c:\\Users\\peter\\Documents\\Skola\\SPJ\\cv06\\jl_notebook_cell_df34fa98e69747e1a8f8a730347b8e2f_X35sZmlsZQ==.jl:4 within `polynomial`\u001b[39m\n",
      "\u001b[90m; │┌ @ float.jl:411 within `*`\u001b[39m\n",
      "\t\u001b[96m\u001b[1mvmulsd\u001b[22m\u001b[39m\t\u001b[0mxmm0\u001b[0m, \u001b[0mxmm1\u001b[0m, \u001b[95mqword\u001b[39m \u001b[95mptr\u001b[39m \u001b[33m[\u001b[39m\u001b[0mrcx \u001b[0m+ \u001b[33m32\u001b[39m\u001b[33m]\u001b[39m\n",
      "\u001b[90m; │└\u001b[39m\n",
      "\u001b[90m; │┌ @ float.jl:409 within `+`\u001b[39m\n",
      "\t\u001b[96m\u001b[1mvaddsd\u001b[22m\u001b[39m\t\u001b[0mxmm0\u001b[0m, \u001b[0mxmm0\u001b[0m, \u001b[95mqword\u001b[39m \u001b[95mptr\u001b[39m \u001b[33m[\u001b[39m\u001b[0mrcx \u001b[0m+ \u001b[33m24\u001b[39m\u001b[33m]\u001b[39m\n",
      "\u001b[90m; │└\u001b[39m\n",
      "\u001b[90m; │┌ @ float.jl:411 within `*`\u001b[39m\n",
      "\t\u001b[96m\u001b[1mvmulsd\u001b[22m\u001b[39m\t\u001b[0mxmm0\u001b[0m, \u001b[0mxmm0\u001b[0m, \u001b[0mxmm1\n",
      "\u001b[90m; │└\u001b[39m\n",
      "\u001b[90m; │┌ @ float.jl:409 within `+`\u001b[39m\n",
      "\t\u001b[96m\u001b[1mvaddsd\u001b[22m\u001b[39m\t\u001b[0mxmm0\u001b[0m, \u001b[0mxmm0\u001b[0m, \u001b[95mqword\u001b[39m \u001b[95mptr\u001b[39m \u001b[33m[\u001b[39m\u001b[0mrcx \u001b[0m+ \u001b[33m16\u001b[39m\u001b[33m]\u001b[39m\n",
      "\u001b[90m; │└\u001b[39m\n",
      "\u001b[90m; │┌ @ float.jl:411 within `*`\u001b[39m\n",
      "\t\u001b[96m\u001b[1mvmulsd\u001b[22m\u001b[39m\t\u001b[0mxmm0\u001b[0m, \u001b[0mxmm0\u001b[0m, \u001b[0mxmm1\n",
      "\u001b[90m; │└\u001b[39m\n",
      "\u001b[90m; │┌ @ float.jl:409 within `+`\u001b[39m\n",
      "\t\u001b[96m\u001b[1mvaddsd\u001b[22m\u001b[39m\t\u001b[0mxmm0\u001b[0m, \u001b[0mxmm0\u001b[0m, \u001b[95mqword\u001b[39m \u001b[95mptr\u001b[39m \u001b[33m[\u001b[39m\u001b[0mrcx \u001b[0m+ \u001b[33m8\u001b[39m\u001b[33m]\u001b[39m\n",
      "\u001b[90m; │└\u001b[39m\n",
      "\u001b[90m; │┌ @ float.jl:411 within `*`\u001b[39m\n",
      "\t\u001b[96m\u001b[1mvmulsd\u001b[22m\u001b[39m\t\u001b[0mxmm0\u001b[0m, \u001b[0mxmm0\u001b[0m, \u001b[0mxmm1\n",
      "\u001b[90m; │└\u001b[39m\n",
      "\u001b[90m; │┌ @ float.jl:409 within `+`\u001b[39m\n",
      "\t\u001b[96m\u001b[1mvaddsd\u001b[22m\u001b[39m\t\u001b[0mxmm0\u001b[0m, \u001b[0mxmm0\u001b[0m, \u001b[95mqword\u001b[39m \u001b[95mptr\u001b[39m \u001b[33m[\u001b[39m\u001b[0mrcx\u001b[33m]\u001b[39m\n",
      "\u001b[90m; │└\u001b[39m\n",
      "\u001b[90m; │ @ c:\\Users\\peter\\Documents\\Skola\\SPJ\\cv06\\jl_notebook_cell_df34fa98e69747e1a8f8a730347b8e2f_X35sZmlsZQ==.jl:5 within `polynomial`\u001b[39m\n",
      "\t\u001b[96m\u001b[1mpop\u001b[22m\u001b[39m\t\u001b[0mrbp\n",
      "\t\u001b[96m\u001b[1mret\u001b[22m\u001b[39m\n",
      "\u001b[91m.Lfunc_end0:\u001b[39m\n",
      "\t\u001b[0m.size\t\u001b[0mjulia_polynomial_2927\u001b[0m, \u001b[0m.Lfunc_end0-julia_polynomial_2927\n",
      "\t\u001b[0m.cfi_endproc\n",
      "\u001b[90m; └\u001b[39m\n",
      "                                        \u001b[90m# -- End function\u001b[39m\n",
      "\t\u001b[0m.section\t\u001b[0m\".note.GNU-stack\"\u001b[0m,\u001b[0m\"\"\u001b[0m,\u001b[0m@progbits\n"
     ]
    }
   ],
   "source": [
    "@code_native polynomial(a, x)"
   ]
  },
  {
   "cell_type": "code",
   "execution_count": 41,
   "metadata": {},
   "outputs": [
    {
     "data": {
      "text/plain": [
       "BenchmarkTools.Trial: 10000 samples with 997 evaluations.\n",
       " Range \u001b[90m(\u001b[39m\u001b[36m\u001b[1mmin\u001b[22m\u001b[39m … \u001b[35mmax\u001b[39m\u001b[90m):  \u001b[39m\u001b[36m\u001b[1m22.267 ns\u001b[22m\u001b[39m … \u001b[35m172.417 ns\u001b[39m  \u001b[90m┊\u001b[39m GC \u001b[90m(\u001b[39mmin … max\u001b[90m): \u001b[39m0.00% … 0.00%\n",
       " Time  \u001b[90m(\u001b[39m\u001b[34m\u001b[1mmedian\u001b[22m\u001b[39m\u001b[90m):     \u001b[39m\u001b[34m\u001b[1m27.583 ns               \u001b[22m\u001b[39m\u001b[90m┊\u001b[39m GC \u001b[90m(\u001b[39mmedian\u001b[90m):    \u001b[39m0.00%\n",
       " Time  \u001b[90m(\u001b[39m\u001b[32m\u001b[1mmean\u001b[22m\u001b[39m ± \u001b[32mσ\u001b[39m\u001b[90m):   \u001b[39m\u001b[32m\u001b[1m27.946 ns\u001b[22m\u001b[39m ± \u001b[32m  3.344 ns\u001b[39m  \u001b[90m┊\u001b[39m GC \u001b[90m(\u001b[39mmean ± σ\u001b[90m):  \u001b[39m0.00% ± 0.00%\n",
       "\n",
       "  \u001b[39m \u001b[39m \u001b[39m \u001b[39m \u001b[39m \u001b[39m \u001b[39m \u001b[39m \u001b[39m \u001b[39m \u001b[39m \u001b[39m \u001b[39m \u001b[39m \u001b[39m \u001b[39m \u001b[39m \u001b[39m \u001b[39m█\u001b[39m█\u001b[34m▃\u001b[39m\u001b[32m \u001b[39m\u001b[39m \u001b[39m \u001b[39m \u001b[39m \u001b[39m \u001b[39m \u001b[39m \u001b[39m \u001b[39m \u001b[39m \u001b[39m \u001b[39m \u001b[39m \u001b[39m \u001b[39m \u001b[39m \u001b[39m \u001b[39m \u001b[39m \u001b[39m \u001b[39m \u001b[39m \u001b[39m \u001b[39m \u001b[39m \u001b[39m \u001b[39m \u001b[39m \u001b[39m \u001b[39m \u001b[39m \u001b[39m \u001b[39m \u001b[39m \u001b[39m \u001b[39m \u001b[39m \u001b[39m \u001b[39m \u001b[39m \n",
       "  \u001b[39m▁\u001b[39m▁\u001b[39m▁\u001b[39m▁\u001b[39m▂\u001b[39m▂\u001b[39m▂\u001b[39m▂\u001b[39m▆\u001b[39m▇\u001b[39m▇\u001b[39m▆\u001b[39m▃\u001b[39m▂\u001b[39m▂\u001b[39m▃\u001b[39m▄\u001b[39m▄\u001b[39m█\u001b[39m█\u001b[34m█\u001b[39m\u001b[32m▆\u001b[39m\u001b[39m▆\u001b[39m▅\u001b[39m▄\u001b[39m▅\u001b[39m▅\u001b[39m▄\u001b[39m▃\u001b[39m▃\u001b[39m▃\u001b[39m▂\u001b[39m▂\u001b[39m▃\u001b[39m▂\u001b[39m▂\u001b[39m▂\u001b[39m▂\u001b[39m▂\u001b[39m▂\u001b[39m▁\u001b[39m▁\u001b[39m▁\u001b[39m▁\u001b[39m▁\u001b[39m▁\u001b[39m▁\u001b[39m▁\u001b[39m▁\u001b[39m▁\u001b[39m▁\u001b[39m▁\u001b[39m▁\u001b[39m▁\u001b[39m▁\u001b[39m▁\u001b[39m▁\u001b[39m▁\u001b[39m▁\u001b[39m▁\u001b[39m \u001b[39m▂\n",
       "  22.3 ns\u001b[90m         Histogram: frequency by time\u001b[39m         38.6 ns \u001b[0m\u001b[1m<\u001b[22m\n",
       "\n",
       " Memory estimate\u001b[90m: \u001b[39m\u001b[33m16 bytes\u001b[39m, allocs estimate\u001b[90m: \u001b[39m\u001b[33m1\u001b[39m."
      ]
     },
     "metadata": {},
     "output_type": "display_data"
    }
   ],
   "source": [
    "@benchmark polynomial(a, x)"
   ]
  },
  {
   "cell_type": "code",
   "execution_count": 48,
   "metadata": {},
   "outputs": [
    {
     "data": {
      "text/plain": [
       "Vector{Int64}\u001b[90m (alias for \u001b[39m\u001b[90mArray{Int64, 1}\u001b[39m\u001b[90m)\u001b[39m"
      ]
     },
     "metadata": {},
     "output_type": "display_data"
    }
   ],
   "source": [
    "a = [1, 2, 3, 4, 5]\n",
    "typeof(a)"
   ]
  },
  {
   "cell_type": "code",
   "execution_count": 49,
   "metadata": {},
   "outputs": [
    {
     "data": {
      "text/plain": [
       "CodeInfo(\n",
       "\u001b[90m1 ──\u001b[39m %1  = Base.arraysize(a, 1)\u001b[36m::Int64\u001b[39m\n",
       "\u001b[90m│   \u001b[39m %2  = Base.slt_int(%1, 0)\u001b[36m::Bool\u001b[39m\n",
       "\u001b[90m│   \u001b[39m %3  = Core.ifelse(%2, 0, %1)\u001b[36m::Int64\u001b[39m\n",
       "\u001b[90m│   \u001b[39m %4  = Base.arrayref(true, a, %3)\u001b[36m::Int64\u001b[39m\n",
       "\u001b[90m│   \u001b[39m %5  = Base.sitofp(Float64, %4)\u001b[36m::Float64\u001b[39m\n",
       "\u001b[90m│   \u001b[39m %6  = Base.mul_float(%5, 1.0)\u001b[36m::Float64\u001b[39m\n",
       "\u001b[90m│   \u001b[39m %7  = Base.arraylen(a)\u001b[36m::Int64\u001b[39m\n",
       "\u001b[90m│   \u001b[39m %8  = Base.sub_int(%7, 1)\u001b[36m::Int64\u001b[39m\n",
       "\u001b[90m└───\u001b[39m       goto #3 if not true\n",
       "\u001b[90m2 ──\u001b[39m       nothing\u001b[90m::Nothing\u001b[39m\n",
       "\u001b[90m3 ┄─\u001b[39m       goto #5\n",
       "\u001b[90m4 ──\u001b[39m       nothing\u001b[90m::Nothing\u001b[39m\n",
       "\u001b[90m5 ┄─\u001b[39m %13 = (1 === %8)\u001b[36m::Bool\u001b[39m\n",
       "\u001b[90m└───\u001b[39m       goto #7 if not %13\n",
       "\u001b[90m6 ──\u001b[39m       goto #23\n",
       "\u001b[90m7 ──\u001b[39m %16 = Base.slt_int(%8, 1)\u001b[36m::Bool\u001b[39m\n",
       "\u001b[90m│   \u001b[39m %17 = (false === %16)\u001b[36m::Bool\u001b[39m\n",
       "\u001b[90m│   \u001b[39m %18 = Base.not_int(%17)\u001b[36m::Bool\u001b[39m\n",
       "\u001b[90m└───\u001b[39m       goto #12 if not %18\n",
       "\u001b[90m8 ──\u001b[39m       goto #10\n",
       "\u001b[90m9 ──\u001b[39m       nothing\u001b[90m::Nothing\u001b[39m\n",
       "\u001b[90m10 ┄\u001b[39m %22 = Base.add_int(%8, 1)\u001b[36m::Int64\u001b[39m\n",
       "\u001b[90m└───\u001b[39m       goto #11\n",
       "\u001b[90m11 ─\u001b[39m       goto #23\n",
       "\u001b[90m12 ─\u001b[39m %25 = Base.slt_int(%8, 1)\u001b[36m::Bool\u001b[39m\n",
       "\u001b[90m└───\u001b[39m       goto #14 if not %25\n",
       "\u001b[90m13 ─\u001b[39m %27 = Base.sub_int(1, %8)\u001b[36m::Int64\u001b[39m\n",
       "\u001b[90m└───\u001b[39m       goto #15\n",
       "\u001b[90m14 ─\u001b[39m %29 = Base.sub_int(%8, 1)\u001b[36m::Int64\u001b[39m\n",
       "\u001b[90m15 ┄\u001b[39m %30 = φ (#13 => %27, #14 => %29)\u001b[36m::Int64\u001b[39m\n",
       "\u001b[90m│   \u001b[39m %31 = φ (#13 => -1, #14 => 1)\u001b[36m::Int64\u001b[39m\n",
       "\u001b[90m└───\u001b[39m       goto #18 if not true\n",
       "\u001b[90m16 ─\u001b[39m %33 = Base.slt_int(%30, 0)\u001b[36m::Bool\u001b[39m\n",
       "\u001b[90m└───\u001b[39m       goto #18 if not %33\n",
       "\u001b[90m17 ─\u001b[39m %35 = invoke Base.var\"#overflow_case#78\"()(%30::Int64, %31::Int64)\u001b[36m::Int64\u001b[39m\n",
       "\u001b[90m└───\u001b[39m       goto #19\n",
       "\u001b[90m18 ┄\u001b[39m %37 = Base.checked_srem_int(%30, %31)\u001b[36m::Int64\u001b[39m\n",
       "\u001b[90m19 ┄\u001b[39m %38 = φ (#17 => %35, #18 => %37)\u001b[36m::Int64\u001b[39m\n",
       "\u001b[90m│   \u001b[39m %39 = Base.slt_int(%8, 1)\u001b[36m::Bool\u001b[39m\n",
       "\u001b[90m└───\u001b[39m       goto #21 if not %39\n",
       "\u001b[90m20 ─\u001b[39m %41 = Base.sub_int(1, %38)\u001b[36m::Int64\u001b[39m\n",
       "\u001b[90m└───\u001b[39m       goto #22\n",
       "\u001b[90m21 ─\u001b[39m %43 = Base.add_int(1, %38)\u001b[36m::Int64\u001b[39m\n",
       "\u001b[90m22 ┄\u001b[39m %44 = φ (#20 => %41, #21 => %43)\u001b[36m::Int64\u001b[39m\n",
       "\u001b[90m23 ┄\u001b[39m %45 = φ (#6 => 1, #11 => %22, #22 => %44)\u001b[36m::Int64\u001b[39m\n",
       "\u001b[90m└───\u001b[39m       goto #24\n",
       "\u001b[90m24 ─\u001b[39m       goto #25\n",
       "\u001b[90m25 ─\u001b[39m       goto #26\n",
       "\u001b[90m26 ─\u001b[39m       goto #27\n",
       "\u001b[90m27 ─\u001b[39m       goto #28\n",
       "\u001b[90m28 ─\u001b[39m %51 = (%8 === %45)\u001b[36m::Bool\u001b[39m\n",
       "\u001b[90m│   \u001b[39m %52 = Base.not_int(%51)\u001b[36m::Bool\u001b[39m\n",
       "\u001b[90m│   \u001b[39m %53 = Base.slt_int(%8, %45)\u001b[36m::Bool\u001b[39m\n",
       "\u001b[90m│   \u001b[39m %54 = (false === %53)\u001b[36m::Bool\u001b[39m\n",
       "\u001b[90m│   \u001b[39m %55 = Base.not_int(%54)\u001b[36m::Bool\u001b[39m\n",
       "\u001b[90m│   \u001b[39m %56 = Base.and_int(%52, %55)\u001b[36m::Bool\u001b[39m\n",
       "\u001b[90m└───\u001b[39m       goto #30 if not %56\n",
       "\u001b[90m29 ─\u001b[39m       goto #31\n",
       "\u001b[90m30 ─\u001b[39m       goto #31\n",
       "\u001b[90m31 ┄\u001b[39m %60 = φ (#29 => true, #30 => false)\u001b[36m::Bool\u001b[39m\n",
       "\u001b[90m│   \u001b[39m %61 = φ (#30 => %8)\u001b[36m::Int64\u001b[39m\n",
       "\u001b[90m│   \u001b[39m %62 = φ (#30 => %8)\u001b[36m::Int64\u001b[39m\n",
       "\u001b[90m│   \u001b[39m %63 = Base.not_int(%60)\u001b[36m::Bool\u001b[39m\n",
       "\u001b[90m└───\u001b[39m       goto #37 if not %63\n",
       "\u001b[90m32 ┄\u001b[39m %65 = φ (#31 => %61, #36 => %77)\u001b[36m::Int64\u001b[39m\n",
       "\u001b[90m│   \u001b[39m %66 = φ (#31 => %62, #36 => %78)\u001b[36m::Int64\u001b[39m\n",
       "\u001b[90m│   \u001b[39m %67 = φ (#31 => %6, #36 => %71)\u001b[36m::Float64\u001b[39m\n",
       "\u001b[90m│   \u001b[39m %68 = Base.mul_float(%67, x)\u001b[36m::Float64\u001b[39m\n",
       "\u001b[90m│   \u001b[39m %69 = Base.arrayref(true, a, %65)\u001b[36m::Int64\u001b[39m\n",
       "\u001b[90m│   \u001b[39m %70 = Base.sitofp(Float64, %69)\u001b[36m::Float64\u001b[39m\n",
       "\u001b[90m│   \u001b[39m %71 = Base.add_float(%68, %70)\u001b[36m::Float64\u001b[39m\n",
       "\u001b[90m│   \u001b[39m %72 = (%66 === %45)\u001b[36m::Bool\u001b[39m\n",
       "\u001b[90m└───\u001b[39m       goto #34 if not %72\n",
       "\u001b[90m33 ─\u001b[39m       goto #35\n",
       "\u001b[90m34 ─\u001b[39m %75 = Base.add_int(%66, -1)\u001b[36m::Int64\u001b[39m\n",
       "\u001b[90m└───\u001b[39m       goto #35\n",
       "\u001b[90m35 ┄\u001b[39m %77 = φ (#34 => %75)\u001b[36m::Int64\u001b[39m\n",
       "\u001b[90m│   \u001b[39m %78 = φ (#34 => %75)\u001b[36m::Int64\u001b[39m\n",
       "\u001b[90m│   \u001b[39m %79 = φ (#33 => true, #34 => false)\u001b[36m::Bool\u001b[39m\n",
       "\u001b[90m│   \u001b[39m %80 = Base.not_int(%79)\u001b[36m::Bool\u001b[39m\n",
       "\u001b[90m└───\u001b[39m       goto #37 if not %80\n",
       "\u001b[90m36 ─\u001b[39m       goto #32\n",
       "\u001b[90m37 ┄\u001b[39m %83 = φ (#35 => %71, #31 => %6)\u001b[36m::Float64\u001b[39m\n",
       "\u001b[90m└───\u001b[39m       return %83\n",
       ") => Float64"
      ]
     },
     "metadata": {},
     "output_type": "display_data"
    }
   ],
   "source": [
    "@code_typed polynomial(a, x)"
   ]
  },
  {
   "cell_type": "code",
   "execution_count": 50,
   "metadata": {},
   "outputs": [
    {
     "name": "stdout",
     "output_type": "stream",
     "text": [
      "\t\u001b[0m.text\n",
      "\t\u001b[0m.file\t\u001b[0m\"polynomial\"\n",
      "\t\u001b[0m.globl\t\u001b[0mjulia_polynomial_2929           \u001b[90m# -- Begin function julia_polynomial_2929\u001b[39m\n",
      "\t\u001b[0m.p2align\t\u001b[33m4\u001b[39m\u001b[0m, \u001b[33m0x90\u001b[39m\n",
      "\t\u001b[0m.type\t\u001b[0mjulia_polynomial_2929\u001b[0m,\u001b[0m@function\n",
      "\u001b[91mjulia_polynomial_2929:\u001b[39m                  \u001b[90m# @julia_polynomial_2929\u001b[39m\n",
      "\u001b[90m; ┌ @ c:\\Users\\peter\\Documents\\Skola\\SPJ\\cv06\\jl_notebook_cell_df34fa98e69747e1a8f8a730347b8e2f_X35sZmlsZQ==.jl:1 within `polynomial`\u001b[39m\n",
      "\t\u001b[0m.cfi_startproc\n",
      "\u001b[90m# %bb.0:                                # %top\u001b[39m\n",
      "\t\u001b[96m\u001b[1mpush\u001b[22m\u001b[39m\t\u001b[0mrbp\n",
      "\t\u001b[0m.cfi_def_cfa_offset \u001b[33m16\u001b[39m\n",
      "\t\u001b[0m.cfi_offset \u001b[0mrbp\u001b[0m, \u001b[33m-16\u001b[39m\n",
      "\t\u001b[96m\u001b[1mmov\u001b[22m\u001b[39m\t\u001b[0mrbp\u001b[0m, \u001b[0mrsp\n",
      "\t\u001b[0m.cfi_def_cfa_register \u001b[0mrbp\n",
      "\u001b[90m; │ @ c:\\Users\\peter\\Documents\\Skola\\SPJ\\cv06\\jl_notebook_cell_df34fa98e69747e1a8f8a730347b8e2f_X35sZmlsZQ==.jl:2 within `polynomial`\u001b[39m\n",
      "\u001b[90m; │┌ @ abstractarray.jl:426 within `lastindex`\u001b[39m\n",
      "\u001b[90m; ││┌ @ abstractarray.jl:389 within `eachindex`\u001b[39m\n",
      "\u001b[90m; │││┌ @ abstractarray.jl:137 within `axes1`\u001b[39m\n",
      "\u001b[90m; ││││┌ @ abstractarray.jl:98 within `axes`\u001b[39m\n",
      "\u001b[90m; │││││┌ @ array.jl:191 within `size`\u001b[39m\n",
      "\t\u001b[96m\u001b[1mmov\u001b[22m\u001b[39m\t\u001b[0mrax\u001b[0m, \u001b[95mqword\u001b[39m \u001b[95mptr\u001b[39m \u001b[33m[\u001b[39m\u001b[0mrcx \u001b[0m+ \u001b[33m8\u001b[39m\u001b[33m]\u001b[39m\n",
      "\u001b[90m; │└└└└└\u001b[39m\n",
      "\u001b[90m; │┌ @ essentials.jl:13 within `getindex`\u001b[39m\n",
      "\t\u001b[96m\u001b[1mmov\u001b[22m\u001b[39m\t\u001b[0mr8\u001b[0m, \u001b[0mrax\n",
      "\t\u001b[96m\u001b[1msub\u001b[22m\u001b[39m\t\u001b[0mr8\u001b[0m, \u001b[33m1\u001b[39m\n",
      "\t\u001b[96m\u001b[1mjb\u001b[22m\u001b[39m\t\u001b[0m.LBB0_6\n",
      "\u001b[90m# %bb.1:                                # %idxend\u001b[39m\n",
      "\t\u001b[96m\u001b[1mmov\u001b[22m\u001b[39m\t\u001b[0mrdx\u001b[0m, \u001b[95mqword\u001b[39m \u001b[95mptr\u001b[39m \u001b[33m[\u001b[39m\u001b[0mrcx\u001b[33m]\u001b[39m\n",
      "\u001b[90m; │└\u001b[39m\n",
      "\u001b[90m; │┌ @ promotion.jl:423 within `*`\u001b[39m\n",
      "\u001b[90m; ││┌ @ promotion.jl:393 within `promote`\u001b[39m\n",
      "\u001b[90m; │││┌ @ promotion.jl:370 within `_promote`\u001b[39m\n",
      "\u001b[90m; ││││┌ @ number.jl:7 within `convert`\u001b[39m\n",
      "\u001b[90m; │││││┌ @ float.jl:159 within `Float64`\u001b[39m\n",
      "\t\u001b[96m\u001b[1mvcvtsi2sd\u001b[22m\u001b[39m\t\u001b[0mxmm0\u001b[0m, \u001b[0mxmm0\u001b[0m, \u001b[95mqword\u001b[39m \u001b[95mptr\u001b[39m \u001b[33m[\u001b[39m\u001b[0mrdx \u001b[0m+ \u001b[33m8\u001b[39m\u001b[0m*\u001b[0mr8\u001b[33m]\u001b[39m\n",
      "\u001b[90m; │└└└└└\u001b[39m\n",
      "\u001b[90m; │ @ c:\\Users\\peter\\Documents\\Skola\\SPJ\\cv06\\jl_notebook_cell_df34fa98e69747e1a8f8a730347b8e2f_X35sZmlsZQ==.jl:3 within `polynomial`\u001b[39m\n",
      "\u001b[90m; │┌ @ range.jl:22 within `Colon`\u001b[39m\n",
      "\u001b[90m; ││┌ @ range.jl:24 within `_colon`\u001b[39m\n",
      "\u001b[90m; │││┌ @ range.jl:379 within `StepRange` @ range.jl:325\u001b[39m\n",
      "\u001b[90m; ││││┌ @ range.jl:340 within `steprange_last`\u001b[39m\n",
      "\t\u001b[96m\u001b[1mje\u001b[22m\u001b[39m\t\u001b[0m.LBB0_5\n",
      "\u001b[90m# %bb.2:                                # %L65.preheader\u001b[39m\n",
      "\u001b[90m; │└└└└\u001b[39m\n",
      "\u001b[90m; │ @ c:\\Users\\peter\\Documents\\Skola\\SPJ\\cv06\\jl_notebook_cell_df34fa98e69747e1a8f8a730347b8e2f_X35sZmlsZQ==.jl:4 within `polynomial`\u001b[39m\n",
      "\u001b[90m; │┌ @ essentials.jl:13 within `getindex`\u001b[39m\n",
      "\t\u001b[96m\u001b[1mlea\u001b[22m\u001b[39m\t\u001b[0mr8\u001b[0m, \u001b[33m[\u001b[39m\u001b[0mrax \u001b[0m- \u001b[33m2\u001b[39m\u001b[33m]\u001b[39m\n",
      "\t\u001b[0m.p2align\t\u001b[33m4\u001b[39m\u001b[0m, \u001b[33m0x90\u001b[39m\n",
      "\u001b[91m.LBB0_3:\u001b[39m                                \u001b[90m# %L65\u001b[39m\n",
      "                                        \u001b[90m# =>This Inner Loop Header: Depth=1\u001b[39m\n",
      "\t\u001b[96m\u001b[1mcmp\u001b[22m\u001b[39m\t\u001b[0mr8\u001b[0m, \u001b[0mrax\n",
      "\t\u001b[96m\u001b[1mjae\u001b[22m\u001b[39m\t\u001b[0m.LBB0_7\n",
      "\u001b[90m# %bb.4:                                # %idxend16\u001b[39m\n",
      "                                        \u001b[90m#   in Loop: Header=BB0_3 Depth=1\u001b[39m\n",
      "\u001b[90m; │└\u001b[39m\n",
      "\u001b[90m; │┌ @ float.jl:411 within `*`\u001b[39m\n",
      "\t\u001b[96m\u001b[1mvmulsd\u001b[22m\u001b[39m\t\u001b[0mxmm0\u001b[0m, \u001b[0mxmm0\u001b[0m, \u001b[0mxmm1\n",
      "\u001b[90m; │└\u001b[39m\n",
      "\u001b[90m; │┌ @ promotion.jl:422 within `+`\u001b[39m\n",
      "\u001b[90m; ││┌ @ promotion.jl:393 within `promote`\u001b[39m\n",
      "\u001b[90m; │││┌ @ promotion.jl:370 within `_promote`\u001b[39m\n",
      "\u001b[90m; ││││┌ @ number.jl:7 within `convert`\u001b[39m\n",
      "\u001b[90m; │││││┌ @ float.jl:159 within `Float64`\u001b[39m\n",
      "\t\u001b[96m\u001b[1mvcvtsi2sd\u001b[22m\u001b[39m\t\u001b[0mxmm2\u001b[0m, \u001b[0mxmm3\u001b[0m, \u001b[95mqword\u001b[39m \u001b[95mptr\u001b[39m \u001b[33m[\u001b[39m\u001b[0mrdx \u001b[0m+ \u001b[33m8\u001b[39m\u001b[0m*\u001b[0mr8\u001b[33m]\u001b[39m\n",
      "\u001b[90m; │└└└└└\u001b[39m\n",
      "\u001b[90m; │ @ c:\\Users\\peter\\Documents\\Skola\\SPJ\\cv06\\jl_notebook_cell_df34fa98e69747e1a8f8a730347b8e2f_X35sZmlsZQ==.jl:5 within `polynomial`\u001b[39m\n",
      "\u001b[90m; │┌ @ range.jl:901 within `iterate`\u001b[39m\n",
      "\u001b[90m; ││┌ @ promotion.jl:521 within `==`\u001b[39m\n",
      "\t\u001b[96m\u001b[1madd\u001b[22m\u001b[39m\t\u001b[0mr8\u001b[0m, \u001b[33m-1\u001b[39m\n",
      "\u001b[90m; │└└\u001b[39m\n",
      "\u001b[90m; │ @ c:\\Users\\peter\\Documents\\Skola\\SPJ\\cv06\\jl_notebook_cell_df34fa98e69747e1a8f8a730347b8e2f_X35sZmlsZQ==.jl:4 within `polynomial`\u001b[39m\n",
      "\u001b[90m; │┌ @ promotion.jl:422 within `+` @ float.jl:409\u001b[39m\n",
      "\t\u001b[96m\u001b[1mvaddsd\u001b[22m\u001b[39m\t\u001b[0mxmm0\u001b[0m, \u001b[0mxmm0\u001b[0m, \u001b[0mxmm2\n",
      "\u001b[90m; │└\u001b[39m\n",
      "\u001b[90m; │ @ c:\\Users\\peter\\Documents\\Skola\\SPJ\\cv06\\jl_notebook_cell_df34fa98e69747e1a8f8a730347b8e2f_X35sZmlsZQ==.jl:5 within `polynomial`\u001b[39m\n",
      "\t\u001b[96m\u001b[1mjb\u001b[22m\u001b[39m\t\u001b[0m.LBB0_3\n",
      "\u001b[91m.LBB0_5:\u001b[39m                                \u001b[90m# %L83\u001b[39m\n",
      "\t\u001b[96m\u001b[1mmov\u001b[22m\u001b[39m\t\u001b[0mrsp\u001b[0m, \u001b[0mrbp\n",
      "\t\u001b[96m\u001b[1mpop\u001b[22m\u001b[39m\t\u001b[0mrbp\n",
      "\t\u001b[96m\u001b[1mret\u001b[22m\u001b[39m\n",
      "\u001b[91m.LBB0_7:\u001b[39m                                \u001b[90m# %oob14\u001b[39m\n",
      "\u001b[90m; │ @ c:\\Users\\peter\\Documents\\Skola\\SPJ\\cv06\\jl_notebook_cell_df34fa98e69747e1a8f8a730347b8e2f_X35sZmlsZQ==.jl:4 within `polynomial`\u001b[39m\n",
      "\u001b[90m; │┌ @ essentials.jl:13 within `getindex`\u001b[39m\n",
      "\t\u001b[96m\u001b[1mmov\u001b[22m\u001b[39m\t\u001b[0meax\u001b[0m, \u001b[33m16\u001b[39m\n",
      "\t\u001b[96m\u001b[1mmovabs\u001b[22m\u001b[39m\t\u001b[0mr11\u001b[0m, \u001b[95moffset\u001b[39m \u001b[0m___chkstk_ms\n",
      "\t\u001b[96m\u001b[1mcall\u001b[22m\u001b[39m\t\u001b[0mr11\n",
      "\t\u001b[96m\u001b[1msub\u001b[22m\u001b[39m\t\u001b[0mrsp\u001b[0m, \u001b[0mrax\n",
      "\t\u001b[96m\u001b[1mmov\u001b[22m\u001b[39m\t\u001b[0mrdx\u001b[0m, \u001b[0mrsp\n",
      "\t\u001b[96m\u001b[1minc\u001b[22m\u001b[39m\t\u001b[0mr8\n",
      "\t\u001b[96m\u001b[1mmov\u001b[22m\u001b[39m\t\u001b[95mqword\u001b[39m \u001b[95mptr\u001b[39m \u001b[33m[\u001b[39m\u001b[0mrdx\u001b[33m]\u001b[39m\u001b[0m, \u001b[0mr8\n",
      "\t\u001b[96m\u001b[1msub\u001b[22m\u001b[39m\t\u001b[0mrsp\u001b[0m, \u001b[33m32\u001b[39m\n",
      "\t\u001b[96m\u001b[1mmovabs\u001b[22m\u001b[39m\t\u001b[0mrax\u001b[0m, \u001b[95moffset\u001b[39m \u001b[93mijl_bounds_error_ints\u001b[39m\n",
      "\t\u001b[96m\u001b[1mmov\u001b[22m\u001b[39m\t\u001b[0mr8d\u001b[0m, \u001b[33m1\u001b[39m\n",
      "\t\u001b[96m\u001b[1mcall\u001b[22m\u001b[39m\t\u001b[0mrax\n",
      "\u001b[91m.LBB0_6:\u001b[39m                                \u001b[90m# %oob\u001b[39m\n",
      "\u001b[90m; │└\u001b[39m\n",
      "\u001b[90m; │ @ c:\\Users\\peter\\Documents\\Skola\\SPJ\\cv06\\jl_notebook_cell_df34fa98e69747e1a8f8a730347b8e2f_X35sZmlsZQ==.jl:2 within `polynomial`\u001b[39m\n",
      "\u001b[90m; │┌ @ essentials.jl:13 within `getindex`\u001b[39m\n",
      "\t\u001b[96m\u001b[1mmov\u001b[22m\u001b[39m\t\u001b[0meax\u001b[0m, \u001b[33m16\u001b[39m\n",
      "\t\u001b[96m\u001b[1mmovabs\u001b[22m\u001b[39m\t\u001b[0mr11\u001b[0m, \u001b[95moffset\u001b[39m \u001b[0m___chkstk_ms\n",
      "\t\u001b[96m\u001b[1mcall\u001b[22m\u001b[39m\t\u001b[0mr11\n",
      "\t\u001b[96m\u001b[1msub\u001b[22m\u001b[39m\t\u001b[0mrsp\u001b[0m, \u001b[0mrax\n",
      "\t\u001b[96m\u001b[1mmov\u001b[22m\u001b[39m\t\u001b[0mrdx\u001b[0m, \u001b[0mrsp\n",
      "\t\u001b[96m\u001b[1mmov\u001b[22m\u001b[39m\t\u001b[95mqword\u001b[39m \u001b[95mptr\u001b[39m \u001b[33m[\u001b[39m\u001b[0mrdx\u001b[33m]\u001b[39m\u001b[0m, \u001b[33m0\u001b[39m\n",
      "\t\u001b[96m\u001b[1msub\u001b[22m\u001b[39m\t\u001b[0mrsp\u001b[0m, \u001b[33m32\u001b[39m\n",
      "\t\u001b[96m\u001b[1mmovabs\u001b[22m\u001b[39m\t\u001b[0mrax\u001b[0m, \u001b[95moffset\u001b[39m \u001b[93mijl_bounds_error_ints\u001b[39m\n",
      "\t\u001b[96m\u001b[1mmov\u001b[22m\u001b[39m\t\u001b[0mr8d\u001b[0m, \u001b[33m1\u001b[39m\n",
      "\t\u001b[96m\u001b[1mcall\u001b[22m\u001b[39m\t\u001b[0mrax\n",
      "\u001b[91m.Lfunc_end0:\u001b[39m\n",
      "\t\u001b[0m.size\t\u001b[0mjulia_polynomial_2929\u001b[0m, \u001b[0m.Lfunc_end0-julia_polynomial_2929\n",
      "\t\u001b[0m.cfi_endproc\n",
      "\u001b[90m; └└\u001b[39m\n",
      "                                        \u001b[90m# -- End function\u001b[39m\n",
      "\t\u001b[0m.section\t\u001b[0m\".note.GNU-stack\"\u001b[0m,\u001b[0m\"\"\u001b[0m,\u001b[0m@progbits\n"
     ]
    }
   ],
   "source": [
    "@code_native polynomial(a, x)"
   ]
  },
  {
   "cell_type": "code",
   "execution_count": 44,
   "metadata": {},
   "outputs": [
    {
     "data": {
      "text/plain": [
       "BenchmarkTools.Trial: 10000 samples with 997 evaluations.\n",
       " Range \u001b[90m(\u001b[39m\u001b[36m\u001b[1mmin\u001b[22m\u001b[39m … \u001b[35mmax\u001b[39m\u001b[90m):  \u001b[39m\u001b[36m\u001b[1m23.370 ns\u001b[22m\u001b[39m … \u001b[35m81.946 ns\u001b[39m  \u001b[90m┊\u001b[39m GC \u001b[90m(\u001b[39mmin … max\u001b[90m): \u001b[39m0.00% … 0.00%\n",
       " Time  \u001b[90m(\u001b[39m\u001b[34m\u001b[1mmedian\u001b[22m\u001b[39m\u001b[90m):     \u001b[39m\u001b[34m\u001b[1m27.783 ns              \u001b[22m\u001b[39m\u001b[90m┊\u001b[39m GC \u001b[90m(\u001b[39mmedian\u001b[90m):    \u001b[39m0.00%\n",
       " Time  \u001b[90m(\u001b[39m\u001b[32m\u001b[1mmean\u001b[22m\u001b[39m ± \u001b[32mσ\u001b[39m\u001b[90m):   \u001b[39m\u001b[32m\u001b[1m27.589 ns\u001b[22m\u001b[39m ± \u001b[32m 2.432 ns\u001b[39m  \u001b[90m┊\u001b[39m GC \u001b[90m(\u001b[39mmean ± σ\u001b[90m):  \u001b[39m0.00% ± 0.00%\n",
       "\n",
       "  \u001b[39m \u001b[39m \u001b[39m \u001b[39m \u001b[39m \u001b[39m \u001b[39m \u001b[39m \u001b[39m \u001b[39m \u001b[39m \u001b[39m \u001b[39m \u001b[39m \u001b[39m \u001b[39m \u001b[39m \u001b[39m \u001b[39m \u001b[39m \u001b[39m▃\u001b[32m▆\u001b[39m\u001b[34m█\u001b[39m\u001b[39m▇\u001b[39m▄\u001b[39m▃\u001b[39m▁\u001b[39m \u001b[39m \u001b[39m \u001b[39m \u001b[39m \u001b[39m \u001b[39m \u001b[39m \u001b[39m \u001b[39m \u001b[39m \u001b[39m \u001b[39m \u001b[39m \u001b[39m \u001b[39m \u001b[39m \u001b[39m \u001b[39m \u001b[39m \u001b[39m \u001b[39m \u001b[39m \u001b[39m \u001b[39m \u001b[39m \u001b[39m \u001b[39m \u001b[39m \u001b[39m \u001b[39m \u001b[39m \u001b[39m \u001b[39m \n",
       "  \u001b[39m▁\u001b[39m▂\u001b[39m▂\u001b[39m▃\u001b[39m▃\u001b[39m▅\u001b[39m▅\u001b[39m▅\u001b[39m▆\u001b[39m▇\u001b[39m▇\u001b[39m▄\u001b[39m▂\u001b[39m▂\u001b[39m▂\u001b[39m▂\u001b[39m▂\u001b[39m▃\u001b[39m▃\u001b[39m▇\u001b[39m█\u001b[32m█\u001b[39m\u001b[34m█\u001b[39m\u001b[39m█\u001b[39m█\u001b[39m█\u001b[39m█\u001b[39m▆\u001b[39m▅\u001b[39m▂\u001b[39m▃\u001b[39m▂\u001b[39m▂\u001b[39m▂\u001b[39m▂\u001b[39m▂\u001b[39m▂\u001b[39m▂\u001b[39m▁\u001b[39m▁\u001b[39m▁\u001b[39m▁\u001b[39m▁\u001b[39m▁\u001b[39m▁\u001b[39m▁\u001b[39m▁\u001b[39m▁\u001b[39m▁\u001b[39m▁\u001b[39m▁\u001b[39m▁\u001b[39m▁\u001b[39m▁\u001b[39m▁\u001b[39m▁\u001b[39m▁\u001b[39m▁\u001b[39m▁\u001b[39m \u001b[39m▃\n",
       "  23.4 ns\u001b[90m         Histogram: frequency by time\u001b[39m          35 ns \u001b[0m\u001b[1m<\u001b[22m\n",
       "\n",
       " Memory estimate\u001b[90m: \u001b[39m\u001b[33m16 bytes\u001b[39m, allocs estimate\u001b[90m: \u001b[39m\u001b[33m1\u001b[39m."
      ]
     },
     "metadata": {},
     "output_type": "display_data"
    }
   ],
   "source": [
    "@benchmark polynomial(a, x)"
   ]
  },
  {
   "cell_type": "markdown",
   "metadata": {},
   "source": [
    "####"
   ]
  },
  {
   "cell_type": "markdown",
   "metadata": {
    "vscode": {
     "languageId": "julia"
    }
   },
   "source": [
    "### Recursion inlining depth\n",
    "Inlining[^2] is another compiler optimization that allows us to speed up the code by avoiding function calls. Where applicable compiler can replace `f(args)` directly with the function body of `f`, thus removing the need to modify stack to transfer the control flow to a different place. This is yet another optimization that may improve speed at the expense of binary size.\n",
    "\n",
    "[^2]: [https://en.wikipedia.org/wiki/Inline_expansion](https://en.wikipedia.org/wiki/Inline\\_expansion)"
   ]
  },
  {
   "cell_type": "markdown",
   "metadata": {},
   "source": [
    "<div class=\"alert alert-block alert-success\">\n",
    "<b>Exercise:</b> \n",
    "\n",
    "Rewrite the `polynomial` function from the last [lab](@ref horner) using recursion and find the length of the coefficients, at which inlining of the recursive calls stops occurring.\n",
    "\n",
    "```julia\n",
    "function polynomial(a, x)\n",
    "    accumulator = a[end] * one(x)\n",
    "    for i in length(a)-1:-1:1\n",
    "        accumulator = accumulator * x + a[i]\n",
    "    end\n",
    "    accumulator  \n",
    "end\n",
    "```\n",
    "\n",
    "<div class=\"alert alert-block alert-warning\">\n",
    "<b>Note:</b> \"Splatting/slurping operator `...`\"\n",
    "\n",
    "The operator `...` serves two purposes inside function calls [^3][^4]:\n",
    "- combines multiple arguments into one\n",
    "\n",
    "```julia\n",
    "function printargs(args...)\n",
    "    println(typeof(args))\n",
    "    for (i, arg) in enumerate(args)\n",
    "        println(\"Arg #$i = $arg\")\n",
    "    end\n",
    "end\n",
    "printargs(1, 2, 3)\n",
    "```\n",
    "- splits one argument into many different arguments\n",
    "```julia\n",
    "function threeargs(a, b, c)\n",
    "    println(\"a = $a::$(typeof(a))\")\n",
    "    println(\"b = $b::$(typeof(b))\")\n",
    "    println(\"c = $c::$(typeof(c))\")\n",
    "end\n",
    "threeargs([1,2,3]...) # or with a variable threeargs(x...)\n",
    "```\n",
    "\n",
    "[^3]: [https://docs.julialang.org/en/v1/manual/faq/#What-does-the-...-operator-do?](https://docs.julialang.org/en/v1/manual/faq/#What-does-the-...-operator-do?)\n",
    "[^4]: [https://docs.julialang.org/en/v1/manual/functions/#Varargs-Functions](https://docs.julialang.org/en/v1/manual/functions/#Varargs-Functions)\n",
    "</div>\n",
    "\n",
    "**HINTS**:\n",
    "- define two methods `_polynomial!(ac, x, a...)` and `_polynomial!(ac, x, a)` for the case of ≥2 coefficients and the last coefficient\n",
    "- use splatting together with range indexing `a[1:end-1]...`\n",
    "- the correctness can be checked using the built-in `evalpoly`\n",
    "- recall that these kind of optimization are possible just around the type inference stage\n",
    "- use container of known length to store the coefficients\n",
    "\n",
    "\n",
    "</div>"
   ]
  },
  {
   "cell_type": "markdown",
   "metadata": {},
   "source": [
    "<div class=\"alert alert-block alert-info\">\n",
    "<b>Solution</b>: </div>\n",
    "\n",
    "####"
   ]
  },
  {
   "cell_type": "code",
   "execution_count": 52,
   "metadata": {},
   "outputs": [
    {
     "data": {
      "text/plain": [
       "polynomial (generic function with 1 method)"
      ]
     },
     "metadata": {},
     "output_type": "display_data"
    }
   ],
   "source": [
    "function _polynomial!(ac, x, a...)\n",
    "    _polynomial!(x * ac + a[end], x, a[1:end-1]...)\n",
    "end\n",
    "\n",
    "function _polynomial!(ac, x, a)\n",
    "    x * ac + a\n",
    "end\n",
    "\n",
    "function polynomial(a, x)\n",
    "    _polynomial!(a[end] * one(x), x, a[1:end-1]...)\n",
    "end"
   ]
  },
  {
   "cell_type": "code",
   "execution_count": 53,
   "metadata": {},
   "outputs": [
    {
     "data": {
      "text/plain": [
       "(1, 2, 3, 4, 5, 6)"
      ]
     },
     "metadata": {},
     "output_type": "display_data"
    }
   ],
   "source": [
    "a = (1, 2, 3, 4, 5, 6)"
   ]
  },
  {
   "cell_type": "code",
   "execution_count": 54,
   "metadata": {},
   "outputs": [
    {
     "name": "stdout",
     "output_type": "stream",
     "text": [
      "\u001b[90m;  @ c:\\Users\\peter\\Documents\\Skola\\SPJ\\cv06\\jl_notebook_cell_df34fa98e69747e1a8f8a730347b8e2f_X52sZmlsZQ==.jl:9 within `polynomial`\u001b[39m\n",
      "\u001b[90m; Function Attrs: uwtable\u001b[39m\n",
      "\u001b[95mdefine\u001b[39m \u001b[36mdouble\u001b[39m \u001b[93m@julia_polynomial_2992\u001b[39m\u001b[33m(\u001b[39m\u001b[33m[\u001b[39m\u001b[33m6\u001b[39m \u001b[0mx \u001b[36mi64\u001b[39m\u001b[33m]\u001b[39m\u001b[0m* \u001b[95mnocapture\u001b[39m \u001b[95mnoundef\u001b[39m \u001b[95mnonnull\u001b[39m \u001b[95mreadonly\u001b[39m \u001b[95malign\u001b[39m \u001b[33m8\u001b[39m \u001b[95mdereferenceable\u001b[39m\u001b[33m(\u001b[39m\u001b[33m48\u001b[39m\u001b[33m)\u001b[39m \u001b[0m%0\u001b[0m, \u001b[36mdouble\u001b[39m \u001b[0m%1\u001b[33m)\u001b[39m \u001b[0m#0 \u001b[33m{\u001b[39m\n",
      "\u001b[91mtop:\u001b[39m\n",
      "\u001b[90m;  @ c:\\Users\\peter\\Documents\\Skola\\SPJ\\cv06\\jl_notebook_cell_df34fa98e69747e1a8f8a730347b8e2f_X52sZmlsZQ==.jl:10 within `polynomial`\u001b[39m\n",
      "\u001b[90m; ┌ @ tuple.jl:31 within `getindex`\u001b[39m\n",
      "   \u001b[0m%2 \u001b[0m= \u001b[96m\u001b[1mgetelementptr\u001b[22m\u001b[39m \u001b[95minbounds\u001b[39m \u001b[33m[\u001b[39m\u001b[33m6\u001b[39m \u001b[0mx \u001b[36mi64\u001b[39m\u001b[33m]\u001b[39m\u001b[0m, \u001b[33m[\u001b[39m\u001b[33m6\u001b[39m \u001b[0mx \u001b[36mi64\u001b[39m\u001b[33m]\u001b[39m\u001b[0m* \u001b[0m%0\u001b[0m, \u001b[36mi64\u001b[39m \u001b[33m0\u001b[39m\u001b[0m, \u001b[36mi64\u001b[39m \u001b[33m5\u001b[39m\n",
      "\u001b[90m; └\u001b[39m\n",
      "\u001b[90m; ┌ @ promotion.jl:423 within `*`\u001b[39m\n",
      "\u001b[90m; │┌ @ promotion.jl:393 within `promote`\u001b[39m\n",
      "\u001b[90m; ││┌ @ promotion.jl:370 within `_promote`\u001b[39m\n",
      "\u001b[90m; │││┌ @ number.jl:7 within `convert`\u001b[39m\n",
      "\u001b[90m; ││││┌ @ float.jl:159 within `Float64`\u001b[39m\n",
      "       \u001b[0m%unbox \u001b[0m= \u001b[96m\u001b[1mload\u001b[22m\u001b[39m \u001b[36mi64\u001b[39m\u001b[0m, \u001b[36mi64\u001b[39m\u001b[0m* \u001b[0m%2\u001b[0m, \u001b[95malign\u001b[39m \u001b[33m8\u001b[39m\n",
      "       \u001b[0m%3 \u001b[0m= \u001b[96m\u001b[1msitofp\u001b[22m\u001b[39m \u001b[36mi64\u001b[39m \u001b[0m%unbox \u001b[95mto\u001b[39m \u001b[36mdouble\u001b[39m\n",
      "\u001b[90m; └└└└└\u001b[39m\n",
      "\u001b[90m; ┌ @ range.jl:429 within `getindex`\u001b[39m\n",
      "\u001b[90m; │┌ @ ntuple.jl:19 within `ntuple`\u001b[39m\n",
      "\u001b[90m; ││┌ @ range.jl:429 within `#79`\u001b[39m\n",
      "\u001b[90m; │││┌ @ tuple.jl:31 within `getindex`\u001b[39m\n",
      "      \u001b[0m%4 \u001b[0m= \u001b[96m\u001b[1mgetelementptr\u001b[22m\u001b[39m \u001b[95minbounds\u001b[39m \u001b[33m[\u001b[39m\u001b[33m6\u001b[39m \u001b[0mx \u001b[36mi64\u001b[39m\u001b[33m]\u001b[39m\u001b[0m, \u001b[33m[\u001b[39m\u001b[33m6\u001b[39m \u001b[0mx \u001b[36mi64\u001b[39m\u001b[33m]\u001b[39m\u001b[0m* \u001b[0m%0\u001b[0m, \u001b[36mi64\u001b[39m \u001b[33m0\u001b[39m\u001b[0m, \u001b[36mi64\u001b[39m \u001b[33m0\u001b[39m\n",
      "      \u001b[0m%5 \u001b[0m= \u001b[96m\u001b[1mgetelementptr\u001b[22m\u001b[39m \u001b[95minbounds\u001b[39m \u001b[33m[\u001b[39m\u001b[33m6\u001b[39m \u001b[0mx \u001b[36mi64\u001b[39m\u001b[33m]\u001b[39m\u001b[0m, \u001b[33m[\u001b[39m\u001b[33m6\u001b[39m \u001b[0mx \u001b[36mi64\u001b[39m\u001b[33m]\u001b[39m\u001b[0m* \u001b[0m%0\u001b[0m, \u001b[36mi64\u001b[39m \u001b[33m0\u001b[39m\u001b[0m, \u001b[36mi64\u001b[39m \u001b[33m1\u001b[39m\n",
      "      \u001b[0m%6 \u001b[0m= \u001b[96m\u001b[1mgetelementptr\u001b[22m\u001b[39m \u001b[95minbounds\u001b[39m \u001b[33m[\u001b[39m\u001b[33m6\u001b[39m \u001b[0mx \u001b[36mi64\u001b[39m\u001b[33m]\u001b[39m\u001b[0m, \u001b[33m[\u001b[39m\u001b[33m6\u001b[39m \u001b[0mx \u001b[36mi64\u001b[39m\u001b[33m]\u001b[39m\u001b[0m* \u001b[0m%0\u001b[0m, \u001b[36mi64\u001b[39m \u001b[33m0\u001b[39m\u001b[0m, \u001b[36mi64\u001b[39m \u001b[33m2\u001b[39m\n",
      "      \u001b[0m%7 \u001b[0m= \u001b[96m\u001b[1mgetelementptr\u001b[22m\u001b[39m \u001b[95minbounds\u001b[39m \u001b[33m[\u001b[39m\u001b[33m6\u001b[39m \u001b[0mx \u001b[36mi64\u001b[39m\u001b[33m]\u001b[39m\u001b[0m, \u001b[33m[\u001b[39m\u001b[33m6\u001b[39m \u001b[0mx \u001b[36mi64\u001b[39m\u001b[33m]\u001b[39m\u001b[0m* \u001b[0m%0\u001b[0m, \u001b[36mi64\u001b[39m \u001b[33m0\u001b[39m\u001b[0m, \u001b[36mi64\u001b[39m \u001b[33m3\u001b[39m\n",
      "      \u001b[0m%8 \u001b[0m= \u001b[96m\u001b[1mgetelementptr\u001b[22m\u001b[39m \u001b[95minbounds\u001b[39m \u001b[33m[\u001b[39m\u001b[33m6\u001b[39m \u001b[0mx \u001b[36mi64\u001b[39m\u001b[33m]\u001b[39m\u001b[0m, \u001b[33m[\u001b[39m\u001b[33m6\u001b[39m \u001b[0mx \u001b[36mi64\u001b[39m\u001b[33m]\u001b[39m\u001b[0m* \u001b[0m%0\u001b[0m, \u001b[36mi64\u001b[39m \u001b[33m0\u001b[39m\u001b[0m, \u001b[36mi64\u001b[39m \u001b[33m4\u001b[39m\n",
      "\u001b[90m; └└└└\u001b[39m\n",
      "\u001b[90m; ┌ @ c:\\Users\\peter\\Documents\\Skola\\SPJ\\cv06\\jl_notebook_cell_df34fa98e69747e1a8f8a730347b8e2f_X52sZmlsZQ==.jl:2 within `_polynomial!`\u001b[39m\n",
      "\u001b[90m; │┌ @ float.jl:411 within `*`\u001b[39m\n",
      "    \u001b[0m%9 \u001b[0m= \u001b[96m\u001b[1mfmul\u001b[22m\u001b[39m \u001b[36mdouble\u001b[39m \u001b[0m%3\u001b[0m, \u001b[0m%1\n",
      "\u001b[90m; │└\u001b[39m\n",
      "\u001b[90m; │┌ @ promotion.jl:422 within `+`\u001b[39m\n",
      "\u001b[90m; ││┌ @ promotion.jl:393 within `promote`\u001b[39m\n",
      "\u001b[90m; │││┌ @ promotion.jl:370 within `_promote`\u001b[39m\n",
      "\u001b[90m; ││││┌ @ number.jl:7 within `convert`\u001b[39m\n",
      "\u001b[90m; │││││┌ @ float.jl:159 within `Float64`\u001b[39m\n",
      "        \u001b[0m%unbox1 \u001b[0m= \u001b[96m\u001b[1mload\u001b[22m\u001b[39m \u001b[36mi64\u001b[39m\u001b[0m, \u001b[36mi64\u001b[39m\u001b[0m* \u001b[0m%8\u001b[0m, \u001b[95malign\u001b[39m \u001b[33m8\u001b[39m\n",
      "        \u001b[0m%10 \u001b[0m= \u001b[96m\u001b[1msitofp\u001b[22m\u001b[39m \u001b[36mi64\u001b[39m \u001b[0m%unbox1 \u001b[95mto\u001b[39m \u001b[36mdouble\u001b[39m\n",
      "\u001b[90m; ││└└└└\u001b[39m\n",
      "\u001b[90m; ││ @ promotion.jl:422 within `+` @ float.jl:409\u001b[39m\n",
      "    \u001b[0m%11 \u001b[0m= \u001b[96m\u001b[1mfadd\u001b[22m\u001b[39m \u001b[36mdouble\u001b[39m \u001b[0m%9\u001b[0m, \u001b[0m%10\n",
      "\u001b[90m; │└\u001b[39m\n",
      "\u001b[90m; │ @ c:\\Users\\peter\\Documents\\Skola\\SPJ\\cv06\\jl_notebook_cell_df34fa98e69747e1a8f8a730347b8e2f_X52sZmlsZQ==.jl:2 within `_polynomial!` @ c:\\Users\\peter\\Documents\\Skola\\SPJ\\cv06\\jl_notebook_cell_df34fa98e69747e1a8f8a730347b8e2f_X52sZmlsZQ==.jl:2\u001b[39m\n",
      "\u001b[90m; │┌ @ float.jl:411 within `*`\u001b[39m\n",
      "    \u001b[0m%12 \u001b[0m= \u001b[96m\u001b[1mfmul\u001b[22m\u001b[39m \u001b[36mdouble\u001b[39m \u001b[0m%11\u001b[0m, \u001b[0m%1\n",
      "\u001b[90m; │└\u001b[39m\n",
      "\u001b[90m; │┌ @ promotion.jl:422 within `+`\u001b[39m\n",
      "\u001b[90m; ││┌ @ promotion.jl:393 within `promote`\u001b[39m\n",
      "\u001b[90m; │││┌ @ promotion.jl:370 within `_promote`\u001b[39m\n",
      "\u001b[90m; ││││┌ @ number.jl:7 within `convert`\u001b[39m\n",
      "\u001b[90m; │││││┌ @ float.jl:159 within `Float64`\u001b[39m\n",
      "        \u001b[0m%unbox2 \u001b[0m= \u001b[96m\u001b[1mload\u001b[22m\u001b[39m \u001b[36mi64\u001b[39m\u001b[0m, \u001b[36mi64\u001b[39m\u001b[0m* \u001b[0m%7\u001b[0m, \u001b[95malign\u001b[39m \u001b[33m8\u001b[39m\n",
      "        \u001b[0m%13 \u001b[0m= \u001b[96m\u001b[1msitofp\u001b[22m\u001b[39m \u001b[36mi64\u001b[39m \u001b[0m%unbox2 \u001b[95mto\u001b[39m \u001b[36mdouble\u001b[39m\n",
      "\u001b[90m; ││└└└└\u001b[39m\n",
      "\u001b[90m; ││ @ promotion.jl:422 within `+` @ float.jl:409\u001b[39m\n",
      "    \u001b[0m%14 \u001b[0m= \u001b[96m\u001b[1mfadd\u001b[22m\u001b[39m \u001b[36mdouble\u001b[39m \u001b[0m%12\u001b[0m, \u001b[0m%13\n",
      "\u001b[90m; │└\u001b[39m\n",
      "\u001b[90m; │ @ c:\\Users\\peter\\Documents\\Skola\\SPJ\\cv06\\jl_notebook_cell_df34fa98e69747e1a8f8a730347b8e2f_X52sZmlsZQ==.jl:2 within `_polynomial!` @ c:\\Users\\peter\\Documents\\Skola\\SPJ\\cv06\\jl_notebook_cell_df34fa98e69747e1a8f8a730347b8e2f_X52sZmlsZQ==.jl:2 @ c:\\Users\\peter\\Documents\\Skola\\SPJ\\cv06\\jl_notebook_cell_df34fa98e69747e1a8f8a730347b8e2f_X52sZmlsZQ==.jl:2\u001b[39m\n",
      "\u001b[90m; │┌ @ float.jl:411 within `*`\u001b[39m\n",
      "    \u001b[0m%15 \u001b[0m= \u001b[96m\u001b[1mfmul\u001b[22m\u001b[39m \u001b[36mdouble\u001b[39m \u001b[0m%14\u001b[0m, \u001b[0m%1\n",
      "\u001b[90m; │└\u001b[39m\n",
      "\u001b[90m; │┌ @ promotion.jl:422 within `+`\u001b[39m\n",
      "\u001b[90m; ││┌ @ promotion.jl:393 within `promote`\u001b[39m\n",
      "\u001b[90m; │││┌ @ promotion.jl:370 within `_promote`\u001b[39m\n",
      "\u001b[90m; ││││┌ @ number.jl:7 within `convert`\u001b[39m\n",
      "\u001b[90m; │││││┌ @ float.jl:159 within `Float64`\u001b[39m\n",
      "        \u001b[0m%unbox3 \u001b[0m= \u001b[96m\u001b[1mload\u001b[22m\u001b[39m \u001b[36mi64\u001b[39m\u001b[0m, \u001b[36mi64\u001b[39m\u001b[0m* \u001b[0m%6\u001b[0m, \u001b[95malign\u001b[39m \u001b[33m8\u001b[39m\n",
      "        \u001b[0m%16 \u001b[0m= \u001b[96m\u001b[1msitofp\u001b[22m\u001b[39m \u001b[36mi64\u001b[39m \u001b[0m%unbox3 \u001b[95mto\u001b[39m \u001b[36mdouble\u001b[39m\n",
      "\u001b[90m; ││└└└└\u001b[39m\n",
      "\u001b[90m; ││ @ promotion.jl:422 within `+` @ float.jl:409\u001b[39m\n",
      "    \u001b[0m%17 \u001b[0m= \u001b[96m\u001b[1mfadd\u001b[22m\u001b[39m \u001b[36mdouble\u001b[39m \u001b[0m%15\u001b[0m, \u001b[0m%16\n",
      "\u001b[90m; │└\u001b[39m\n",
      "\u001b[90m; │ @ c:\\Users\\peter\\Documents\\Skola\\SPJ\\cv06\\jl_notebook_cell_df34fa98e69747e1a8f8a730347b8e2f_X52sZmlsZQ==.jl:2 within `_polynomial!` @ c:\\Users\\peter\\Documents\\Skola\\SPJ\\cv06\\jl_notebook_cell_df34fa98e69747e1a8f8a730347b8e2f_X52sZmlsZQ==.jl:2 @ c:\\Users\\peter\\Documents\\Skola\\SPJ\\cv06\\jl_notebook_cell_df34fa98e69747e1a8f8a730347b8e2f_X52sZmlsZQ==.jl:2 @ c:\\Users\\peter\\Documents\\Skola\\SPJ\\cv06\\jl_notebook_cell_df34fa98e69747e1a8f8a730347b8e2f_X52sZmlsZQ==.jl:2\u001b[39m\n",
      "\u001b[90m; │┌ @ float.jl:411 within `*`\u001b[39m\n",
      "    \u001b[0m%18 \u001b[0m= \u001b[96m\u001b[1mfmul\u001b[22m\u001b[39m \u001b[36mdouble\u001b[39m \u001b[0m%17\u001b[0m, \u001b[0m%1\n",
      "\u001b[90m; │└\u001b[39m\n",
      "\u001b[90m; │┌ @ promotion.jl:422 within `+`\u001b[39m\n",
      "\u001b[90m; ││┌ @ promotion.jl:393 within `promote`\u001b[39m\n",
      "\u001b[90m; │││┌ @ promotion.jl:370 within `_promote`\u001b[39m\n",
      "\u001b[90m; ││││┌ @ number.jl:7 within `convert`\u001b[39m\n",
      "\u001b[90m; │││││┌ @ float.jl:159 within `Float64`\u001b[39m\n",
      "        \u001b[0m%unbox4 \u001b[0m= \u001b[96m\u001b[1mload\u001b[22m\u001b[39m \u001b[36mi64\u001b[39m\u001b[0m, \u001b[36mi64\u001b[39m\u001b[0m* \u001b[0m%5\u001b[0m, \u001b[95malign\u001b[39m \u001b[33m8\u001b[39m\n",
      "        \u001b[0m%19 \u001b[0m= \u001b[96m\u001b[1msitofp\u001b[22m\u001b[39m \u001b[36mi64\u001b[39m \u001b[0m%unbox4 \u001b[95mto\u001b[39m \u001b[36mdouble\u001b[39m\n",
      "\u001b[90m; ││└└└└\u001b[39m\n",
      "\u001b[90m; ││ @ promotion.jl:422 within `+` @ float.jl:409\u001b[39m\n",
      "    \u001b[0m%20 \u001b[0m= \u001b[96m\u001b[1mfadd\u001b[22m\u001b[39m \u001b[36mdouble\u001b[39m \u001b[0m%18\u001b[0m, \u001b[0m%19\n",
      "\u001b[90m; │└\u001b[39m\n",
      "\u001b[90m; │ @ c:\\Users\\peter\\Documents\\Skola\\SPJ\\cv06\\jl_notebook_cell_df34fa98e69747e1a8f8a730347b8e2f_X52sZmlsZQ==.jl:2 within `_polynomial!` @ c:\\Users\\peter\\Documents\\Skola\\SPJ\\cv06\\jl_notebook_cell_df34fa98e69747e1a8f8a730347b8e2f_X52sZmlsZQ==.jl:2 @ c:\\Users\\peter\\Documents\\Skola\\SPJ\\cv06\\jl_notebook_cell_df34fa98e69747e1a8f8a730347b8e2f_X52sZmlsZQ==.jl:2 @ c:\\Users\\peter\\Documents\\Skola\\SPJ\\cv06\\jl_notebook_cell_df34fa98e69747e1a8f8a730347b8e2f_X52sZmlsZQ==.jl:2 @ c:\\Users\\peter\\Documents\\Skola\\SPJ\\cv06\\jl_notebook_cell_df34fa98e69747e1a8f8a730347b8e2f_X52sZmlsZQ==.jl:6\u001b[39m\n",
      "\u001b[90m; │┌ @ float.jl:411 within `*`\u001b[39m\n",
      "    \u001b[0m%21 \u001b[0m= \u001b[96m\u001b[1mfmul\u001b[22m\u001b[39m \u001b[36mdouble\u001b[39m \u001b[0m%20\u001b[0m, \u001b[0m%1\n",
      "\u001b[90m; │└\u001b[39m\n",
      "\u001b[90m; │┌ @ promotion.jl:422 within `+`\u001b[39m\n",
      "\u001b[90m; ││┌ @ promotion.jl:393 within `promote`\u001b[39m\n",
      "\u001b[90m; │││┌ @ promotion.jl:370 within `_promote`\u001b[39m\n",
      "\u001b[90m; ││││┌ @ number.jl:7 within `convert`\u001b[39m\n",
      "\u001b[90m; │││││┌ @ float.jl:159 within `Float64`\u001b[39m\n",
      "        \u001b[0m%unbox5 \u001b[0m= \u001b[96m\u001b[1mload\u001b[22m\u001b[39m \u001b[36mi64\u001b[39m\u001b[0m, \u001b[36mi64\u001b[39m\u001b[0m* \u001b[0m%4\u001b[0m, \u001b[95malign\u001b[39m \u001b[33m8\u001b[39m\n",
      "        \u001b[0m%22 \u001b[0m= \u001b[96m\u001b[1msitofp\u001b[22m\u001b[39m \u001b[36mi64\u001b[39m \u001b[0m%unbox5 \u001b[95mto\u001b[39m \u001b[36mdouble\u001b[39m\n",
      "\u001b[90m; ││└└└└\u001b[39m\n",
      "\u001b[90m; ││ @ promotion.jl:422 within `+` @ float.jl:409\u001b[39m\n",
      "    \u001b[0m%23 \u001b[0m= \u001b[96m\u001b[1mfadd\u001b[22m\u001b[39m \u001b[36mdouble\u001b[39m \u001b[0m%21\u001b[0m, \u001b[0m%22\n",
      "    \u001b[96m\u001b[1mret\u001b[22m\u001b[39m \u001b[36mdouble\u001b[39m \u001b[0m%23\n",
      "\u001b[90m; └└\u001b[39m\n",
      "\u001b[33m}\u001b[39m\n"
     ]
    }
   ],
   "source": [
    "@code_llvm polynomial(a, x)"
   ]
  },
  {
   "cell_type": "code",
   "execution_count": 86,
   "metadata": {},
   "outputs": [
    {
     "data": {
      "text/plain": [
       "(1, 2, 3, 4, 5, 6, 7, 8, 9, 10, 11, 12, 13, 14, 15, 16, 17, 18, 19, 20, 21, 22, 23, 24, 25, 26, 27, 28, 29, 30, 31, 32, 33)"
      ]
     },
     "metadata": {},
     "output_type": "display_data"
    }
   ],
   "source": [
    "a = tuple([i for i in 1:33]...)"
   ]
  },
  {
   "cell_type": "code",
   "execution_count": 63,
   "metadata": {},
   "outputs": [
    {
     "name": "stdout",
     "output_type": "stream",
     "text": [
      "\u001b[90m;  @ c:\\Users\\peter\\Documents\\Skola\\SPJ\\cv06\\jl_notebook_cell_df34fa98e69747e1a8f8a730347b8e2f_X52sZmlsZQ==.jl:9 within `polynomial`\u001b[39m\n",
      "\u001b[90m; Function Attrs: uwtable\u001b[39m\n",
      "\u001b[95mdefine\u001b[39m \u001b[36mdouble\u001b[39m \u001b[93m@julia_polynomial_3151\u001b[39m\u001b[33m(\u001b[39m\u001b[33m[\u001b[39m\u001b[33m10\u001b[39m \u001b[0mx \u001b[36mi64\u001b[39m\u001b[33m]\u001b[39m\u001b[0m* \u001b[95mnocapture\u001b[39m \u001b[95mnoundef\u001b[39m \u001b[95mnonnull\u001b[39m \u001b[95mreadonly\u001b[39m \u001b[95malign\u001b[39m \u001b[33m8\u001b[39m \u001b[95mdereferenceable\u001b[39m\u001b[33m(\u001b[39m\u001b[33m80\u001b[39m\u001b[33m)\u001b[39m \u001b[0m%0\u001b[0m, \u001b[36mdouble\u001b[39m \u001b[0m%1\u001b[33m)\u001b[39m \u001b[0m#0 \u001b[33m{\u001b[39m\n",
      "\u001b[91mtop:\u001b[39m\n",
      "\u001b[90m;  @ c:\\Users\\peter\\Documents\\Skola\\SPJ\\cv06\\jl_notebook_cell_df34fa98e69747e1a8f8a730347b8e2f_X52sZmlsZQ==.jl:10 within `polynomial`\u001b[39m\n",
      "\u001b[90m; ┌ @ tuple.jl:31 within `getindex`\u001b[39m\n",
      "   \u001b[0m%2 \u001b[0m= \u001b[96m\u001b[1mgetelementptr\u001b[22m\u001b[39m \u001b[95minbounds\u001b[39m \u001b[33m[\u001b[39m\u001b[33m10\u001b[39m \u001b[0mx \u001b[36mi64\u001b[39m\u001b[33m]\u001b[39m\u001b[0m, \u001b[33m[\u001b[39m\u001b[33m10\u001b[39m \u001b[0mx \u001b[36mi64\u001b[39m\u001b[33m]\u001b[39m\u001b[0m* \u001b[0m%0\u001b[0m, \u001b[36mi64\u001b[39m \u001b[33m0\u001b[39m\u001b[0m, \u001b[36mi64\u001b[39m \u001b[33m9\u001b[39m\n",
      "\u001b[90m; └\u001b[39m\n",
      "\u001b[90m; ┌ @ promotion.jl:423 within `*`\u001b[39m\n",
      "\u001b[90m; │┌ @ promotion.jl:393 within `promote`\u001b[39m\n",
      "\u001b[90m; ││┌ @ promotion.jl:370 within `_promote`\u001b[39m\n",
      "\u001b[90m; │││┌ @ number.jl:7 within `convert`\u001b[39m\n",
      "\u001b[90m; ││││┌ @ float.jl:159 within `Float64`\u001b[39m\n",
      "       \u001b[0m%unbox \u001b[0m= \u001b[96m\u001b[1mload\u001b[22m\u001b[39m \u001b[36mi64\u001b[39m\u001b[0m, \u001b[36mi64\u001b[39m\u001b[0m* \u001b[0m%2\u001b[0m, \u001b[95malign\u001b[39m \u001b[33m8\u001b[39m\n",
      "       \u001b[0m%3 \u001b[0m= \u001b[96m\u001b[1msitofp\u001b[22m\u001b[39m \u001b[36mi64\u001b[39m \u001b[0m%unbox \u001b[95mto\u001b[39m \u001b[36mdouble\u001b[39m\n",
      "\u001b[90m; └└└└└\u001b[39m\n",
      "\u001b[90m; ┌ @ range.jl:429 within `getindex`\u001b[39m\n",
      "\u001b[90m; │┌ @ ntuple.jl:19 within `ntuple`\u001b[39m\n",
      "\u001b[90m; ││┌ @ range.jl:429 within `#79`\u001b[39m\n",
      "\u001b[90m; │││┌ @ tuple.jl:31 within `getindex`\u001b[39m\n",
      "      \u001b[0m%4 \u001b[0m= \u001b[96m\u001b[1mgetelementptr\u001b[22m\u001b[39m \u001b[95minbounds\u001b[39m \u001b[33m[\u001b[39m\u001b[33m10\u001b[39m \u001b[0mx \u001b[36mi64\u001b[39m\u001b[33m]\u001b[39m\u001b[0m, \u001b[33m[\u001b[39m\u001b[33m10\u001b[39m \u001b[0mx \u001b[36mi64\u001b[39m\u001b[33m]\u001b[39m\u001b[0m* \u001b[0m%0\u001b[0m, \u001b[36mi64\u001b[39m \u001b[33m0\u001b[39m\u001b[0m, \u001b[36mi64\u001b[39m \u001b[33m0\u001b[39m\n",
      "      \u001b[0m%5 \u001b[0m= \u001b[96m\u001b[1mgetelementptr\u001b[22m\u001b[39m \u001b[95minbounds\u001b[39m \u001b[33m[\u001b[39m\u001b[33m10\u001b[39m \u001b[0mx \u001b[36mi64\u001b[39m\u001b[33m]\u001b[39m\u001b[0m, \u001b[33m[\u001b[39m\u001b[33m10\u001b[39m \u001b[0mx \u001b[36mi64\u001b[39m\u001b[33m]\u001b[39m\u001b[0m* \u001b[0m%0\u001b[0m, \u001b[36mi64\u001b[39m \u001b[33m0\u001b[39m\u001b[0m, \u001b[36mi64\u001b[39m \u001b[33m1\u001b[39m\n",
      "      \u001b[0m%6 \u001b[0m= \u001b[96m\u001b[1mgetelementptr\u001b[22m\u001b[39m \u001b[95minbounds\u001b[39m \u001b[33m[\u001b[39m\u001b[33m10\u001b[39m \u001b[0mx \u001b[36mi64\u001b[39m\u001b[33m]\u001b[39m\u001b[0m, \u001b[33m[\u001b[39m\u001b[33m10\u001b[39m \u001b[0mx \u001b[36mi64\u001b[39m\u001b[33m]\u001b[39m\u001b[0m* \u001b[0m%0\u001b[0m, \u001b[36mi64\u001b[39m \u001b[33m0\u001b[39m\u001b[0m, \u001b[36mi64\u001b[39m \u001b[33m2\u001b[39m\n",
      "      \u001b[0m%7 \u001b[0m= \u001b[96m\u001b[1mgetelementptr\u001b[22m\u001b[39m \u001b[95minbounds\u001b[39m \u001b[33m[\u001b[39m\u001b[33m10\u001b[39m \u001b[0mx \u001b[36mi64\u001b[39m\u001b[33m]\u001b[39m\u001b[0m, \u001b[33m[\u001b[39m\u001b[33m10\u001b[39m \u001b[0mx \u001b[36mi64\u001b[39m\u001b[33m]\u001b[39m\u001b[0m* \u001b[0m%0\u001b[0m, \u001b[36mi64\u001b[39m \u001b[33m0\u001b[39m\u001b[0m, \u001b[36mi64\u001b[39m \u001b[33m3\u001b[39m\n",
      "      \u001b[0m%8 \u001b[0m= \u001b[96m\u001b[1mgetelementptr\u001b[22m\u001b[39m \u001b[95minbounds\u001b[39m \u001b[33m[\u001b[39m\u001b[33m10\u001b[39m \u001b[0mx \u001b[36mi64\u001b[39m\u001b[33m]\u001b[39m\u001b[0m, \u001b[33m[\u001b[39m\u001b[33m10\u001b[39m \u001b[0mx \u001b[36mi64\u001b[39m\u001b[33m]\u001b[39m\u001b[0m* \u001b[0m%0\u001b[0m, \u001b[36mi64\u001b[39m \u001b[33m0\u001b[39m\u001b[0m, \u001b[36mi64\u001b[39m \u001b[33m4\u001b[39m\n",
      "      \u001b[0m%9 \u001b[0m= \u001b[96m\u001b[1mgetelementptr\u001b[22m\u001b[39m \u001b[95minbounds\u001b[39m \u001b[33m[\u001b[39m\u001b[33m10\u001b[39m \u001b[0mx \u001b[36mi64\u001b[39m\u001b[33m]\u001b[39m\u001b[0m, \u001b[33m[\u001b[39m\u001b[33m10\u001b[39m \u001b[0mx \u001b[36mi64\u001b[39m\u001b[33m]\u001b[39m\u001b[0m* \u001b[0m%0\u001b[0m, \u001b[36mi64\u001b[39m \u001b[33m0\u001b[39m\u001b[0m, \u001b[36mi64\u001b[39m \u001b[33m5\u001b[39m\n",
      "      \u001b[0m%10 \u001b[0m= \u001b[96m\u001b[1mgetelementptr\u001b[22m\u001b[39m \u001b[95minbounds\u001b[39m \u001b[33m[\u001b[39m\u001b[33m10\u001b[39m \u001b[0mx \u001b[36mi64\u001b[39m\u001b[33m]\u001b[39m\u001b[0m, \u001b[33m[\u001b[39m\u001b[33m10\u001b[39m \u001b[0mx \u001b[36mi64\u001b[39m\u001b[33m]\u001b[39m\u001b[0m* \u001b[0m%0\u001b[0m, \u001b[36mi64\u001b[39m \u001b[33m0\u001b[39m\u001b[0m, \u001b[36mi64\u001b[39m \u001b[33m6\u001b[39m\n",
      "      \u001b[0m%11 \u001b[0m= \u001b[96m\u001b[1mgetelementptr\u001b[22m\u001b[39m \u001b[95minbounds\u001b[39m \u001b[33m[\u001b[39m\u001b[33m10\u001b[39m \u001b[0mx \u001b[36mi64\u001b[39m\u001b[33m]\u001b[39m\u001b[0m, \u001b[33m[\u001b[39m\u001b[33m10\u001b[39m \u001b[0mx \u001b[36mi64\u001b[39m\u001b[33m]\u001b[39m\u001b[0m* \u001b[0m%0\u001b[0m, \u001b[36mi64\u001b[39m \u001b[33m0\u001b[39m\u001b[0m, \u001b[36mi64\u001b[39m \u001b[33m7\u001b[39m\n",
      "      \u001b[0m%12 \u001b[0m= \u001b[96m\u001b[1mgetelementptr\u001b[22m\u001b[39m \u001b[95minbounds\u001b[39m \u001b[33m[\u001b[39m\u001b[33m10\u001b[39m \u001b[0mx \u001b[36mi64\u001b[39m\u001b[33m]\u001b[39m\u001b[0m, \u001b[33m[\u001b[39m\u001b[33m10\u001b[39m \u001b[0mx \u001b[36mi64\u001b[39m\u001b[33m]\u001b[39m\u001b[0m* \u001b[0m%0\u001b[0m, \u001b[36mi64\u001b[39m \u001b[33m0\u001b[39m\u001b[0m, \u001b[36mi64\u001b[39m \u001b[33m8\u001b[39m\n",
      "\u001b[90m; └└└└\u001b[39m\n",
      "\u001b[90m; ┌ @ c:\\Users\\peter\\Documents\\Skola\\SPJ\\cv06\\jl_notebook_cell_df34fa98e69747e1a8f8a730347b8e2f_X52sZmlsZQ==.jl:2 within `_polynomial!`\u001b[39m\n",
      "\u001b[90m; │┌ @ float.jl:411 within `*`\u001b[39m\n",
      "    \u001b[0m%13 \u001b[0m= \u001b[96m\u001b[1mfmul\u001b[22m\u001b[39m \u001b[36mdouble\u001b[39m \u001b[0m%3\u001b[0m, \u001b[0m%1\n",
      "\u001b[90m; │└\u001b[39m\n",
      "\u001b[90m; │┌ @ promotion.jl:422 within `+`\u001b[39m\n",
      "\u001b[90m; ││┌ @ promotion.jl:393 within `promote`\u001b[39m\n",
      "\u001b[90m; │││┌ @ promotion.jl:370 within `_promote`\u001b[39m\n",
      "\u001b[90m; ││││┌ @ number.jl:7 within `convert`\u001b[39m\n",
      "\u001b[90m; │││││┌ @ float.jl:159 within `Float64`\u001b[39m\n",
      "        \u001b[0m%unbox1 \u001b[0m= \u001b[96m\u001b[1mload\u001b[22m\u001b[39m \u001b[36mi64\u001b[39m\u001b[0m, \u001b[36mi64\u001b[39m\u001b[0m* \u001b[0m%12\u001b[0m, \u001b[95malign\u001b[39m \u001b[33m8\u001b[39m\n",
      "        \u001b[0m%14 \u001b[0m= \u001b[96m\u001b[1msitofp\u001b[22m\u001b[39m \u001b[36mi64\u001b[39m \u001b[0m%unbox1 \u001b[95mto\u001b[39m \u001b[36mdouble\u001b[39m\n",
      "\u001b[90m; ││└└└└\u001b[39m\n",
      "\u001b[90m; ││ @ promotion.jl:422 within `+` @ float.jl:409\u001b[39m\n",
      "    \u001b[0m%15 \u001b[0m= \u001b[96m\u001b[1mfadd\u001b[22m\u001b[39m \u001b[36mdouble\u001b[39m \u001b[0m%13\u001b[0m, \u001b[0m%14\n",
      "\u001b[90m; │└\u001b[39m\n",
      "\u001b[90m; │ @ c:\\Users\\peter\\Documents\\Skola\\SPJ\\cv06\\jl_notebook_cell_df34fa98e69747e1a8f8a730347b8e2f_X52sZmlsZQ==.jl:2 within `_polynomial!` @ c:\\Users\\peter\\Documents\\Skola\\SPJ\\cv06\\jl_notebook_cell_df34fa98e69747e1a8f8a730347b8e2f_X52sZmlsZQ==.jl:2\u001b[39m\n",
      "\u001b[90m; │┌ @ float.jl:411 within `*`\u001b[39m\n",
      "    \u001b[0m%16 \u001b[0m= \u001b[96m\u001b[1mfmul\u001b[22m\u001b[39m \u001b[36mdouble\u001b[39m \u001b[0m%15\u001b[0m, \u001b[0m%1\n",
      "\u001b[90m; │└\u001b[39m\n",
      "\u001b[90m; │┌ @ promotion.jl:422 within `+`\u001b[39m\n",
      "\u001b[90m; ││┌ @ promotion.jl:393 within `promote`\u001b[39m\n",
      "\u001b[90m; │││┌ @ promotion.jl:370 within `_promote`\u001b[39m\n",
      "\u001b[90m; ││││┌ @ number.jl:7 within `convert`\u001b[39m\n",
      "\u001b[90m; │││││┌ @ float.jl:159 within `Float64`\u001b[39m\n",
      "        \u001b[0m%unbox2 \u001b[0m= \u001b[96m\u001b[1mload\u001b[22m\u001b[39m \u001b[36mi64\u001b[39m\u001b[0m, \u001b[36mi64\u001b[39m\u001b[0m* \u001b[0m%11\u001b[0m, \u001b[95malign\u001b[39m \u001b[33m8\u001b[39m\n",
      "        \u001b[0m%17 \u001b[0m= \u001b[96m\u001b[1msitofp\u001b[22m\u001b[39m \u001b[36mi64\u001b[39m \u001b[0m%unbox2 \u001b[95mto\u001b[39m \u001b[36mdouble\u001b[39m\n",
      "\u001b[90m; ││└└└└\u001b[39m\n",
      "\u001b[90m; ││ @ promotion.jl:422 within `+` @ float.jl:409\u001b[39m\n",
      "    \u001b[0m%18 \u001b[0m= \u001b[96m\u001b[1mfadd\u001b[22m\u001b[39m \u001b[36mdouble\u001b[39m \u001b[0m%16\u001b[0m, \u001b[0m%17\n",
      "\u001b[90m; │└\u001b[39m\n",
      "\u001b[90m; │ @ c:\\Users\\peter\\Documents\\Skola\\SPJ\\cv06\\jl_notebook_cell_df34fa98e69747e1a8f8a730347b8e2f_X52sZmlsZQ==.jl:2 within `_polynomial!` @ c:\\Users\\peter\\Documents\\Skola\\SPJ\\cv06\\jl_notebook_cell_df34fa98e69747e1a8f8a730347b8e2f_X52sZmlsZQ==.jl:2 @ c:\\Users\\peter\\Documents\\Skola\\SPJ\\cv06\\jl_notebook_cell_df34fa98e69747e1a8f8a730347b8e2f_X52sZmlsZQ==.jl:2\u001b[39m\n",
      "\u001b[90m; │┌ @ float.jl:411 within `*`\u001b[39m\n",
      "    \u001b[0m%19 \u001b[0m= \u001b[96m\u001b[1mfmul\u001b[22m\u001b[39m \u001b[36mdouble\u001b[39m \u001b[0m%18\u001b[0m, \u001b[0m%1\n",
      "\u001b[90m; │└\u001b[39m\n",
      "\u001b[90m; │┌ @ promotion.jl:422 within `+`\u001b[39m\n",
      "\u001b[90m; ││┌ @ promotion.jl:393 within `promote`\u001b[39m\n",
      "\u001b[90m; │││┌ @ promotion.jl:370 within `_promote`\u001b[39m\n",
      "\u001b[90m; ││││┌ @ number.jl:7 within `convert`\u001b[39m\n",
      "\u001b[90m; │││││┌ @ float.jl:159 within `Float64`\u001b[39m\n",
      "        \u001b[0m%unbox3 \u001b[0m= \u001b[96m\u001b[1mload\u001b[22m\u001b[39m \u001b[36mi64\u001b[39m\u001b[0m, \u001b[36mi64\u001b[39m\u001b[0m* \u001b[0m%10\u001b[0m, \u001b[95malign\u001b[39m \u001b[33m8\u001b[39m\n",
      "        \u001b[0m%20 \u001b[0m= \u001b[96m\u001b[1msitofp\u001b[22m\u001b[39m \u001b[36mi64\u001b[39m \u001b[0m%unbox3 \u001b[95mto\u001b[39m \u001b[36mdouble\u001b[39m\n",
      "\u001b[90m; ││└└└└\u001b[39m\n",
      "\u001b[90m; ││ @ promotion.jl:422 within `+` @ float.jl:409\u001b[39m\n",
      "    \u001b[0m%21 \u001b[0m= \u001b[96m\u001b[1mfadd\u001b[22m\u001b[39m \u001b[36mdouble\u001b[39m \u001b[0m%19\u001b[0m, \u001b[0m%20\n",
      "\u001b[90m; │└\u001b[39m\n",
      "\u001b[90m; │ @ c:\\Users\\peter\\Documents\\Skola\\SPJ\\cv06\\jl_notebook_cell_df34fa98e69747e1a8f8a730347b8e2f_X52sZmlsZQ==.jl:2 within `_polynomial!` @ c:\\Users\\peter\\Documents\\Skola\\SPJ\\cv06\\jl_notebook_cell_df34fa98e69747e1a8f8a730347b8e2f_X52sZmlsZQ==.jl:2 @ c:\\Users\\peter\\Documents\\Skola\\SPJ\\cv06\\jl_notebook_cell_df34fa98e69747e1a8f8a730347b8e2f_X52sZmlsZQ==.jl:2 @ c:\\Users\\peter\\Documents\\Skola\\SPJ\\cv06\\jl_notebook_cell_df34fa98e69747e1a8f8a730347b8e2f_X52sZmlsZQ==.jl:2\u001b[39m\n",
      "\u001b[90m; │┌ @ float.jl:411 within `*`\u001b[39m\n",
      "    \u001b[0m%22 \u001b[0m= \u001b[96m\u001b[1mfmul\u001b[22m\u001b[39m \u001b[36mdouble\u001b[39m \u001b[0m%21\u001b[0m, \u001b[0m%1\n",
      "\u001b[90m; │└\u001b[39m\n",
      "\u001b[90m; │┌ @ promotion.jl:422 within `+`\u001b[39m\n",
      "\u001b[90m; ││┌ @ promotion.jl:393 within `promote`\u001b[39m\n",
      "\u001b[90m; │││┌ @ promotion.jl:370 within `_promote`\u001b[39m\n",
      "\u001b[90m; ││││┌ @ number.jl:7 within `convert`\u001b[39m\n",
      "\u001b[90m; │││││┌ @ float.jl:159 within `Float64`\u001b[39m\n",
      "        \u001b[0m%unbox4 \u001b[0m= \u001b[96m\u001b[1mload\u001b[22m\u001b[39m \u001b[36mi64\u001b[39m\u001b[0m, \u001b[36mi64\u001b[39m\u001b[0m* \u001b[0m%9\u001b[0m, \u001b[95malign\u001b[39m \u001b[33m8\u001b[39m\n",
      "        \u001b[0m%23 \u001b[0m= \u001b[96m\u001b[1msitofp\u001b[22m\u001b[39m \u001b[36mi64\u001b[39m \u001b[0m%unbox4 \u001b[95mto\u001b[39m \u001b[36mdouble\u001b[39m\n",
      "\u001b[90m; ││└└└└\u001b[39m\n",
      "\u001b[90m; ││ @ promotion.jl:422 within `+` @ float.jl:409\u001b[39m\n",
      "    \u001b[0m%24 \u001b[0m= \u001b[96m\u001b[1mfadd\u001b[22m\u001b[39m \u001b[36mdouble\u001b[39m \u001b[0m%22\u001b[0m, \u001b[0m%23\n",
      "\u001b[90m; │└\u001b[39m\n",
      "\u001b[90m; │ @ c:\\Users\\peter\\Documents\\Skola\\SPJ\\cv06\\jl_notebook_cell_df34fa98e69747e1a8f8a730347b8e2f_X52sZmlsZQ==.jl:2 within `_polynomial!` @ c:\\Users\\peter\\Documents\\Skola\\SPJ\\cv06\\jl_notebook_cell_df34fa98e69747e1a8f8a730347b8e2f_X52sZmlsZQ==.jl:2 @ c:\\Users\\peter\\Documents\\Skola\\SPJ\\cv06\\jl_notebook_cell_df34fa98e69747e1a8f8a730347b8e2f_X52sZmlsZQ==.jl:2 @ c:\\Users\\peter\\Documents\\Skola\\SPJ\\cv06\\jl_notebook_cell_df34fa98e69747e1a8f8a730347b8e2f_X52sZmlsZQ==.jl:2 @ c:\\Users\\peter\\Documents\\Skola\\SPJ\\cv06\\jl_notebook_cell_df34fa98e69747e1a8f8a730347b8e2f_X52sZmlsZQ==.jl:2\u001b[39m\n",
      "\u001b[90m; │┌ @ float.jl:411 within `*`\u001b[39m\n",
      "    \u001b[0m%25 \u001b[0m= \u001b[96m\u001b[1mfmul\u001b[22m\u001b[39m \u001b[36mdouble\u001b[39m \u001b[0m%24\u001b[0m, \u001b[0m%1\n",
      "\u001b[90m; │└\u001b[39m\n",
      "\u001b[90m; │┌ @ promotion.jl:422 within `+`\u001b[39m\n",
      "\u001b[90m; ││┌ @ promotion.jl:393 within `promote`\u001b[39m\n",
      "\u001b[90m; │││┌ @ promotion.jl:370 within `_promote`\u001b[39m\n",
      "\u001b[90m; ││││┌ @ number.jl:7 within `convert`\u001b[39m\n",
      "\u001b[90m; │││││┌ @ float.jl:159 within `Float64`\u001b[39m\n",
      "        \u001b[0m%unbox5 \u001b[0m= \u001b[96m\u001b[1mload\u001b[22m\u001b[39m \u001b[36mi64\u001b[39m\u001b[0m, \u001b[36mi64\u001b[39m\u001b[0m* \u001b[0m%8\u001b[0m, \u001b[95malign\u001b[39m \u001b[33m8\u001b[39m\n",
      "        \u001b[0m%26 \u001b[0m= \u001b[96m\u001b[1msitofp\u001b[22m\u001b[39m \u001b[36mi64\u001b[39m \u001b[0m%unbox5 \u001b[95mto\u001b[39m \u001b[36mdouble\u001b[39m\n",
      "\u001b[90m; ││└└└└\u001b[39m\n",
      "\u001b[90m; ││ @ promotion.jl:422 within `+` @ float.jl:409\u001b[39m\n",
      "    \u001b[0m%27 \u001b[0m= \u001b[96m\u001b[1mfadd\u001b[22m\u001b[39m \u001b[36mdouble\u001b[39m \u001b[0m%25\u001b[0m, \u001b[0m%26\n",
      "\u001b[90m; │└\u001b[39m\n",
      "\u001b[90m; │ @ c:\\Users\\peter\\Documents\\Skola\\SPJ\\cv06\\jl_notebook_cell_df34fa98e69747e1a8f8a730347b8e2f_X52sZmlsZQ==.jl:2 within `_polynomial!` @ c:\\Users\\peter\\Documents\\Skola\\SPJ\\cv06\\jl_notebook_cell_df34fa98e69747e1a8f8a730347b8e2f_X52sZmlsZQ==.jl:2 @ c:\\Users\\peter\\Documents\\Skola\\SPJ\\cv06\\jl_notebook_cell_df34fa98e69747e1a8f8a730347b8e2f_X52sZmlsZQ==.jl:2 @ c:\\Users\\peter\\Documents\\Skola\\SPJ\\cv06\\jl_notebook_cell_df34fa98e69747e1a8f8a730347b8e2f_X52sZmlsZQ==.jl:2 @ c:\\Users\\peter\\Documents\\Skola\\SPJ\\cv06\\jl_notebook_cell_df34fa98e69747e1a8f8a730347b8e2f_X52sZmlsZQ==.jl:2 @ c:\\Users\\peter\\Documents\\Skola\\SPJ\\cv06\\jl_notebook_cell_df34fa98e69747e1a8f8a730347b8e2f_X52sZmlsZQ==.jl:2\u001b[39m\n",
      "\u001b[90m; │┌ @ float.jl:411 within `*`\u001b[39m\n",
      "    \u001b[0m%28 \u001b[0m= \u001b[96m\u001b[1mfmul\u001b[22m\u001b[39m \u001b[36mdouble\u001b[39m \u001b[0m%27\u001b[0m, \u001b[0m%1\n",
      "\u001b[90m; │└\u001b[39m\n",
      "\u001b[90m; │┌ @ promotion.jl:422 within `+`\u001b[39m\n",
      "\u001b[90m; ││┌ @ promotion.jl:393 within `promote`\u001b[39m\n",
      "\u001b[90m; │││┌ @ promotion.jl:370 within `_promote`\u001b[39m\n",
      "\u001b[90m; ││││┌ @ number.jl:7 within `convert`\u001b[39m\n",
      "\u001b[90m; │││││┌ @ float.jl:159 within `Float64`\u001b[39m\n",
      "        \u001b[0m%unbox6 \u001b[0m= \u001b[96m\u001b[1mload\u001b[22m\u001b[39m \u001b[36mi64\u001b[39m\u001b[0m, \u001b[36mi64\u001b[39m\u001b[0m* \u001b[0m%7\u001b[0m, \u001b[95malign\u001b[39m \u001b[33m8\u001b[39m\n",
      "        \u001b[0m%29 \u001b[0m= \u001b[96m\u001b[1msitofp\u001b[22m\u001b[39m \u001b[36mi64\u001b[39m \u001b[0m%unbox6 \u001b[95mto\u001b[39m \u001b[36mdouble\u001b[39m\n",
      "\u001b[90m; ││└└└└\u001b[39m\n",
      "\u001b[90m; ││ @ promotion.jl:422 within `+` @ float.jl:409\u001b[39m\n",
      "    \u001b[0m%30 \u001b[0m= \u001b[96m\u001b[1mfadd\u001b[22m\u001b[39m \u001b[36mdouble\u001b[39m \u001b[0m%28\u001b[0m, \u001b[0m%29\n",
      "\u001b[90m; │└\u001b[39m\n",
      "\u001b[90m; │ @ c:\\Users\\peter\\Documents\\Skola\\SPJ\\cv06\\jl_notebook_cell_df34fa98e69747e1a8f8a730347b8e2f_X52sZmlsZQ==.jl:2 within `_polynomial!` @ c:\\Users\\peter\\Documents\\Skola\\SPJ\\cv06\\jl_notebook_cell_df34fa98e69747e1a8f8a730347b8e2f_X52sZmlsZQ==.jl:2 @ c:\\Users\\peter\\Documents\\Skola\\SPJ\\cv06\\jl_notebook_cell_df34fa98e69747e1a8f8a730347b8e2f_X52sZmlsZQ==.jl:2 @ c:\\Users\\peter\\Documents\\Skola\\SPJ\\cv06\\jl_notebook_cell_df34fa98e69747e1a8f8a730347b8e2f_X52sZmlsZQ==.jl:2 @ c:\\Users\\peter\\Documents\\Skola\\SPJ\\cv06\\jl_notebook_cell_df34fa98e69747e1a8f8a730347b8e2f_X52sZmlsZQ==.jl:2 @ c:\\Users\\peter\\Documents\\Skola\\SPJ\\cv06\\jl_notebook_cell_df34fa98e69747e1a8f8a730347b8e2f_X52sZmlsZQ==.jl:2 @ c:\\Users\\peter\\Documents\\Skola\\SPJ\\cv06\\jl_notebook_cell_df34fa98e69747e1a8f8a730347b8e2f_X52sZmlsZQ==.jl:2\u001b[39m\n",
      "\u001b[90m; │┌ @ float.jl:411 within `*`\u001b[39m\n",
      "    \u001b[0m%31 \u001b[0m= \u001b[96m\u001b[1mfmul\u001b[22m\u001b[39m \u001b[36mdouble\u001b[39m \u001b[0m%30\u001b[0m, \u001b[0m%1\n",
      "\u001b[90m; │└\u001b[39m\n",
      "\u001b[90m; │┌ @ promotion.jl:422 within `+`\u001b[39m\n",
      "\u001b[90m; ││┌ @ promotion.jl:393 within `promote`\u001b[39m\n",
      "\u001b[90m; │││┌ @ promotion.jl:370 within `_promote`\u001b[39m\n",
      "\u001b[90m; ││││┌ @ number.jl:7 within `convert`\u001b[39m\n",
      "\u001b[90m; │││││┌ @ float.jl:159 within `Float64`\u001b[39m\n",
      "        \u001b[0m%unbox7 \u001b[0m= \u001b[96m\u001b[1mload\u001b[22m\u001b[39m \u001b[36mi64\u001b[39m\u001b[0m, \u001b[36mi64\u001b[39m\u001b[0m* \u001b[0m%6\u001b[0m, \u001b[95malign\u001b[39m \u001b[33m8\u001b[39m\n",
      "        \u001b[0m%32 \u001b[0m= \u001b[96m\u001b[1msitofp\u001b[22m\u001b[39m \u001b[36mi64\u001b[39m \u001b[0m%unbox7 \u001b[95mto\u001b[39m \u001b[36mdouble\u001b[39m\n",
      "\u001b[90m; ││└└└└\u001b[39m\n",
      "\u001b[90m; ││ @ promotion.jl:422 within `+` @ float.jl:409\u001b[39m\n",
      "    \u001b[0m%33 \u001b[0m= \u001b[96m\u001b[1mfadd\u001b[22m\u001b[39m \u001b[36mdouble\u001b[39m \u001b[0m%31\u001b[0m, \u001b[0m%32\n",
      "\u001b[90m; │└\u001b[39m\n",
      "\u001b[90m; │ @ c:\\Users\\peter\\Documents\\Skola\\SPJ\\cv06\\jl_notebook_cell_df34fa98e69747e1a8f8a730347b8e2f_X52sZmlsZQ==.jl:2 within `_polynomial!` @ c:\\Users\\peter\\Documents\\Skola\\SPJ\\cv06\\jl_notebook_cell_df34fa98e69747e1a8f8a730347b8e2f_X52sZmlsZQ==.jl:2 @ c:\\Users\\peter\\Documents\\Skola\\SPJ\\cv06\\jl_notebook_cell_df34fa98e69747e1a8f8a730347b8e2f_X52sZmlsZQ==.jl:2 @ c:\\Users\\peter\\Documents\\Skola\\SPJ\\cv06\\jl_notebook_cell_df34fa98e69747e1a8f8a730347b8e2f_X52sZmlsZQ==.jl:2 @ c:\\Users\\peter\\Documents\\Skola\\SPJ\\cv06\\jl_notebook_cell_df34fa98e69747e1a8f8a730347b8e2f_X52sZmlsZQ==.jl:2 @ c:\\Users\\peter\\Documents\\Skola\\SPJ\\cv06\\jl_notebook_cell_df34fa98e69747e1a8f8a730347b8e2f_X52sZmlsZQ==.jl:2 @ c:\\Users\\peter\\Documents\\Skola\\SPJ\\cv06\\jl_notebook_cell_df34fa98e69747e1a8f8a730347b8e2f_X52sZmlsZQ==.jl:2 @ c:\\Users\\peter\\Documents\\Skola\\SPJ\\cv06\\jl_notebook_cell_df34fa98e69747e1a8f8a730347b8e2f_X52sZmlsZQ==.jl:2\u001b[39m\n",
      "\u001b[90m; │┌ @ float.jl:411 within `*`\u001b[39m\n",
      "    \u001b[0m%34 \u001b[0m= \u001b[96m\u001b[1mfmul\u001b[22m\u001b[39m \u001b[36mdouble\u001b[39m \u001b[0m%33\u001b[0m, \u001b[0m%1\n",
      "\u001b[90m; │└\u001b[39m\n",
      "\u001b[90m; │┌ @ promotion.jl:422 within `+`\u001b[39m\n",
      "\u001b[90m; ││┌ @ promotion.jl:393 within `promote`\u001b[39m\n",
      "\u001b[90m; │││┌ @ promotion.jl:370 within `_promote`\u001b[39m\n",
      "\u001b[90m; ││││┌ @ number.jl:7 within `convert`\u001b[39m\n",
      "\u001b[90m; │││││┌ @ float.jl:159 within `Float64`\u001b[39m\n",
      "        \u001b[0m%unbox8 \u001b[0m= \u001b[96m\u001b[1mload\u001b[22m\u001b[39m \u001b[36mi64\u001b[39m\u001b[0m, \u001b[36mi64\u001b[39m\u001b[0m* \u001b[0m%5\u001b[0m, \u001b[95malign\u001b[39m \u001b[33m8\u001b[39m\n",
      "        \u001b[0m%35 \u001b[0m= \u001b[96m\u001b[1msitofp\u001b[22m\u001b[39m \u001b[36mi64\u001b[39m \u001b[0m%unbox8 \u001b[95mto\u001b[39m \u001b[36mdouble\u001b[39m\n",
      "\u001b[90m; ││└└└└\u001b[39m\n",
      "\u001b[90m; ││ @ promotion.jl:422 within `+` @ float.jl:409\u001b[39m\n",
      "    \u001b[0m%36 \u001b[0m= \u001b[96m\u001b[1mfadd\u001b[22m\u001b[39m \u001b[36mdouble\u001b[39m \u001b[0m%34\u001b[0m, \u001b[0m%35\n",
      "\u001b[90m; │└\u001b[39m\n",
      "\u001b[90m; │ @ c:\\Users\\peter\\Documents\\Skola\\SPJ\\cv06\\jl_notebook_cell_df34fa98e69747e1a8f8a730347b8e2f_X52sZmlsZQ==.jl:2 within `_polynomial!` @ c:\\Users\\peter\\Documents\\Skola\\SPJ\\cv06\\jl_notebook_cell_df34fa98e69747e1a8f8a730347b8e2f_X52sZmlsZQ==.jl:2 @ c:\\Users\\peter\\Documents\\Skola\\SPJ\\cv06\\jl_notebook_cell_df34fa98e69747e1a8f8a730347b8e2f_X52sZmlsZQ==.jl:2 @ c:\\Users\\peter\\Documents\\Skola\\SPJ\\cv06\\jl_notebook_cell_df34fa98e69747e1a8f8a730347b8e2f_X52sZmlsZQ==.jl:2 @ c:\\Users\\peter\\Documents\\Skola\\SPJ\\cv06\\jl_notebook_cell_df34fa98e69747e1a8f8a730347b8e2f_X52sZmlsZQ==.jl:2 @ c:\\Users\\peter\\Documents\\Skola\\SPJ\\cv06\\jl_notebook_cell_df34fa98e69747e1a8f8a730347b8e2f_X52sZmlsZQ==.jl:2 @ c:\\Users\\peter\\Documents\\Skola\\SPJ\\cv06\\jl_notebook_cell_df34fa98e69747e1a8f8a730347b8e2f_X52sZmlsZQ==.jl:2 @ c:\\Users\\peter\\Documents\\Skola\\SPJ\\cv06\\jl_notebook_cell_df34fa98e69747e1a8f8a730347b8e2f_X52sZmlsZQ==.jl:2 @ c:\\Users\\peter\\Documents\\Skola\\SPJ\\cv06\\jl_notebook_cell_df34fa98e69747e1a8f8a730347b8e2f_X52sZmlsZQ==.jl:6\u001b[39m\n",
      "\u001b[90m; │┌ @ float.jl:411 within `*`\u001b[39m\n",
      "    \u001b[0m%37 \u001b[0m= \u001b[96m\u001b[1mfmul\u001b[22m\u001b[39m \u001b[36mdouble\u001b[39m \u001b[0m%36\u001b[0m, \u001b[0m%1\n",
      "\u001b[90m; │└\u001b[39m\n",
      "\u001b[90m; │┌ @ promotion.jl:422 within `+`\u001b[39m\n",
      "\u001b[90m; ││┌ @ promotion.jl:393 within `promote`\u001b[39m\n",
      "\u001b[90m; │││┌ @ promotion.jl:370 within `_promote`\u001b[39m\n",
      "\u001b[90m; ││││┌ @ number.jl:7 within `convert`\u001b[39m\n",
      "\u001b[90m; │││││┌ @ float.jl:159 within `Float64`\u001b[39m\n",
      "        \u001b[0m%unbox9 \u001b[0m= \u001b[96m\u001b[1mload\u001b[22m\u001b[39m \u001b[36mi64\u001b[39m\u001b[0m, \u001b[36mi64\u001b[39m\u001b[0m* \u001b[0m%4\u001b[0m, \u001b[95malign\u001b[39m \u001b[33m8\u001b[39m\n",
      "        \u001b[0m%38 \u001b[0m= \u001b[96m\u001b[1msitofp\u001b[22m\u001b[39m \u001b[36mi64\u001b[39m \u001b[0m%unbox9 \u001b[95mto\u001b[39m \u001b[36mdouble\u001b[39m\n",
      "\u001b[90m; ││└└└└\u001b[39m\n",
      "\u001b[90m; ││ @ promotion.jl:422 within `+` @ float.jl:409\u001b[39m\n",
      "    \u001b[0m%39 \u001b[0m= \u001b[96m\u001b[1mfadd\u001b[22m\u001b[39m \u001b[36mdouble\u001b[39m \u001b[0m%37\u001b[0m, \u001b[0m%38\n",
      "    \u001b[96m\u001b[1mret\u001b[22m\u001b[39m \u001b[36mdouble\u001b[39m \u001b[0m%39\n",
      "\u001b[90m; └└\u001b[39m\n",
      "\u001b[33m}\u001b[39m\n"
     ]
    }
   ],
   "source": [
    "@code_llvm polynomial(a, x)"
   ]
  },
  {
   "cell_type": "code",
   "execution_count": null,
   "metadata": {},
   "outputs": [
    {
     "data": {
      "text/plain": [
       "VSCodeServer.IJuliaCore.IJuliaStdio{Base.PipeEndpoint, typeof(VSCodeServer.io_send_callback)}(IOContext(Base.PipeEndpoint(Base.Libc.WindowsRawSocket(0x000000000000043c) open, 0 bytes waiting)), VSCodeServer.io_send_callback)"
      ]
     },
     "metadata": {},
     "output_type": "display_data"
    }
   ],
   "source": [
    "open(\"./native_poly.ll\", \"w\") do file\n",
    "    original_stdout = stdout\n",
    "    redirect_stdout(file)\n",
    "    @code_native polynomial(a,x)\n",
    "    redirect_stdout(original_stdout)\n",
    "end\n",
    "\n",
    "# 33 is unrolled, 34 is not"
   ]
  },
  {
   "cell_type": "markdown",
   "metadata": {},
   "source": [
    "####"
   ]
  },
  {
   "cell_type": "markdown",
   "metadata": {
    "vscode": {
     "languageId": "julia"
    }
   },
   "source": [
    "## AST manipulation: The first steps to metaprogramming\n",
    "Julia is so called homoiconic language, as it allows the language to reason about its code. This capability is inspired by years of development in other languages such as Lisp, Clojure or Prolog.\n",
    "\n",
    "There are two easy ways to extract/construct the code structure [^5]\n",
    "- parsing code stored in string with internal `Meta.parse`"
   ]
  },
  {
   "cell_type": "code",
   "execution_count": 88,
   "metadata": {},
   "outputs": [
    {
     "data": {
      "text/plain": [
       "quote\n",
       "    \u001b[90m#= none:2 =#\u001b[39m\n",
       "    x = 2\n",
       "    \u001b[90m#= none:3 =#\u001b[39m\n",
       "    y = 3\n",
       "    \u001b[90m#= none:4 =#\u001b[39m\n",
       "    x + y\n",
       "end"
      ]
     },
     "metadata": {},
     "output_type": "display_data"
    }
   ],
   "source": [
    "code_parse = Meta.parse(\"x = 2\")    # for single line expressions (additional spaces are ignored)\n",
    "code_parse_block = Meta.parse(\"\"\"\n",
    "begin\n",
    "    x = 2\n",
    "    y = 3\n",
    "    x + y\n",
    "end\n",
    "\"\"\") # for multiline expressions"
   ]
  },
  {
   "cell_type": "markdown",
   "metadata": {},
   "source": [
    "- constructing an expression using `quote ... end` or simple `:()` syntax"
   ]
  },
  {
   "cell_type": "code",
   "execution_count": 89,
   "metadata": {},
   "outputs": [
    {
     "data": {
      "text/plain": [
       "quote\n",
       "    \u001b[90m#= c:\\Users\\peter\\Documents\\Skola\\SPJ\\cv06\\jl_notebook_cell_df34fa98e69747e1a8f8a730347b8e2f_X63sZmlsZQ==.jl:3 =#\u001b[39m\n",
       "    x = 2\n",
       "    \u001b[90m#= c:\\Users\\peter\\Documents\\Skola\\SPJ\\cv06\\jl_notebook_cell_df34fa98e69747e1a8f8a730347b8e2f_X63sZmlsZQ==.jl:4 =#\u001b[39m\n",
       "    y = 3\n",
       "    \u001b[90m#= c:\\Users\\peter\\Documents\\Skola\\SPJ\\cv06\\jl_notebook_cell_df34fa98e69747e1a8f8a730347b8e2f_X63sZmlsZQ==.jl:5 =#\u001b[39m\n",
       "    x + y\n",
       "end"
      ]
     },
     "metadata": {},
     "output_type": "display_data"
    }
   ],
   "source": [
    "code_expr = :(x = 2)    # for single line expressions (additional spaces are ignored)\n",
    "code_expr_block = quote\n",
    "    x = 2\n",
    "    y = 3\n",
    "    x + y   \n",
    "end # for multiline expressions"
   ]
  },
  {
   "cell_type": "markdown",
   "metadata": {},
   "source": [
    "Results can be stored into some variables, which we can inspect further."
   ]
  },
  {
   "cell_type": "code",
   "execution_count": 90,
   "metadata": {},
   "outputs": [
    {
     "name": "stdout",
     "output_type": "stream",
     "text": [
      "Expr\n",
      "  head: Symbol =\n",
      "  args: Array{Any}((2,))\n",
      "    1: Symbol x\n",
      "    2: Int64 2\n"
     ]
    }
   ],
   "source": [
    "typeof(code_parse)\n",
    "dump(code_parse)"
   ]
  },
  {
   "cell_type": "code",
   "execution_count": 91,
   "metadata": {},
   "outputs": [
    {
     "name": "stdout",
     "output_type": "stream",
     "text": [
      "Expr\n",
      "  head: Symbol block\n",
      "  args: Array{Any}((6,))\n",
      "    1: LineNumberNode\n",
      "      line: Int64 2\n",
      "      file: Symbol none\n",
      "    2: Expr\n",
      "      head: Symbol =\n",
      "      args: Array{Any}((2,))\n",
      "        1: Symbol x\n",
      "        2: Int64 2\n",
      "    3: LineNumberNode\n",
      "      line: Int64 3\n",
      "      file: Symbol none\n",
      "    4: Expr\n",
      "      head: Symbol =\n",
      "      args: Array{Any}((2,))\n",
      "        1: Symbol y\n",
      "        2: Int64 3\n",
      "    5: LineNumberNode\n",
      "      line: Int64 4\n",
      "      file: Symbol none\n",
      "    6: Expr\n",
      "      head: Symbol call\n",
      "      args: Array{Any}((3,))\n",
      "        1: Symbol +\n",
      "        2: Symbol x\n",
      "        3: Symbol y\n"
     ]
    }
   ],
   "source": [
    "typeof(code_parse_block)\n",
    "dump(code_parse_block)"
   ]
  },
  {
   "cell_type": "markdown",
   "metadata": {},
   "source": [
    "The type of both multiline and single line expression is `Expr` with fields `head` and `args`. Notice that `Expr` type is recursive in the `args`, which can store other expressions resulting in a tree structure - abstract syntax tree (AST) - that can be visualized for example with the combination of `GraphRecipes` and `Plots` packages. \n"
   ]
  },
  {
   "cell_type": "code",
   "execution_count": 94,
   "metadata": {},
   "outputs": [
    {
     "name": "stderr",
     "output_type": "stream",
     "text": [
      "\u001b[32m\u001b[1m    Updating\u001b[22m\u001b[39m registry at `C:\\Users\\peter\\.julia\\registries\\General.toml`\n",
      "\u001b[32m\u001b[1m   Resolving\u001b[22m\u001b[39m package versions...\n",
      "\u001b[32m\u001b[1m   Installed\u001b[22m\u001b[39m GeometryTypes ──── v0.8.5\n",
      "\u001b[32m\u001b[1m   Installed\u001b[22m\u001b[39m OffsetArrays ───── v1.14.1\n",
      "\u001b[32m\u001b[1m   Installed\u001b[22m\u001b[39m Inflate ────────── v0.1.5\n",
      "\u001b[32m\u001b[1m   Installed\u001b[22m\u001b[39m ArnoldiMethod ──── v0.4.0\n",
      "\u001b[32m\u001b[1m   Installed\u001b[22m\u001b[39m GeometryBasics ─── v0.4.11\n",
      "\u001b[32m\u001b[1m   Installed\u001b[22m\u001b[39m IterTools ──────── v1.10.0\n",
      "\u001b[32m\u001b[1m   Installed\u001b[22m\u001b[39m Adapt ──────────── v4.1.1\n",
      "\u001b[32m\u001b[1m   Installed\u001b[22m\u001b[39m Extents ────────── v0.1.4\n",
      "\u001b[32m\u001b[1m   Installed\u001b[22m\u001b[39m NetworkLayout ──── v0.4.7\n",
      "\u001b[32m\u001b[1m   Installed\u001b[22m\u001b[39m StaticArraysCore ─ v1.4.3\n",
      "\u001b[32m\u001b[1m   Installed\u001b[22m\u001b[39m EarCut_jll ─────── v2.2.4+0\n",
      "\u001b[32m\u001b[1m   Installed\u001b[22m\u001b[39m ConstructionBase ─ v1.5.8\n",
      "\u001b[32m\u001b[1m   Installed\u001b[22m\u001b[39m StructArrays ───── v0.6.18\n",
      "\u001b[32m\u001b[1m   Installed\u001b[22m\u001b[39m StaticArrays ───── v1.9.8\n",
      "\u001b[32m\u001b[1m   Installed\u001b[22m\u001b[39m AxisAlgorithms ─── v1.1.0\n",
      "\u001b[32m\u001b[1m   Installed\u001b[22m\u001b[39m Ratios ─────────── v0.4.5\n",
      "\u001b[32m\u001b[1m   Installed\u001b[22m\u001b[39m GraphRecipes ───── v0.5.13\n",
      "\u001b[32m\u001b[1m   Installed\u001b[22m\u001b[39m ChainRulesCore ─── v1.25.0\n",
      "\u001b[32m\u001b[1m   Installed\u001b[22m\u001b[39m GeoInterface ───── v1.3.7\n",
      "\u001b[32m\u001b[1m   Installed\u001b[22m\u001b[39m Interpolations ─── v0.15.1\n",
      "\u001b[32m\u001b[1m   Installed\u001b[22m\u001b[39m WoodburyMatrices ─ v1.0.0\n",
      "\u001b[32m\u001b[1m   Installed\u001b[22m\u001b[39m GeoFormatTypes ─── v0.4.2\n",
      "\u001b[32m\u001b[1m   Installed\u001b[22m\u001b[39m SimpleTraits ───── v0.9.4\n",
      "\u001b[32m\u001b[1m   Installed\u001b[22m\u001b[39m ColorSchemes ───── v3.27.0\n",
      "\u001b[32m\u001b[1m   Installed\u001b[22m\u001b[39m Graphs ─────────── v1.12.0\n",
      "\u001b[32m\u001b[1m    Updating\u001b[22m\u001b[39m `C:\\Users\\peter\\Documents\\Skola\\SPJ\\Project.toml`\n",
      "  \u001b[90m[bd48cda9] \u001b[39m\u001b[92m+ GraphRecipes v0.5.13\u001b[39m\n",
      "\u001b[32m\u001b[1m    Updating\u001b[22m\u001b[39m `C:\\Users\\peter\\Documents\\Skola\\SPJ\\Manifest.toml`\n",
      "  \u001b[90m[1520ce14] \u001b[39m\u001b[92m+ AbstractTrees v0.4.5\u001b[39m\n",
      "  \u001b[90m[79e6a3ab] \u001b[39m\u001b[92m+ Adapt v4.1.1\u001b[39m\n",
      "  \u001b[90m[ec485272] \u001b[39m\u001b[92m+ ArnoldiMethod v0.4.0\u001b[39m\n",
      "  \u001b[90m[13072b0f] \u001b[39m\u001b[92m+ AxisAlgorithms v1.1.0\u001b[39m\n",
      "  \u001b[90m[d360d2e6] \u001b[39m\u001b[92m+ ChainRulesCore v1.25.0\u001b[39m\n",
      "  \u001b[90m[35d6a980] \u001b[39m\u001b[92m+ ColorSchemes v3.27.0\u001b[39m\n",
      "\u001b[33m⌅\u001b[39m \u001b[90m[3da002f7] \u001b[39m\u001b[92m+ ColorTypes v0.11.5\u001b[39m\n",
      "  \u001b[90m[c3611d14] \u001b[39m\u001b[92m+ ColorVectorSpace v0.10.0\u001b[39m\n",
      "\u001b[33m⌅\u001b[39m \u001b[90m[5ae59095] \u001b[39m\u001b[92m+ Colors v0.12.11\u001b[39m\n",
      "  \u001b[90m[34da2185] \u001b[39m\u001b[92m+ Compat v4.16.0\u001b[39m\n",
      "  \u001b[90m[187b0558] \u001b[39m\u001b[92m+ ConstructionBase v1.5.8\u001b[39m\n",
      "  \u001b[90m[9a962f9c] \u001b[39m\u001b[92m+ DataAPI v1.16.0\u001b[39m\n",
      "  \u001b[90m[864edb3b] \u001b[39m\u001b[92m+ DataStructures v0.18.20\u001b[39m\n",
      "  \u001b[90m[e2d170a0] \u001b[39m\u001b[92m+ DataValueInterfaces v1.0.0\u001b[39m\n",
      "  \u001b[90m[411431e0] \u001b[39m\u001b[92m+ Extents v0.1.4\u001b[39m\n",
      "  \u001b[90m[53c48c17] \u001b[39m\u001b[92m+ FixedPointNumbers v0.8.5\u001b[39m\n",
      "  \u001b[90m[68eda718] \u001b[39m\u001b[92m+ GeoFormatTypes v0.4.2\u001b[39m\n",
      "  \u001b[90m[cf35fbd7] \u001b[39m\u001b[92m+ GeoInterface v1.3.7\u001b[39m\n",
      "  \u001b[90m[5c1252a2] \u001b[39m\u001b[92m+ GeometryBasics v0.4.11\u001b[39m\n",
      "  \u001b[90m[4d00f742] \u001b[39m\u001b[92m+ GeometryTypes v0.8.5\u001b[39m\n",
      "  \u001b[90m[bd48cda9] \u001b[39m\u001b[92m+ GraphRecipes v0.5.13\u001b[39m\n",
      "  \u001b[90m[86223c79] \u001b[39m\u001b[92m+ Graphs v1.12.0\u001b[39m\n",
      "  \u001b[90m[d25df0c9] \u001b[39m\u001b[92m+ Inflate v0.1.5\u001b[39m\n",
      "  \u001b[90m[a98d9a8b] \u001b[39m\u001b[92m+ Interpolations v0.15.1\u001b[39m\n",
      "  \u001b[90m[c8e1da08] \u001b[39m\u001b[92m+ IterTools v1.10.0\u001b[39m\n",
      "  \u001b[90m[82899510] \u001b[39m\u001b[92m+ IteratorInterfaceExtensions v1.0.0\u001b[39m\n",
      "  \u001b[90m[692b3bcd] \u001b[39m\u001b[92m+ JLLWrappers v1.6.1\u001b[39m\n",
      "  \u001b[90m[1914dd2f] \u001b[39m\u001b[92m+ MacroTools v0.5.13\u001b[39m\n",
      "  \u001b[90m[77ba4419] \u001b[39m\u001b[92m+ NaNMath v1.0.2\u001b[39m\n",
      "  \u001b[90m[46757867] \u001b[39m\u001b[92m+ NetworkLayout v0.4.7\u001b[39m\n",
      "  \u001b[90m[6fe1bfb0] \u001b[39m\u001b[92m+ OffsetArrays v1.14.1\u001b[39m\n",
      "  \u001b[90m[bac558e1] \u001b[39m\u001b[92m+ OrderedCollections v1.6.3\u001b[39m\n",
      "  \u001b[90m[995b91a9] \u001b[39m\u001b[92m+ PlotUtils v1.4.2\u001b[39m\n",
      "  \u001b[90m[aea7be01] \u001b[39m\u001b[92m+ PrecompileTools v1.2.1\u001b[39m\n",
      "  \u001b[90m[21216c6a] \u001b[39m\u001b[92m+ Preferences v1.4.3\u001b[39m\n",
      "  \u001b[90m[c84ed2f1] \u001b[39m\u001b[92m+ Ratios v0.4.5\u001b[39m\n",
      "  \u001b[90m[3cdcf5f2] \u001b[39m\u001b[92m+ RecipesBase v1.3.4\u001b[39m\n",
      "  \u001b[90m[189a3867] \u001b[39m\u001b[92m+ Reexport v1.2.2\u001b[39m\n",
      "  \u001b[90m[ae029012] \u001b[39m\u001b[92m+ Requires v1.3.0\u001b[39m\n",
      "  \u001b[90m[699a6c99] \u001b[39m\u001b[92m+ SimpleTraits v0.9.4\u001b[39m\n",
      "  \u001b[90m[860ef19b] \u001b[39m\u001b[92m+ StableRNGs v1.0.2\u001b[39m\n",
      "  \u001b[90m[90137ffa] \u001b[39m\u001b[92m+ StaticArrays v1.9.8\u001b[39m\n",
      "  \u001b[90m[1e83bf80] \u001b[39m\u001b[92m+ StaticArraysCore v1.4.3\u001b[39m\n",
      "  \u001b[90m[09ab397b] \u001b[39m\u001b[92m+ StructArrays v0.6.18\u001b[39m\n",
      "  \u001b[90m[3783bdb8] \u001b[39m\u001b[92m+ TableTraits v1.0.1\u001b[39m\n",
      "  \u001b[90m[bd369af6] \u001b[39m\u001b[92m+ Tables v1.12.0\u001b[39m\n",
      "  \u001b[90m[62fd8b95] \u001b[39m\u001b[92m+ TensorCore v0.1.1\u001b[39m\n",
      "  \u001b[90m[efce3f68] \u001b[39m\u001b[92m+ WoodburyMatrices v1.0.0\u001b[39m\n",
      "  \u001b[90m[5ae413db] \u001b[39m\u001b[92m+ EarCut_jll v2.2.4+0\u001b[39m\n",
      "  \u001b[90m[0dad84c5] \u001b[39m\u001b[92m+ ArgTools v1.1.1\u001b[39m\n",
      "  \u001b[90m[56f22d72] \u001b[39m\u001b[92m+ Artifacts\u001b[39m\n",
      "  \u001b[90m[2a0f44e3] \u001b[39m\u001b[92m+ Base64\u001b[39m\n",
      "  \u001b[90m[ade2ca70] \u001b[39m\u001b[92m+ Dates\u001b[39m\n",
      "  \u001b[90m[8ba89e20] \u001b[39m\u001b[92m+ Distributed\u001b[39m\n",
      "  \u001b[90m[f43a241f] \u001b[39m\u001b[92m+ Downloads v1.6.0\u001b[39m\n",
      "  \u001b[90m[7b1f6079] \u001b[39m\u001b[92m+ FileWatching\u001b[39m\n",
      "  \u001b[90m[b77e0a4c] \u001b[39m\u001b[92m+ InteractiveUtils\u001b[39m\n",
      "  \u001b[90m[b27032c2] \u001b[39m\u001b[92m+ LibCURL v0.6.4\u001b[39m\n",
      "  \u001b[90m[76f85450] \u001b[39m\u001b[92m+ LibGit2\u001b[39m\n",
      "  \u001b[90m[8f399da3] \u001b[39m\u001b[92m+ Libdl\u001b[39m\n",
      "  \u001b[90m[37e2e46d] \u001b[39m\u001b[92m+ LinearAlgebra\u001b[39m\n",
      "  \u001b[90m[56ddb016] \u001b[39m\u001b[92m+ Logging\u001b[39m\n",
      "  \u001b[90m[d6f4376e] \u001b[39m\u001b[92m+ Markdown\u001b[39m\n",
      "  \u001b[90m[a63ad114] \u001b[39m\u001b[92m+ Mmap\u001b[39m\n",
      "  \u001b[90m[ca575930] \u001b[39m\u001b[92m+ NetworkOptions v1.2.0\u001b[39m\n",
      "  \u001b[90m[44cfe95a] \u001b[39m\u001b[92m+ Pkg v1.10.0\u001b[39m\n",
      "  \u001b[90m[de0858da] \u001b[39m\u001b[92m+ Printf\u001b[39m\n",
      "  \u001b[90m[3fa0cd96] \u001b[39m\u001b[92m+ REPL\u001b[39m\n",
      "  \u001b[90m[9a3f8284] \u001b[39m\u001b[92m+ Random\u001b[39m\n",
      "  \u001b[90m[ea8e919c] \u001b[39m\u001b[92m+ SHA v0.7.0\u001b[39m\n",
      "  \u001b[90m[9e88b42a] \u001b[39m\u001b[92m+ Serialization\u001b[39m\n",
      "  \u001b[90m[1a1011a3] \u001b[39m\u001b[92m+ SharedArrays\u001b[39m\n",
      "  \u001b[90m[6462fe0b] \u001b[39m\u001b[92m+ Sockets\u001b[39m\n",
      "  \u001b[90m[2f01184e] \u001b[39m\u001b[92m+ SparseArrays v1.10.0\u001b[39m\n",
      "  \u001b[90m[10745b16] \u001b[39m\u001b[92m+ Statistics v1.10.0\u001b[39m\n",
      "  \u001b[90m[fa267f1f] \u001b[39m\u001b[92m+ TOML v1.0.3\u001b[39m\n",
      "  \u001b[90m[a4e569a6] \u001b[39m\u001b[92m+ Tar v1.10.0\u001b[39m\n",
      "  \u001b[90m[cf7118a7] \u001b[39m\u001b[92m+ UUIDs\u001b[39m\n",
      "  \u001b[90m[4ec0a83e] \u001b[39m\u001b[92m+ Unicode\u001b[39m\n",
      "  \u001b[90m[e66e0078] \u001b[39m\u001b[92m+ CompilerSupportLibraries_jll v1.1.1+0\u001b[39m\n",
      "  \u001b[90m[deac9b47] \u001b[39m\u001b[92m+ LibCURL_jll v8.4.0+0\u001b[39m\n",
      "  \u001b[90m[e37daf67] \u001b[39m\u001b[92m+ LibGit2_jll v1.6.4+0\u001b[39m\n",
      "  \u001b[90m[29816b5a] \u001b[39m\u001b[92m+ LibSSH2_jll v1.11.0+1\u001b[39m\n",
      "  \u001b[90m[c8ffd9c3] \u001b[39m\u001b[92m+ MbedTLS_jll v2.28.2+1\u001b[39m\n",
      "  \u001b[90m[14a3606d] \u001b[39m\u001b[92m+ MozillaCACerts_jll v2023.1.10\u001b[39m\n",
      "  \u001b[90m[4536629a] \u001b[39m\u001b[92m+ OpenBLAS_jll v0.3.23+4\u001b[39m\n",
      "  \u001b[90m[05823500] \u001b[39m\u001b[92m+ OpenLibm_jll v0.8.1+2\u001b[39m\n",
      "  \u001b[90m[bea87d4a] \u001b[39m\u001b[92m+ SuiteSparse_jll v7.2.1+1\u001b[39m\n",
      "  \u001b[90m[83775a58] \u001b[39m\u001b[92m+ Zlib_jll v1.2.13+1\u001b[39m\n",
      "  \u001b[90m[8e850b90] \u001b[39m\u001b[92m+ libblastrampoline_jll v5.11.0+0\u001b[39m\n",
      "  \u001b[90m[8e850ede] \u001b[39m\u001b[92m+ nghttp2_jll v1.52.0+1\u001b[39m\n",
      "  \u001b[90m[3f19e933] \u001b[39m\u001b[92m+ p7zip_jll v17.4.0+2\u001b[39m\n",
      "\u001b[36m\u001b[1m        Info\u001b[22m\u001b[39m Packages marked with \u001b[33m⌅\u001b[39m have new versions available but compatibility constraints restrict them from upgrading. To see why use `status --outdated -m`\n",
      "\u001b[32m\u001b[1mPrecompiling\u001b[22m\u001b[39m project...\n",
      "\u001b[32m  ✓ \u001b[39m\u001b[90mStaticArraysCore\u001b[39m\n",
      "\u001b[32m  ✓ \u001b[39m\u001b[90mGeoFormatTypes\u001b[39m\n",
      "\u001b[32m  ✓ \u001b[39m\u001b[90mAdapt\u001b[39m\n",
      "\u001b[32m  ✓ \u001b[39m\u001b[90mExtents\u001b[39m\n",
      "\u001b[32m  ✓ \u001b[39m\u001b[90mConstructionBase\u001b[39m\n",
      "\u001b[32m  ✓ \u001b[39m\u001b[90mInflate\u001b[39m\n",
      "\u001b[32m  ✓ \u001b[39m\u001b[90mIterTools\u001b[39m\n",
      "\u001b[32m  ✓ \u001b[39m\u001b[90mRatios\u001b[39m\n",
      "\u001b[32m  ✓ \u001b[39m\u001b[90mEarCut_jll\u001b[39m\n",
      "\u001b[32m  ✓ \u001b[39m\u001b[90mChainRulesCore\u001b[39m\n",
      "\u001b[32m  ✓ \u001b[39m\u001b[90mWoodburyMatrices\u001b[39m\n",
      "\u001b[32m  ✓ \u001b[39m\u001b[90mConstructionBase → ConstructionBaseLinearAlgebraExt\u001b[39m\n",
      "\u001b[32m  ✓ \u001b[39m\u001b[90mSimpleTraits\u001b[39m\n",
      "\u001b[32m  ✓ \u001b[39m\u001b[90mOffsetArrays\u001b[39m\n",
      "\u001b[32m  ✓ \u001b[39m\u001b[90mGeoInterface\u001b[39m\n",
      "\u001b[32m  ✓ \u001b[39m\u001b[90mRatios → RatiosFixedPointNumbersExt\u001b[39m\n",
      "\u001b[32m  ✓ \u001b[39m\u001b[90mChainRulesCore → ChainRulesCoreSparseArraysExt\u001b[39m\n",
      "\u001b[32m  ✓ \u001b[39m\u001b[90mOffsetArrays → OffsetArraysAdaptExt\u001b[39m\n",
      "\u001b[32m  ✓ \u001b[39m\u001b[90mAxisAlgorithms\u001b[39m\n",
      "\u001b[32m  ✓ \u001b[39m\u001b[90mColorSchemes\u001b[39m\n",
      "\u001b[32m  ✓ \u001b[39m\u001b[90mStaticArrays\u001b[39m\n",
      "\u001b[32m  ✓ \u001b[39m\u001b[90mAdapt → AdaptStaticArraysExt\u001b[39m\n",
      "\u001b[32m  ✓ \u001b[39m\u001b[90mConstructionBase → ConstructionBaseStaticArraysExt\u001b[39m\n",
      "\u001b[32m  ✓ \u001b[39m\u001b[90mStaticArrays → StaticArraysChainRulesCoreExt\u001b[39m\n",
      "\u001b[32m  ✓ \u001b[39m\u001b[90mStaticArrays → StaticArraysStatisticsExt\u001b[39m\n",
      "\u001b[32m  ✓ \u001b[39m\u001b[90mStructArrays\u001b[39m\n",
      "\u001b[32m  ✓ \u001b[39m\u001b[90mStructArrays → StructArraysAdaptExt\u001b[39m\n",
      "\u001b[32m  ✓ \u001b[39m\u001b[90mStructArrays → StructArraysSparseArraysExt\u001b[39m\n",
      "\u001b[32m  ✓ \u001b[39m\u001b[90mStructArrays → StructArraysStaticArraysExt\u001b[39m\n",
      "\u001b[32m  ✓ \u001b[39m\u001b[90mArnoldiMethod\u001b[39m\n",
      "\u001b[32m  ✓ \u001b[39m\u001b[90mInterpolations\u001b[39m\n",
      "\u001b[32m  ✓ \u001b[39m\u001b[90mGeometryTypes\u001b[39m\n",
      "\u001b[32m  ✓ \u001b[39m\u001b[90mPlotUtils\u001b[39m\n",
      "\u001b[32m  ✓ \u001b[39m\u001b[90mGeometryBasics\u001b[39m\n",
      "\u001b[32m  ✓ \u001b[39m\u001b[90mGraphs\u001b[39m\n",
      "\u001b[32m  ✓ \u001b[39m\u001b[90mNetworkLayout\u001b[39m\n",
      "\u001b[32m  ✓ \u001b[39m\u001b[90mNetworkLayout → NetworkLayoutGraphsExt\u001b[39m\n",
      "\u001b[32m  ✓ \u001b[39mGraphRecipes\n",
      "  38 dependencies successfully precompiled in 32 seconds. 32 already precompiled.\n"
     ]
    },
    {
     "data": {
      "image/png": "[encoded data removed]",
      "image/svg+xml": [
       "<?xml version=\"1.0\" encoding=\"utf-8\"?>\n",
       "<svg xmlns=\"http://www.w3.org/2000/svg\" xmlns:xlink=\"http://www.w3.org/1999/xlink\" width=\"600\" height=\"400\" viewBox=\"0 0 2400 1600\">\n",
       "<defs>\n",
       "  <clipPath id=\"clip280\">\n",
       "    <rect x=\"0\" y=\"0\" width=\"2400\" height=\"1600\"/>\n",
       "  </clipPath>\n",
       "</defs>\n",
       "<path clip-path=\"url(#clip280)\" d=\"M0 1600 L2400 1600 L2400 0 L0 0  Z\" fill=\"#ffffff\" fill-rule=\"evenodd\" fill-opacity=\"1\"/>\n",
       "<defs>\n",
       "  <clipPath id=\"clip281\">\n",
       "    <rect x=\"480\" y=\"0\" width=\"1681\" height=\"1600\"/>\n",
       "  </clipPath>\n",
       "</defs>\n",
       "<path clip-path=\"url(#clip280)\" d=\"M447.244 1552.76 L1952.76 1552.76 L1952.76 47.2441 L447.244 47.2441  Z\" fill=\"#ffffff\" fill-rule=\"evenodd\" fill-opacity=\"1\"/>\n",
       "<defs>\n",
       "  <clipPath id=\"clip282\">\n",
       "    <rect x=\"447\" y=\"47\" width=\"1507\" height=\"1507\"/>\n",
       "  </clipPath>\n",
       "</defs>\n",
       "<polyline clip-path=\"url(#clip282)\" style=\"stroke:#000000; stroke-linecap:round; stroke-linejoin:round; stroke-width:4; stroke-opacity:1; fill:none\" points=\"1200,232.538 1198.39,254.662 1193.69,276.153 1186.15,297.057 1175.99,317.422 1163.44,337.294 1148.72,356.72 1132.06,375.748 1113.69,394.423 1093.84,412.794 1072.74,430.907 1050.62,448.808 1027.69,466.546 1004.2,484.166 980.358,501.715 956.407,519.242 932.57,536.791 909.075,554.411 886.15,572.149 864.023,590.05 842.921,608.163 823.072,626.534 804.706,645.209 788.048,664.237 773.328,683.663 760.773,703.535 750.612,723.9 743.071,744.804 738.38,766.295 736.766,788.419 \"/>\n",
       "<polyline clip-path=\"url(#clip282)\" style=\"stroke:#000000; stroke-linecap:round; stroke-linejoin:round; stroke-width:4; stroke-opacity:1; fill:none\" points=\"1200,232.538 1200,249.983 1200,267.798 1200,285.954 1200,304.425 1200,323.183 1200,342.201 1200,361.451 1200,380.907 1200,400.54 1200,420.324 1200,440.23 1200,460.233 1200,480.304 1200,500.416 1200,520.541 1200,540.653 1200,560.724 1200,580.727 1200,600.633 1200,620.417 1200,640.05 1200,659.506 1200,678.756 1200,697.774 1200,716.532 1200,735.003 1200,753.159 1200,770.974 1200,788.419 \"/>\n",
       "<polyline clip-path=\"url(#clip282)\" style=\"stroke:#000000; stroke-linecap:round; stroke-linejoin:round; stroke-width:4; stroke-opacity:1; fill:none\" points=\"1200,232.538 1201.61,254.662 1206.31,276.153 1213.85,297.057 1224.01,317.422 1236.56,337.294 1251.28,356.72 1267.94,375.748 1286.31,394.423 1306.16,412.794 1327.26,430.907 1349.38,448.808 1372.31,466.546 1395.8,484.166 1419.64,501.715 1443.59,519.242 1467.43,536.791 1490.92,554.411 1513.85,572.149 1535.98,590.05 1557.08,608.163 1576.93,626.534 1595.29,645.209 1611.95,664.237 1626.67,683.663 1639.23,703.535 1649.39,723.9 1656.93,744.804 1661.62,766.295 1663.23,788.419 \"/>\n",
       "<polyline clip-path=\"url(#clip282)\" style=\"stroke:#000000; stroke-linecap:round; stroke-linejoin:round; stroke-width:4; stroke-opacity:1; fill:none\" points=\"736.766,811.581 736.362,829.359 735.189,847.435 733.304,865.787 730.764,884.393 727.625,903.23 723.945,922.277 719.781,941.511 715.189,960.911 710.227,980.455 704.951,1000.12 699.419,1019.88 693.688,1039.73 687.814,1059.62 681.855,1079.55 675.867,1099.49 669.908,1119.42 664.034,1139.32 658.303,1159.16 652.771,1178.92 647.496,1198.59 642.534,1218.13 637.942,1237.53 633.778,1256.77 630.098,1275.81 626.959,1294.65 624.419,1313.26 622.533,1331.61 621.361,1349.68 620.957,1367.46 \"/>\n",
       "<polyline clip-path=\"url(#clip282)\" style=\"stroke:#000000; stroke-linecap:round; stroke-linejoin:round; stroke-width:4; stroke-opacity:1; fill:none\" points=\"736.766,811.581 737.169,829.359 738.342,847.435 740.227,865.787 742.768,884.393 745.906,903.23 749.586,922.277 753.751,941.511 758.342,960.911 763.304,980.455 768.58,1000.12 774.112,1019.88 779.843,1039.73 785.717,1059.62 791.676,1079.55 797.664,1099.49 803.623,1119.42 809.497,1139.32 815.228,1159.16 820.76,1178.92 826.035,1198.59 830.997,1218.13 835.589,1237.53 839.754,1256.77 843.434,1275.81 846.572,1294.65 849.113,1313.26 850.998,1331.61 852.171,1349.68 852.574,1367.46 \"/>\n",
       "<polyline clip-path=\"url(#clip282)\" style=\"stroke:#000000; stroke-linecap:round; stroke-linejoin:round; stroke-width:4; stroke-opacity:1; fill:none\" points=\"1200,811.581 1199.6,829.359 1198.42,847.435 1196.54,865.787 1194,884.393 1190.86,903.23 1187.18,922.277 1183.01,941.511 1178.42,960.911 1173.46,980.455 1168.19,1000.12 1162.65,1019.88 1156.92,1039.73 1151.05,1059.62 1145.09,1079.55 1139.1,1099.49 1133.14,1119.42 1127.27,1139.32 1121.54,1159.16 1116.01,1178.92 1110.73,1198.59 1105.77,1218.13 1101.18,1237.53 1097.01,1256.77 1093.33,1275.81 1090.19,1294.65 1087.65,1313.26 1085.77,1331.61 1084.6,1349.68 1084.19,1367.46 \"/>\n",
       "<polyline clip-path=\"url(#clip282)\" style=\"stroke:#000000; stroke-linecap:round; stroke-linejoin:round; stroke-width:4; stroke-opacity:1; fill:none\" points=\"1200,811.581 1200.4,829.359 1201.58,847.435 1203.46,865.787 1206,884.393 1209.14,903.23 1212.82,922.277 1216.99,941.511 1221.58,960.911 1226.54,980.455 1231.81,1000.12 1237.35,1019.88 1243.08,1039.73 1248.95,1059.62 1254.91,1079.55 1260.9,1099.49 1266.86,1119.42 1272.73,1139.32 1278.46,1159.16 1283.99,1178.92 1289.27,1198.59 1294.23,1218.13 1298.82,1237.53 1302.99,1256.77 1306.67,1275.81 1309.81,1294.65 1312.35,1313.26 1314.23,1331.61 1315.4,1349.68 1315.81,1367.46 \"/>\n",
       "<polyline clip-path=\"url(#clip282)\" style=\"stroke:#000000; stroke-linecap:round; stroke-linejoin:round; stroke-width:4; stroke-opacity:1; fill:none\" points=\"1663.23,811.581 1662.83,829.359 1661.66,847.435 1659.77,865.787 1657.23,884.393 1654.09,903.23 1650.41,922.277 1646.25,941.511 1641.66,960.911 1636.7,980.455 1631.42,1000.12 1625.89,1019.88 1620.16,1039.73 1614.28,1059.62 1608.32,1079.55 1602.34,1099.49 1596.38,1119.42 1590.5,1139.32 1584.77,1159.16 1579.24,1178.92 1573.96,1198.59 1569,1218.13 1564.41,1237.53 1560.25,1256.77 1556.57,1275.81 1553.43,1294.65 1550.89,1313.26 1549,1331.61 1547.83,1349.68 1547.43,1367.46 \"/>\n",
       "<polyline clip-path=\"url(#clip282)\" style=\"stroke:#000000; stroke-linecap:round; stroke-linejoin:round; stroke-width:4; stroke-opacity:1; fill:none\" points=\"1663.23,811.581 1663.64,829.359 1664.81,847.435 1666.7,865.787 1669.24,884.393 1672.38,903.23 1676.06,922.277 1680.22,941.511 1684.81,960.911 1689.77,980.455 1695.05,1000.12 1700.58,1019.88 1706.31,1039.73 1712.19,1059.62 1718.14,1079.55 1724.13,1099.49 1730.09,1119.42 1735.97,1139.32 1741.7,1159.16 1747.23,1178.92 1752.5,1198.59 1757.47,1218.13 1762.06,1237.53 1766.22,1256.77 1769.9,1275.81 1773.04,1294.65 1775.58,1313.26 1777.47,1331.61 1778.64,1349.68 1779.04,1367.46 \"/>\n",
       "<path clip-path=\"url(#clip282)\" d=\"M1079.13 274.322 L1320.87 274.322 L1320.87 167.592 L1079.13 167.592 L1079.13 274.322 L1079.13 274.322  Z\" fill=\"#009af9\" fill-rule=\"evenodd\" fill-opacity=\"1\"/>\n",
       "<polyline clip-path=\"url(#clip282)\" style=\"stroke:#000000; stroke-linecap:round; stroke-linejoin:round; stroke-width:4; stroke-opacity:1; fill:none\" points=\"1079.13,274.322 1320.87,274.322 1320.87,167.592 1079.13,167.592 1079.13,274.322 \"/>\n",
       "<path clip-path=\"url(#clip282)\" d=\"M703.413 853.365 L770.118 853.365 L770.118 746.635 L703.413 746.635 L703.413 853.365 L703.413 853.365  Z\" fill=\"#009af9\" fill-rule=\"evenodd\" fill-opacity=\"1\"/>\n",
       "<polyline clip-path=\"url(#clip282)\" style=\"stroke:#000000; stroke-linecap:round; stroke-linejoin:round; stroke-width:4; stroke-opacity:1; fill:none\" points=\"703.413,853.365 770.118,853.365 770.118,746.635 703.413,746.635 703.413,853.365 \"/>\n",
       "<path clip-path=\"url(#clip282)\" d=\"M587.604 1432.41 L654.31 1432.41 L654.31 1325.68 L587.604 1325.68 L587.604 1432.41 L587.604 1432.41  Z\" fill=\"#009af9\" fill-rule=\"evenodd\" fill-opacity=\"1\"/>\n",
       "<polyline clip-path=\"url(#clip282)\" style=\"stroke:#000000; stroke-linecap:round; stroke-linejoin:round; stroke-width:4; stroke-opacity:1; fill:none\" points=\"587.604,1432.41 654.31,1432.41 654.31,1325.68 587.604,1325.68 587.604,1432.41 \"/>\n",
       "<path clip-path=\"url(#clip282)\" d=\"M819.221 1432.41 L885.927 1432.41 L885.927 1325.68 L819.221 1325.68 L819.221 1432.41 L819.221 1432.41  Z\" fill=\"#009af9\" fill-rule=\"evenodd\" fill-opacity=\"1\"/>\n",
       "<polyline clip-path=\"url(#clip282)\" style=\"stroke:#000000; stroke-linecap:round; stroke-linejoin:round; stroke-width:4; stroke-opacity:1; fill:none\" points=\"819.221,1432.41 885.927,1432.41 885.927,1325.68 819.221,1325.68 819.221,1432.41 \"/>\n",
       "<path clip-path=\"url(#clip282)\" d=\"M1166.65 853.365 L1233.35 853.365 L1233.35 746.635 L1166.65 746.635 L1166.65 853.365 L1166.65 853.365  Z\" fill=\"#009af9\" fill-rule=\"evenodd\" fill-opacity=\"1\"/>\n",
       "<polyline clip-path=\"url(#clip282)\" style=\"stroke:#000000; stroke-linecap:round; stroke-linejoin:round; stroke-width:4; stroke-opacity:1; fill:none\" points=\"1166.65,853.365 1233.35,853.365 1233.35,746.635 1166.65,746.635 1166.65,853.365 \"/>\n",
       "<path clip-path=\"url(#clip282)\" d=\"M1050.84 1432.41 L1117.54 1432.41 L1117.54 1325.68 L1050.84 1325.68 L1050.84 1432.41 L1050.84 1432.41  Z\" fill=\"#009af9\" fill-rule=\"evenodd\" fill-opacity=\"1\"/>\n",
       "<polyline clip-path=\"url(#clip282)\" style=\"stroke:#000000; stroke-linecap:round; stroke-linejoin:round; stroke-width:4; stroke-opacity:1; fill:none\" points=\"1050.84,1432.41 1117.54,1432.41 1117.54,1325.68 1050.84,1325.68 1050.84,1432.41 \"/>\n",
       "<path clip-path=\"url(#clip282)\" d=\"M1282.46 1432.41 L1349.16 1432.41 L1349.16 1325.68 L1282.46 1325.68 L1282.46 1432.41 L1282.46 1432.41  Z\" fill=\"#009af9\" fill-rule=\"evenodd\" fill-opacity=\"1\"/>\n",
       "<polyline clip-path=\"url(#clip282)\" style=\"stroke:#000000; stroke-linecap:round; stroke-linejoin:round; stroke-width:4; stroke-opacity:1; fill:none\" points=\"1282.46,1432.41 1349.16,1432.41 1349.16,1325.68 1282.46,1325.68 1282.46,1432.41 \"/>\n",
       "<path clip-path=\"url(#clip282)\" d=\"M1629.88 853.365 L1696.59 853.365 L1696.59 746.635 L1629.88 746.635 L1629.88 853.365 L1629.88 853.365  Z\" fill=\"#009af9\" fill-rule=\"evenodd\" fill-opacity=\"1\"/>\n",
       "<polyline clip-path=\"url(#clip282)\" style=\"stroke:#000000; stroke-linecap:round; stroke-linejoin:round; stroke-width:4; stroke-opacity:1; fill:none\" points=\"1629.88,853.365 1696.59,853.365 1696.59,746.635 1629.88,746.635 1629.88,853.365 \"/>\n",
       "<path clip-path=\"url(#clip282)\" d=\"M1514.07 1432.41 L1580.78 1432.41 L1580.78 1325.68 L1514.07 1325.68 L1514.07 1432.41 L1514.07 1432.41  Z\" fill=\"#009af9\" fill-rule=\"evenodd\" fill-opacity=\"1\"/>\n",
       "<polyline clip-path=\"url(#clip282)\" style=\"stroke:#000000; stroke-linecap:round; stroke-linejoin:round; stroke-width:4; stroke-opacity:1; fill:none\" points=\"1514.07,1432.41 1580.78,1432.41 1580.78,1325.68 1514.07,1325.68 1514.07,1432.41 \"/>\n",
       "<path clip-path=\"url(#clip282)\" d=\"M1745.69 1432.41 L1812.4 1432.41 L1812.4 1325.68 L1745.69 1325.68 L1745.69 1432.41 L1745.69 1432.41  Z\" fill=\"#009af9\" fill-rule=\"evenodd\" fill-opacity=\"1\"/>\n",
       "<polyline clip-path=\"url(#clip282)\" style=\"stroke:#000000; stroke-linecap:round; stroke-linejoin:round; stroke-width:4; stroke-opacity:1; fill:none\" points=\"1745.69,1432.41 1812.4,1432.41 1812.4,1325.68 1745.69,1325.68 1745.69,1432.41 \"/>\n",
       "<circle clip-path=\"url(#clip282)\" style=\"fill:#009af9; stroke:none; fill-opacity:0\" cx=\"1200\" cy=\"220.957\" r=\"2\"/>\n",
       "<circle clip-path=\"url(#clip282)\" style=\"fill:#009af9; stroke:none; fill-opacity:0\" cx=\"736.766\" cy=\"800\" r=\"2\"/>\n",
       "<circle clip-path=\"url(#clip282)\" style=\"fill:#009af9; stroke:none; fill-opacity:0\" cx=\"620.957\" cy=\"1379.04\" r=\"2\"/>\n",
       "<circle clip-path=\"url(#clip282)\" style=\"fill:#009af9; stroke:none; fill-opacity:0\" cx=\"852.574\" cy=\"1379.04\" r=\"2\"/>\n",
       "<circle clip-path=\"url(#clip282)\" style=\"fill:#009af9; stroke:none; fill-opacity:0\" cx=\"1200\" cy=\"800\" r=\"2\"/>\n",
       "<circle clip-path=\"url(#clip282)\" style=\"fill:#009af9; stroke:none; fill-opacity:0\" cx=\"1084.19\" cy=\"1379.04\" r=\"2\"/>\n",
       "<circle clip-path=\"url(#clip282)\" style=\"fill:#009af9; stroke:none; fill-opacity:0\" cx=\"1315.81\" cy=\"1379.04\" r=\"2\"/>\n",
       "<circle clip-path=\"url(#clip282)\" style=\"fill:#009af9; stroke:none; fill-opacity:0\" cx=\"1663.23\" cy=\"800\" r=\"2\"/>\n",
       "<circle clip-path=\"url(#clip282)\" style=\"fill:#009af9; stroke:none; fill-opacity:0\" cx=\"1547.43\" cy=\"1379.04\" r=\"2\"/>\n",
       "<circle clip-path=\"url(#clip282)\" style=\"fill:#009af9; stroke:none; fill-opacity:0\" cx=\"1779.04\" cy=\"1379.04\" r=\"2\"/>\n",
       "<path clip-path=\"url(#clip280)\" d=\"M1137.15 227.467 Q1137.15 220.419 1134.24 216.426 Q1131.35 212.398 1126.29 212.398 Q1121.22 212.398 1118.3 216.426 Q1115.42 220.419 1115.42 227.467 Q1115.42 234.516 1118.3 238.544 Q1121.22 242.537 1126.29 242.537 Q1131.35 242.537 1134.24 238.544 Q1137.15 234.516 1137.15 227.467 M1115.42 213.891 Q1117.43 210.419 1120.49 208.752 Q1123.58 207.051 1127.85 207.051 Q1134.93 207.051 1139.34 212.676 Q1143.79 218.301 1143.79 227.467 Q1143.79 236.634 1139.34 242.259 Q1134.93 247.884 1127.85 247.884 Q1123.58 247.884 1120.49 246.217 Q1117.43 244.516 1115.42 241.044 L1115.42 246.877 L1108.99 246.877 L1108.99 192.85 L1115.42 192.85 L1115.42 213.891 Z\" fill=\"#000000\" fill-rule=\"nonzero\" fill-opacity=\"1\" /><path clip-path=\"url(#clip280)\" d=\"M1154.38 192.85 L1160.76 192.85 L1160.76 246.877 L1154.38 246.877 L1154.38 192.85 Z\" fill=\"#000000\" fill-rule=\"nonzero\" fill-opacity=\"1\" /><path clip-path=\"url(#clip280)\" d=\"M1189.2 212.467 Q1184.06 212.467 1181.08 216.495 Q1178.09 220.488 1178.09 227.467 Q1178.09 234.447 1181.04 238.474 Q1184.03 242.467 1189.2 242.467 Q1194.31 242.467 1197.29 238.44 Q1200.28 234.412 1200.28 227.467 Q1200.28 220.558 1197.29 216.53 Q1194.31 212.467 1189.2 212.467 M1189.2 207.051 Q1197.53 207.051 1202.29 212.467 Q1207.05 217.884 1207.05 227.467 Q1207.05 237.016 1202.29 242.467 Q1197.53 247.884 1189.2 247.884 Q1180.83 247.884 1176.08 242.467 Q1171.35 237.016 1171.35 227.467 Q1171.35 217.884 1176.08 212.467 Q1180.83 207.051 1189.2 207.051 Z\" fill=\"#000000\" fill-rule=\"nonzero\" fill-opacity=\"1\" /><path clip-path=\"url(#clip280)\" d=\"M1245.62 209.481 L1245.62 215.454 Q1242.92 213.961 1240.17 213.231 Q1237.47 212.467 1234.69 212.467 Q1228.47 212.467 1225.03 216.426 Q1221.6 220.349 1221.6 227.467 Q1221.6 234.585 1225.03 238.544 Q1228.47 242.467 1234.69 242.467 Q1237.47 242.467 1240.17 241.738 Q1242.92 240.974 1245.62 239.481 L1245.62 245.384 Q1242.95 246.634 1240.07 247.259 Q1237.22 247.884 1233.99 247.884 Q1225.21 247.884 1220.03 242.363 Q1214.86 236.842 1214.86 227.467 Q1214.86 217.954 1220.07 212.502 Q1225.31 207.051 1234.41 207.051 Q1237.36 207.051 1240.17 207.676 Q1242.99 208.266 1245.62 209.481 Z\" fill=\"#000000\" fill-rule=\"nonzero\" fill-opacity=\"1\" /><path clip-path=\"url(#clip280)\" d=\"M1256.49 192.85 L1262.92 192.85 L1262.92 224.759 L1281.98 207.988 L1290.14 207.988 L1269.51 226.183 L1291.01 246.877 L1282.67 246.877 L1262.92 227.884 L1262.92 246.877 L1256.49 246.877 L1256.49 192.85 Z\" fill=\"#000000\" fill-rule=\"nonzero\" fill-opacity=\"1\" /><path clip-path=\"url(#clip280)\" d=\"M714.509 793.629 L759.022 793.629 L759.022 799.462 L714.509 799.462 L714.509 793.629 M714.509 807.795 L759.022 807.795 L759.022 813.698 L714.509 813.698 L714.509 807.795 Z\" fill=\"#000000\" fill-rule=\"nonzero\" fill-opacity=\"1\" /><path clip-path=\"url(#clip280)\" d=\"M639.082 1366.07 L625.019 1385 L639.811 1404.96 L632.276 1404.96 L620.957 1389.69 L609.638 1404.96 L602.103 1404.96 L617.207 1384.62 L603.388 1366.07 L610.922 1366.07 L621.235 1379.93 L631.547 1366.07 L639.082 1366.07 Z\" fill=\"#000000\" fill-rule=\"nonzero\" fill-opacity=\"1\" /><path clip-path=\"url(#clip280)\" d=\"M844.553 1399.06 L869.032 1399.06 L869.032 1404.96 L836.116 1404.96 L836.116 1399.06 Q840.109 1394.93 846.984 1387.98 Q853.894 1381 855.664 1378.99 Q859.032 1375.21 860.352 1372.6 Q861.706 1369.96 861.706 1367.43 Q861.706 1363.3 858.789 1360.69 Q855.908 1358.09 851.255 1358.09 Q847.956 1358.09 844.276 1359.23 Q840.63 1360.38 836.463 1362.71 L836.463 1355.62 Q840.699 1353.92 844.38 1353.05 Q848.06 1352.19 851.116 1352.19 Q859.171 1352.19 863.963 1356.21 Q868.755 1360.24 868.755 1366.98 Q868.755 1370.17 867.539 1373.05 Q866.359 1375.9 863.199 1379.79 Q862.331 1380.8 857.678 1385.62 Q853.026 1390.41 844.553 1399.06 Z\" fill=\"#000000\" fill-rule=\"nonzero\" fill-opacity=\"1\" /><path clip-path=\"url(#clip280)\" d=\"M1177.74 793.629 L1222.26 793.629 L1222.26 799.462 L1177.74 799.462 L1177.74 793.629 M1177.74 807.795 L1222.26 807.795 L1222.26 813.698 L1177.74 813.698 L1177.74 807.795 Z\" fill=\"#000000\" fill-rule=\"nonzero\" fill-opacity=\"1\" /><path clip-path=\"url(#clip280)\" d=\"M1086.03 1408.57 Q1083.32 1415.52 1080.75 1417.64 Q1078.18 1419.75 1073.88 1419.75 L1068.77 1419.75 L1068.77 1414.41 L1072.52 1414.41 Q1075.16 1414.41 1076.62 1413.16 Q1078.08 1411.91 1079.85 1407.25 L1081 1404.34 L1065.27 1366.07 L1072.04 1366.07 L1084.19 1396.49 L1096.34 1366.07 L1103.11 1366.07 L1086.03 1408.57 Z\" fill=\"#000000\" fill-rule=\"nonzero\" fill-opacity=\"1\" /><path clip-path=\"url(#clip280)\" d=\"M1322.18 1377.01 Q1327.21 1378.09 1330.03 1381.49 Q1332.87 1384.89 1332.87 1389.89 Q1332.87 1397.57 1327.6 1401.77 Q1322.32 1405.97 1312.6 1405.97 Q1309.33 1405.97 1305.86 1405.31 Q1302.42 1404.69 1298.74 1403.4 L1298.74 1396.63 Q1301.66 1398.33 1305.13 1399.2 Q1308.6 1400.07 1312.39 1400.07 Q1318.99 1400.07 1322.42 1397.46 Q1325.9 1394.86 1325.9 1389.89 Q1325.9 1385.31 1322.67 1382.74 Q1319.47 1380.14 1313.74 1380.14 L1307.7 1380.14 L1307.7 1374.37 L1314.02 1374.37 Q1319.19 1374.37 1321.94 1372.32 Q1324.68 1370.24 1324.68 1366.35 Q1324.68 1362.36 1321.83 1360.24 Q1319.02 1358.09 1313.74 1358.09 Q1310.86 1358.09 1307.56 1358.71 Q1304.26 1359.34 1300.31 1360.66 L1300.31 1354.41 Q1304.3 1353.3 1307.77 1352.74 Q1311.28 1352.19 1314.37 1352.19 Q1322.35 1352.19 1327.01 1355.83 Q1331.66 1359.44 1331.66 1365.62 Q1331.66 1369.93 1329.19 1372.91 Q1326.73 1375.87 1322.18 1377.01 Z\" fill=\"#000000\" fill-rule=\"nonzero\" fill-opacity=\"1\" /><path clip-path=\"url(#clip280)\" d=\"M1666.15 781.337 L1666.15 800.677 L1685.49 800.677 L1685.49 806.58 L1666.15 806.58 L1666.15 825.92 L1660.32 825.92 L1660.32 806.58 L1640.98 806.58 L1640.98 800.677 L1660.32 800.677 L1660.32 781.337 L1666.15 781.337 Z\" fill=\"#000000\" fill-rule=\"nonzero\" fill-opacity=\"1\" /><path clip-path=\"url(#clip280)\" d=\"M1565.55 1366.07 L1551.49 1385 L1566.28 1404.96 L1558.75 1404.96 L1547.43 1389.69 L1536.11 1404.96 L1528.57 1404.96 L1543.68 1384.62 L1529.86 1366.07 L1537.39 1366.07 L1547.7 1379.93 L1558.02 1366.07 L1565.55 1366.07 Z\" fill=\"#000000\" fill-rule=\"nonzero\" fill-opacity=\"1\" /><path clip-path=\"url(#clip280)\" d=\"M1780.88 1408.57 Q1778.17 1415.52 1775.61 1417.64 Q1773.04 1419.75 1768.73 1419.75 L1763.63 1419.75 L1763.63 1414.41 L1767.38 1414.41 Q1770.02 1414.41 1771.47 1413.16 Q1772.93 1411.91 1774.7 1407.25 L1775.85 1404.34 L1760.12 1366.07 L1766.89 1366.07 L1779.04 1396.49 L1791.2 1366.07 L1797.97 1366.07 L1780.88 1408.57 Z\" fill=\"#000000\" fill-rule=\"nonzero\" fill-opacity=\"1\" /></svg>\n"
      ],
      "text/html": [
       "<?xml version=\"1.0\" encoding=\"utf-8\"?>\n",
       "<svg xmlns=\"http://www.w3.org/2000/svg\" xmlns:xlink=\"http://www.w3.org/1999/xlink\" width=\"600\" height=\"400\" viewBox=\"0 0 2400 1600\">\n",
       "<defs>\n",
       "  <clipPath id=\"clip310\">\n",
       "    <rect x=\"0\" y=\"0\" width=\"2400\" height=\"1600\"/>\n",
       "  </clipPath>\n",
       "</defs>\n",
       "<path clip-path=\"url(#clip310)\" d=\"M0 1600 L2400 1600 L2400 0 L0 0  Z\" fill=\"#ffffff\" fill-rule=\"evenodd\" fill-opacity=\"1\"/>\n",
       "<defs>\n",
       "  <clipPath id=\"clip311\">\n",
       "    <rect x=\"480\" y=\"0\" width=\"1681\" height=\"1600\"/>\n",
       "  </clipPath>\n",
       "</defs>\n",
       "<path clip-path=\"url(#clip310)\" d=\"M447.244 1552.76 L1952.76 1552.76 L1952.76 47.2441 L447.244 47.2441  Z\" fill=\"#ffffff\" fill-rule=\"evenodd\" fill-opacity=\"1\"/>\n",
       "<defs>\n",
       "  <clipPath id=\"clip312\">\n",
       "    <rect x=\"447\" y=\"47\" width=\"1507\" height=\"1507\"/>\n",
       "  </clipPath>\n",
       "</defs>\n",
       "<polyline clip-path=\"url(#clip312)\" style=\"stroke:#000000; stroke-linecap:round; stroke-linejoin:round; stroke-width:4; stroke-opacity:1; fill:none\" points=\"1200,232.538 1198.39,254.662 1193.69,276.153 1186.15,297.057 1175.99,317.422 1163.44,337.294 1148.72,356.72 1132.06,375.748 1113.69,394.423 1093.84,412.794 1072.74,430.907 1050.62,448.808 1027.69,466.546 1004.2,484.166 980.358,501.715 956.407,519.242 932.57,536.791 909.075,554.411 886.15,572.149 864.023,590.05 842.921,608.163 823.072,626.534 804.706,645.209 788.048,664.237 773.328,683.663 760.773,703.535 750.612,723.9 743.071,744.804 738.38,766.295 736.766,788.419 \"/>\n",
       "<polyline clip-path=\"url(#clip312)\" style=\"stroke:#000000; stroke-linecap:round; stroke-linejoin:round; stroke-width:4; stroke-opacity:1; fill:none\" points=\"1200,232.538 1200,249.983 1200,267.798 1200,285.954 1200,304.425 1200,323.183 1200,342.201 1200,361.451 1200,380.907 1200,400.54 1200,420.324 1200,440.23 1200,460.233 1200,480.304 1200,500.416 1200,520.541 1200,540.653 1200,560.724 1200,580.727 1200,600.633 1200,620.417 1200,640.05 1200,659.506 1200,678.756 1200,697.774 1200,716.532 1200,735.003 1200,753.159 1200,770.974 1200,788.419 \"/>\n",
       "<polyline clip-path=\"url(#clip312)\" style=\"stroke:#000000; stroke-linecap:round; stroke-linejoin:round; stroke-width:4; stroke-opacity:1; fill:none\" points=\"1200,232.538 1201.61,254.662 1206.31,276.153 1213.85,297.057 1224.01,317.422 1236.56,337.294 1251.28,356.72 1267.94,375.748 1286.31,394.423 1306.16,412.794 1327.26,430.907 1349.38,448.808 1372.31,466.546 1395.8,484.166 1419.64,501.715 1443.59,519.242 1467.43,536.791 1490.92,554.411 1513.85,572.149 1535.98,590.05 1557.08,608.163 1576.93,626.534 1595.29,645.209 1611.95,664.237 1626.67,683.663 1639.23,703.535 1649.39,723.9 1656.93,744.804 1661.62,766.295 1663.23,788.419 \"/>\n",
       "<polyline clip-path=\"url(#clip312)\" style=\"stroke:#000000; stroke-linecap:round; stroke-linejoin:round; stroke-width:4; stroke-opacity:1; fill:none\" points=\"736.766,811.581 736.362,829.359 735.189,847.435 733.304,865.787 730.764,884.393 727.625,903.23 723.945,922.277 719.781,941.511 715.189,960.911 710.227,980.455 704.951,1000.12 699.419,1019.88 693.688,1039.73 687.814,1059.62 681.855,1079.55 675.867,1099.49 669.908,1119.42 664.034,1139.32 658.303,1159.16 652.771,1178.92 647.496,1198.59 642.534,1218.13 637.942,1237.53 633.778,1256.77 630.098,1275.81 626.959,1294.65 624.419,1313.26 622.533,1331.61 621.361,1349.68 620.957,1367.46 \"/>\n",
       "<polyline clip-path=\"url(#clip312)\" style=\"stroke:#000000; stroke-linecap:round; stroke-linejoin:round; stroke-width:4; stroke-opacity:1; fill:none\" points=\"736.766,811.581 737.169,829.359 738.342,847.435 740.227,865.787 742.768,884.393 745.906,903.23 749.586,922.277 753.751,941.511 758.342,960.911 763.304,980.455 768.58,1000.12 774.112,1019.88 779.843,1039.73 785.717,1059.62 791.676,1079.55 797.664,1099.49 803.623,1119.42 809.497,1139.32 815.228,1159.16 820.76,1178.92 826.035,1198.59 830.997,1218.13 835.589,1237.53 839.754,1256.77 843.434,1275.81 846.572,1294.65 849.113,1313.26 850.998,1331.61 852.171,1349.68 852.574,1367.46 \"/>\n",
       "<polyline clip-path=\"url(#clip312)\" style=\"stroke:#000000; stroke-linecap:round; stroke-linejoin:round; stroke-width:4; stroke-opacity:1; fill:none\" points=\"1200,811.581 1199.6,829.359 1198.42,847.435 1196.54,865.787 1194,884.393 1190.86,903.23 1187.18,922.277 1183.01,941.511 1178.42,960.911 1173.46,980.455 1168.19,1000.12 1162.65,1019.88 1156.92,1039.73 1151.05,1059.62 1145.09,1079.55 1139.1,1099.49 1133.14,1119.42 1127.27,1139.32 1121.54,1159.16 1116.01,1178.92 1110.73,1198.59 1105.77,1218.13 1101.18,1237.53 1097.01,1256.77 1093.33,1275.81 1090.19,1294.65 1087.65,1313.26 1085.77,1331.61 1084.6,1349.68 1084.19,1367.46 \"/>\n",
       "<polyline clip-path=\"url(#clip312)\" style=\"stroke:#000000; stroke-linecap:round; stroke-linejoin:round; stroke-width:4; stroke-opacity:1; fill:none\" points=\"1200,811.581 1200.4,829.359 1201.58,847.435 1203.46,865.787 1206,884.393 1209.14,903.23 1212.82,922.277 1216.99,941.511 1221.58,960.911 1226.54,980.455 1231.81,1000.12 1237.35,1019.88 1243.08,1039.73 1248.95,1059.62 1254.91,1079.55 1260.9,1099.49 1266.86,1119.42 1272.73,1139.32 1278.46,1159.16 1283.99,1178.92 1289.27,1198.59 1294.23,1218.13 1298.82,1237.53 1302.99,1256.77 1306.67,1275.81 1309.81,1294.65 1312.35,1313.26 1314.23,1331.61 1315.4,1349.68 1315.81,1367.46 \"/>\n",
       "<polyline clip-path=\"url(#clip312)\" style=\"stroke:#000000; stroke-linecap:round; stroke-linejoin:round; stroke-width:4; stroke-opacity:1; fill:none\" points=\"1663.23,811.581 1662.83,829.359 1661.66,847.435 1659.77,865.787 1657.23,884.393 1654.09,903.23 1650.41,922.277 1646.25,941.511 1641.66,960.911 1636.7,980.455 1631.42,1000.12 1625.89,1019.88 1620.16,1039.73 1614.28,1059.62 1608.32,1079.55 1602.34,1099.49 1596.38,1119.42 1590.5,1139.32 1584.77,1159.16 1579.24,1178.92 1573.96,1198.59 1569,1218.13 1564.41,1237.53 1560.25,1256.77 1556.57,1275.81 1553.43,1294.65 1550.89,1313.26 1549,1331.61 1547.83,1349.68 1547.43,1367.46 \"/>\n",
       "<polyline clip-path=\"url(#clip312)\" style=\"stroke:#000000; stroke-linecap:round; stroke-linejoin:round; stroke-width:4; stroke-opacity:1; fill:none\" points=\"1663.23,811.581 1663.64,829.359 1664.81,847.435 1666.7,865.787 1669.24,884.393 1672.38,903.23 1676.06,922.277 1680.22,941.511 1684.81,960.911 1689.77,980.455 1695.05,1000.12 1700.58,1019.88 1706.31,1039.73 1712.19,1059.62 1718.14,1079.55 1724.13,1099.49 1730.09,1119.42 1735.97,1139.32 1741.7,1159.16 1747.23,1178.92 1752.5,1198.59 1757.47,1218.13 1762.06,1237.53 1766.22,1256.77 1769.9,1275.81 1773.04,1294.65 1775.58,1313.26 1777.47,1331.61 1778.64,1349.68 1779.04,1367.46 \"/>\n",
       "<path clip-path=\"url(#clip312)\" d=\"M1079.13 274.322 L1320.87 274.322 L1320.87 167.592 L1079.13 167.592 L1079.13 274.322 L1079.13 274.322  Z\" fill=\"#009af9\" fill-rule=\"evenodd\" fill-opacity=\"1\"/>\n",
       "<polyline clip-path=\"url(#clip312)\" style=\"stroke:#000000; stroke-linecap:round; stroke-linejoin:round; stroke-width:4; stroke-opacity:1; fill:none\" points=\"1079.13,274.322 1320.87,274.322 1320.87,167.592 1079.13,167.592 1079.13,274.322 \"/>\n",
       "<path clip-path=\"url(#clip312)\" d=\"M703.413 853.365 L770.118 853.365 L770.118 746.635 L703.413 746.635 L703.413 853.365 L703.413 853.365  Z\" fill=\"#009af9\" fill-rule=\"evenodd\" fill-opacity=\"1\"/>\n",
       "<polyline clip-path=\"url(#clip312)\" style=\"stroke:#000000; stroke-linecap:round; stroke-linejoin:round; stroke-width:4; stroke-opacity:1; fill:none\" points=\"703.413,853.365 770.118,853.365 770.118,746.635 703.413,746.635 703.413,853.365 \"/>\n",
       "<path clip-path=\"url(#clip312)\" d=\"M587.604 1432.41 L654.31 1432.41 L654.31 1325.68 L587.604 1325.68 L587.604 1432.41 L587.604 1432.41  Z\" fill=\"#009af9\" fill-rule=\"evenodd\" fill-opacity=\"1\"/>\n",
       "<polyline clip-path=\"url(#clip312)\" style=\"stroke:#000000; stroke-linecap:round; stroke-linejoin:round; stroke-width:4; stroke-opacity:1; fill:none\" points=\"587.604,1432.41 654.31,1432.41 654.31,1325.68 587.604,1325.68 587.604,1432.41 \"/>\n",
       "<path clip-path=\"url(#clip312)\" d=\"M819.221 1432.41 L885.927 1432.41 L885.927 1325.68 L819.221 1325.68 L819.221 1432.41 L819.221 1432.41  Z\" fill=\"#009af9\" fill-rule=\"evenodd\" fill-opacity=\"1\"/>\n",
       "<polyline clip-path=\"url(#clip312)\" style=\"stroke:#000000; stroke-linecap:round; stroke-linejoin:round; stroke-width:4; stroke-opacity:1; fill:none\" points=\"819.221,1432.41 885.927,1432.41 885.927,1325.68 819.221,1325.68 819.221,1432.41 \"/>\n",
       "<path clip-path=\"url(#clip312)\" d=\"M1166.65 853.365 L1233.35 853.365 L1233.35 746.635 L1166.65 746.635 L1166.65 853.365 L1166.65 853.365  Z\" fill=\"#009af9\" fill-rule=\"evenodd\" fill-opacity=\"1\"/>\n",
       "<polyline clip-path=\"url(#clip312)\" style=\"stroke:#000000; stroke-linecap:round; stroke-linejoin:round; stroke-width:4; stroke-opacity:1; fill:none\" points=\"1166.65,853.365 1233.35,853.365 1233.35,746.635 1166.65,746.635 1166.65,853.365 \"/>\n",
       "<path clip-path=\"url(#clip312)\" d=\"M1050.84 1432.41 L1117.54 1432.41 L1117.54 1325.68 L1050.84 1325.68 L1050.84 1432.41 L1050.84 1432.41  Z\" fill=\"#009af9\" fill-rule=\"evenodd\" fill-opacity=\"1\"/>\n",
       "<polyline clip-path=\"url(#clip312)\" style=\"stroke:#000000; stroke-linecap:round; stroke-linejoin:round; stroke-width:4; stroke-opacity:1; fill:none\" points=\"1050.84,1432.41 1117.54,1432.41 1117.54,1325.68 1050.84,1325.68 1050.84,1432.41 \"/>\n",
       "<path clip-path=\"url(#clip312)\" d=\"M1282.46 1432.41 L1349.16 1432.41 L1349.16 1325.68 L1282.46 1325.68 L1282.46 1432.41 L1282.46 1432.41  Z\" fill=\"#009af9\" fill-rule=\"evenodd\" fill-opacity=\"1\"/>\n",
       "<polyline clip-path=\"url(#clip312)\" style=\"stroke:#000000; stroke-linecap:round; stroke-linejoin:round; stroke-width:4; stroke-opacity:1; fill:none\" points=\"1282.46,1432.41 1349.16,1432.41 1349.16,1325.68 1282.46,1325.68 1282.46,1432.41 \"/>\n",
       "<path clip-path=\"url(#clip312)\" d=\"M1629.88 853.365 L1696.59 853.365 L1696.59 746.635 L1629.88 746.635 L1629.88 853.365 L1629.88 853.365  Z\" fill=\"#009af9\" fill-rule=\"evenodd\" fill-opacity=\"1\"/>\n",
       "<polyline clip-path=\"url(#clip312)\" style=\"stroke:#000000; stroke-linecap:round; stroke-linejoin:round; stroke-width:4; stroke-opacity:1; fill:none\" points=\"1629.88,853.365 1696.59,853.365 1696.59,746.635 1629.88,746.635 1629.88,853.365 \"/>\n",
       "<path clip-path=\"url(#clip312)\" d=\"M1514.07 1432.41 L1580.78 1432.41 L1580.78 1325.68 L1514.07 1325.68 L1514.07 1432.41 L1514.07 1432.41  Z\" fill=\"#009af9\" fill-rule=\"evenodd\" fill-opacity=\"1\"/>\n",
       "<polyline clip-path=\"url(#clip312)\" style=\"stroke:#000000; stroke-linecap:round; stroke-linejoin:round; stroke-width:4; stroke-opacity:1; fill:none\" points=\"1514.07,1432.41 1580.78,1432.41 1580.78,1325.68 1514.07,1325.68 1514.07,1432.41 \"/>\n",
       "<path clip-path=\"url(#clip312)\" d=\"M1745.69 1432.41 L1812.4 1432.41 L1812.4 1325.68 L1745.69 1325.68 L1745.69 1432.41 L1745.69 1432.41  Z\" fill=\"#009af9\" fill-rule=\"evenodd\" fill-opacity=\"1\"/>\n",
       "<polyline clip-path=\"url(#clip312)\" style=\"stroke:#000000; stroke-linecap:round; stroke-linejoin:round; stroke-width:4; stroke-opacity:1; fill:none\" points=\"1745.69,1432.41 1812.4,1432.41 1812.4,1325.68 1745.69,1325.68 1745.69,1432.41 \"/>\n",
       "<circle clip-path=\"url(#clip312)\" style=\"fill:#009af9; stroke:none; fill-opacity:0\" cx=\"1200\" cy=\"220.957\" r=\"2\"/>\n",
       "<circle clip-path=\"url(#clip312)\" style=\"fill:#009af9; stroke:none; fill-opacity:0\" cx=\"736.766\" cy=\"800\" r=\"2\"/>\n",
       "<circle clip-path=\"url(#clip312)\" style=\"fill:#009af9; stroke:none; fill-opacity:0\" cx=\"620.957\" cy=\"1379.04\" r=\"2\"/>\n",
       "<circle clip-path=\"url(#clip312)\" style=\"fill:#009af9; stroke:none; fill-opacity:0\" cx=\"852.574\" cy=\"1379.04\" r=\"2\"/>\n",
       "<circle clip-path=\"url(#clip312)\" style=\"fill:#009af9; stroke:none; fill-opacity:0\" cx=\"1200\" cy=\"800\" r=\"2\"/>\n",
       "<circle clip-path=\"url(#clip312)\" style=\"fill:#009af9; stroke:none; fill-opacity:0\" cx=\"1084.19\" cy=\"1379.04\" r=\"2\"/>\n",
       "<circle clip-path=\"url(#clip312)\" style=\"fill:#009af9; stroke:none; fill-opacity:0\" cx=\"1315.81\" cy=\"1379.04\" r=\"2\"/>\n",
       "<circle clip-path=\"url(#clip312)\" style=\"fill:#009af9; stroke:none; fill-opacity:0\" cx=\"1663.23\" cy=\"800\" r=\"2\"/>\n",
       "<circle clip-path=\"url(#clip312)\" style=\"fill:#009af9; stroke:none; fill-opacity:0\" cx=\"1547.43\" cy=\"1379.04\" r=\"2\"/>\n",
       "<circle clip-path=\"url(#clip312)\" style=\"fill:#009af9; stroke:none; fill-opacity:0\" cx=\"1779.04\" cy=\"1379.04\" r=\"2\"/>\n",
       "<path clip-path=\"url(#clip310)\" d=\"M1137.15 227.467 Q1137.15 220.419 1134.24 216.426 Q1131.35 212.398 1126.29 212.398 Q1121.22 212.398 1118.3 216.426 Q1115.42 220.419 1115.42 227.467 Q1115.42 234.516 1118.3 238.544 Q1121.22 242.537 1126.29 242.537 Q1131.35 242.537 1134.24 238.544 Q1137.15 234.516 1137.15 227.467 M1115.42 213.891 Q1117.43 210.419 1120.49 208.752 Q1123.58 207.051 1127.85 207.051 Q1134.93 207.051 1139.34 212.676 Q1143.79 218.301 1143.79 227.467 Q1143.79 236.634 1139.34 242.259 Q1134.93 247.884 1127.85 247.884 Q1123.58 247.884 1120.49 246.217 Q1117.43 244.516 1115.42 241.044 L1115.42 246.877 L1108.99 246.877 L1108.99 192.85 L1115.42 192.85 L1115.42 213.891 Z\" fill=\"#000000\" fill-rule=\"nonzero\" fill-opacity=\"1\" /><path clip-path=\"url(#clip310)\" d=\"M1154.38 192.85 L1160.76 192.85 L1160.76 246.877 L1154.38 246.877 L1154.38 192.85 Z\" fill=\"#000000\" fill-rule=\"nonzero\" fill-opacity=\"1\" /><path clip-path=\"url(#clip310)\" d=\"M1189.2 212.467 Q1184.06 212.467 1181.08 216.495 Q1178.09 220.488 1178.09 227.467 Q1178.09 234.447 1181.04 238.474 Q1184.03 242.467 1189.2 242.467 Q1194.31 242.467 1197.29 238.44 Q1200.28 234.412 1200.28 227.467 Q1200.28 220.558 1197.29 216.53 Q1194.31 212.467 1189.2 212.467 M1189.2 207.051 Q1197.53 207.051 1202.29 212.467 Q1207.05 217.884 1207.05 227.467 Q1207.05 237.016 1202.29 242.467 Q1197.53 247.884 1189.2 247.884 Q1180.83 247.884 1176.08 242.467 Q1171.35 237.016 1171.35 227.467 Q1171.35 217.884 1176.08 212.467 Q1180.83 207.051 1189.2 207.051 Z\" fill=\"#000000\" fill-rule=\"nonzero\" fill-opacity=\"1\" /><path clip-path=\"url(#clip310)\" d=\"M1245.62 209.481 L1245.62 215.454 Q1242.92 213.961 1240.17 213.231 Q1237.47 212.467 1234.69 212.467 Q1228.47 212.467 1225.03 216.426 Q1221.6 220.349 1221.6 227.467 Q1221.6 234.585 1225.03 238.544 Q1228.47 242.467 1234.69 242.467 Q1237.47 242.467 1240.17 241.738 Q1242.92 240.974 1245.62 239.481 L1245.62 245.384 Q1242.95 246.634 1240.07 247.259 Q1237.22 247.884 1233.99 247.884 Q1225.21 247.884 1220.03 242.363 Q1214.86 236.842 1214.86 227.467 Q1214.86 217.954 1220.07 212.502 Q1225.31 207.051 1234.41 207.051 Q1237.36 207.051 1240.17 207.676 Q1242.99 208.266 1245.62 209.481 Z\" fill=\"#000000\" fill-rule=\"nonzero\" fill-opacity=\"1\" /><path clip-path=\"url(#clip310)\" d=\"M1256.49 192.85 L1262.92 192.85 L1262.92 224.759 L1281.98 207.988 L1290.14 207.988 L1269.51 226.183 L1291.01 246.877 L1282.67 246.877 L1262.92 227.884 L1262.92 246.877 L1256.49 246.877 L1256.49 192.85 Z\" fill=\"#000000\" fill-rule=\"nonzero\" fill-opacity=\"1\" /><path clip-path=\"url(#clip310)\" d=\"M714.509 793.629 L759.022 793.629 L759.022 799.462 L714.509 799.462 L714.509 793.629 M714.509 807.795 L759.022 807.795 L759.022 813.698 L714.509 813.698 L714.509 807.795 Z\" fill=\"#000000\" fill-rule=\"nonzero\" fill-opacity=\"1\" /><path clip-path=\"url(#clip310)\" d=\"M639.082 1366.07 L625.019 1385 L639.811 1404.96 L632.276 1404.96 L620.957 1389.69 L609.638 1404.96 L602.103 1404.96 L617.207 1384.62 L603.388 1366.07 L610.922 1366.07 L621.235 1379.93 L631.547 1366.07 L639.082 1366.07 Z\" fill=\"#000000\" fill-rule=\"nonzero\" fill-opacity=\"1\" /><path clip-path=\"url(#clip310)\" d=\"M844.553 1399.06 L869.032 1399.06 L869.032 1404.96 L836.116 1404.96 L836.116 1399.06 Q840.109 1394.93 846.984 1387.98 Q853.894 1381 855.664 1378.99 Q859.032 1375.21 860.352 1372.6 Q861.706 1369.96 861.706 1367.43 Q861.706 1363.3 858.789 1360.69 Q855.908 1358.09 851.255 1358.09 Q847.956 1358.09 844.276 1359.23 Q840.63 1360.38 836.463 1362.71 L836.463 1355.62 Q840.699 1353.92 844.38 1353.05 Q848.06 1352.19 851.116 1352.19 Q859.171 1352.19 863.963 1356.21 Q868.755 1360.24 868.755 1366.98 Q868.755 1370.17 867.539 1373.05 Q866.359 1375.9 863.199 1379.79 Q862.331 1380.8 857.678 1385.62 Q853.026 1390.41 844.553 1399.06 Z\" fill=\"#000000\" fill-rule=\"nonzero\" fill-opacity=\"1\" /><path clip-path=\"url(#clip310)\" d=\"M1177.74 793.629 L1222.26 793.629 L1222.26 799.462 L1177.74 799.462 L1177.74 793.629 M1177.74 807.795 L1222.26 807.795 L1222.26 813.698 L1177.74 813.698 L1177.74 807.795 Z\" fill=\"#000000\" fill-rule=\"nonzero\" fill-opacity=\"1\" /><path clip-path=\"url(#clip310)\" d=\"M1086.03 1408.57 Q1083.32 1415.52 1080.75 1417.64 Q1078.18 1419.75 1073.88 1419.75 L1068.77 1419.75 L1068.77 1414.41 L1072.52 1414.41 Q1075.16 1414.41 1076.62 1413.16 Q1078.08 1411.91 1079.85 1407.25 L1081 1404.34 L1065.27 1366.07 L1072.04 1366.07 L1084.19 1396.49 L1096.34 1366.07 L1103.11 1366.07 L1086.03 1408.57 Z\" fill=\"#000000\" fill-rule=\"nonzero\" fill-opacity=\"1\" /><path clip-path=\"url(#clip310)\" d=\"M1322.18 1377.01 Q1327.21 1378.09 1330.03 1381.49 Q1332.87 1384.89 1332.87 1389.89 Q1332.87 1397.57 1327.6 1401.77 Q1322.32 1405.97 1312.6 1405.97 Q1309.33 1405.97 1305.86 1405.31 Q1302.42 1404.69 1298.74 1403.4 L1298.74 1396.63 Q1301.66 1398.33 1305.13 1399.2 Q1308.6 1400.07 1312.39 1400.07 Q1318.99 1400.07 1322.42 1397.46 Q1325.9 1394.86 1325.9 1389.89 Q1325.9 1385.31 1322.67 1382.74 Q1319.47 1380.14 1313.74 1380.14 L1307.7 1380.14 L1307.7 1374.37 L1314.02 1374.37 Q1319.19 1374.37 1321.94 1372.32 Q1324.68 1370.24 1324.68 1366.35 Q1324.68 1362.36 1321.83 1360.24 Q1319.02 1358.09 1313.74 1358.09 Q1310.86 1358.09 1307.56 1358.71 Q1304.26 1359.34 1300.31 1360.66 L1300.31 1354.41 Q1304.3 1353.3 1307.77 1352.74 Q1311.28 1352.19 1314.37 1352.19 Q1322.35 1352.19 1327.01 1355.83 Q1331.66 1359.44 1331.66 1365.62 Q1331.66 1369.93 1329.19 1372.91 Q1326.73 1375.87 1322.18 1377.01 Z\" fill=\"#000000\" fill-rule=\"nonzero\" fill-opacity=\"1\" /><path clip-path=\"url(#clip310)\" d=\"M1666.15 781.337 L1666.15 800.677 L1685.49 800.677 L1685.49 806.58 L1666.15 806.58 L1666.15 825.92 L1660.32 825.92 L1660.32 806.58 L1640.98 806.58 L1640.98 800.677 L1660.32 800.677 L1660.32 781.337 L1666.15 781.337 Z\" fill=\"#000000\" fill-rule=\"nonzero\" fill-opacity=\"1\" /><path clip-path=\"url(#clip310)\" d=\"M1565.55 1366.07 L1551.49 1385 L1566.28 1404.96 L1558.75 1404.96 L1547.43 1389.69 L1536.11 1404.96 L1528.57 1404.96 L1543.68 1384.62 L1529.86 1366.07 L1537.39 1366.07 L1547.7 1379.93 L1558.02 1366.07 L1565.55 1366.07 Z\" fill=\"#000000\" fill-rule=\"nonzero\" fill-opacity=\"1\" /><path clip-path=\"url(#clip310)\" d=\"M1780.88 1408.57 Q1778.17 1415.52 1775.61 1417.64 Q1773.04 1419.75 1768.73 1419.75 L1763.63 1419.75 L1763.63 1414.41 L1767.38 1414.41 Q1770.02 1414.41 1771.47 1413.16 Q1772.93 1411.91 1774.7 1407.25 L1775.85 1404.34 L1760.12 1366.07 L1766.89 1366.07 L1779.04 1396.49 L1791.2 1366.07 L1797.97 1366.07 L1780.88 1408.57 Z\" fill=\"#000000\" fill-rule=\"nonzero\" fill-opacity=\"1\" /></svg>\n"
      ]
     },
     "metadata": {},
     "output_type": "display_data"
    }
   ],
   "source": [
    "import Pkg; Pkg.add(\"GraphRecipes\")\n",
    "using GraphRecipes\n",
    "using Plots\n",
    "plot(code_expr_block, fontsize=12, shorten=0.01, axis_buffer=0.15, nodeshape=:rect)"
   ]
  },
  {
   "cell_type": "markdown",
   "metadata": {},
   "source": [
    "\n",
    "This recursive structure has some major performance drawbacks, because the `args` field is of type `Any` and therefore modifications of this expression level AST won't be type stable. Building blocks of expressions are `Symbol`s and literal values (numbers).\n",
    "\n",
    "\n",
    "A possible nuisance of working with multiline expressions is the presence of `LineNumber` nodes, which can be removed with `Base.remove_linenums!` function.\n"
   ]
  },
  {
   "cell_type": "code",
   "execution_count": null,
   "metadata": {},
   "outputs": [],
   "source": [
    "Base.remove_linenums!(code_parse_block)"
   ]
  },
  {
   "cell_type": "markdown",
   "metadata": {},
   "source": [
    "Parsed expressions can be evaluate using `eval` function. "
   ]
  },
  {
   "cell_type": "code",
   "execution_count": null,
   "metadata": {},
   "outputs": [],
   "source": [
    "eval(code_parse)    # evaluation of :(x = 2) "
   ]
  },
  {
   "cell_type": "code",
   "execution_count": null,
   "metadata": {},
   "outputs": [],
   "source": [
    "x                   # should be defined"
   ]
  },
  {
   "cell_type": "markdown",
   "metadata": {
    "vscode": {
     "languageId": "raw"
    }
   },
   "source": [
    "<div class=\"alert alert-block alert-success\">\n",
    "<b>Exercise:</b> \n",
    "\n",
    "Before doing anything more fancy let's start with some simple manipulation of ASTs.\n",
    "- Define a variable `code` to be as the result of parsing the string `\"j = i^2\"`. \n",
    "- Copy code into a variable `code2`. Modify this to replace the power `2` with a power `3`. Make sure that the original code variable is not also modified. \n",
    "- Copy `code2` to a variable `code3`. Replace `i` with `i + 1` in `code3`.\n",
    "- Define a variable `i` with the value `4`. Evaluate the different code expressions using the `eval` function and check the value of the variable `j`.\n",
    "\n",
    "\n",
    "</div>\n"
   ]
  },
  {
   "cell_type": "markdown",
   "metadata": {},
   "source": [
    "<div class=\"alert alert-block alert-info\">\n",
    "<b>Solution</b>: </div>\n",
    "\n",
    "####"
   ]
  },
  {
   "cell_type": "code",
   "execution_count": null,
   "metadata": {},
   "outputs": [
    {
     "data": {
      "text/plain": [
       ":(j = i ^ 2)"
      ]
     },
     "metadata": {},
     "output_type": "display_data"
    }
   ],
   "source": [
    "code = Meta.parse(\"j = i^2\")"
   ]
  },
  {
   "cell_type": "code",
   "execution_count": 108,
   "metadata": {},
   "outputs": [
    {
     "data": {
      "text/plain": [
       ":(j = i ^ 3)"
      ]
     },
     "metadata": {},
     "output_type": "display_data"
    }
   ],
   "source": [
    "code2 = deepcopy(code)\n",
    "code2.args[2].args[3] = 3\n",
    "code2"
   ]
  },
  {
   "cell_type": "code",
   "execution_count": null,
   "metadata": {},
   "outputs": [
    {
     "data": {
      "text/plain": [
       ":(j = (i + 1) ^ 3)"
      ]
     },
     "metadata": {},
     "output_type": "display_data"
    }
   ],
   "source": [
    "code3 = deepcopy(code2)\n",
    "code3.args[2].args[2] = :(i + 1)\n",
    "code3"
   ]
  },
  {
   "cell_type": "code",
   "execution_count": 110,
   "metadata": {},
   "outputs": [
    {
     "data": {
      "text/plain": [
       "4"
      ]
     },
     "metadata": {},
     "output_type": "display_data"
    }
   ],
   "source": [
    "i = 4"
   ]
  },
  {
   "cell_type": "code",
   "execution_count": 111,
   "metadata": {},
   "outputs": [
    {
     "data": {
      "text/plain": [
       "16"
      ]
     },
     "metadata": {},
     "output_type": "display_data"
    }
   ],
   "source": [
    "eval(code)"
   ]
  },
  {
   "cell_type": "code",
   "execution_count": 112,
   "metadata": {},
   "outputs": [
    {
     "data": {
      "text/plain": [
       "64"
      ]
     },
     "metadata": {},
     "output_type": "display_data"
    }
   ],
   "source": [
    "eval(code2)"
   ]
  },
  {
   "cell_type": "code",
   "execution_count": 113,
   "metadata": {},
   "outputs": [
    {
     "data": {
      "text/plain": [
       "125"
      ]
     },
     "metadata": {},
     "output_type": "display_data"
    }
   ],
   "source": [
    "eval(code3)"
   ]
  },
  {
   "cell_type": "markdown",
   "metadata": {},
   "source": [
    "####\n",
    "Following up on the more general substitution of variables in an expression from the lecture, let's see how the situation becomes more complicated, when we are dealing with strings instead of a parsed AST."
   ]
  },
  {
   "cell_type": "markdown",
   "metadata": {
    "vscode": {
     "languageId": "julia"
    }
   },
   "source": [
    "<div class=\"alert alert-block alert-success\">\n",
    "<b>Exercise:</b> \n",
    "\n",
    "```julia\n",
    "using Test \n",
    "replace_i(s::Symbol) = s == :i ? :k : s\n",
    "replace_i(e::Expr) = Expr(e.head, map(replace_i, e.args)...)\n",
    "replace_i(u) = u\n",
    "\n",
    "```\n",
    "Given a function `replace_i`, which replaces variables `i` for `k` in an expression like the following\n",
    "\n",
    "```julia\n",
    "ex = :(i + i*i + y*i - sin(z))\n",
    "@test replace_i(ex) == :(k + k*k + y*k - sin(z))\n",
    "```\n",
    "\n",
    "write a different function `sreplace_i(s)`, which does the same thing but instead of a parsed expression (AST) it manipulates a string, such as\n",
    "\n",
    "```julia\n",
    "s = string(ex)\n",
    "```\n",
    "**HINTS**:\n",
    "- Use `Meta.parse` in combination with `replace_i` **ONLY** for checking of correctness.\n",
    "- You can use the `replace` function in combination with regular expressions.\n",
    "- Think of some corner cases, that the method may not handle properly.\n",
    "\n",
    "</div>"
   ]
  },
  {
   "cell_type": "markdown",
   "metadata": {
    "vscode": {
     "languageId": "julia"
    }
   },
   "source": [
    "<div class=\"alert alert-block alert-info\">\n",
    "<b>Solution</b>: </div>\n",
    "\n",
    "####"
   ]
  },
  {
   "cell_type": "code",
   "execution_count": 114,
   "metadata": {},
   "outputs": [
    {
     "data": {
      "text/plain": [
       "\u001b[32m\u001b[1mTest Passed\u001b[22m\u001b[39m"
      ]
     },
     "metadata": {},
     "output_type": "display_data"
    }
   ],
   "source": [
    "replace_i(s::Symbol) = s == :i ? :k : s\n",
    "replace_i(e::Expr) = Expr(e.head, map(replace_i, e.args)...)\n",
    "replace_i(u) = u\n",
    "\n",
    "ex = :(i + i*i + y*i - sin(z))\n",
    "\n",
    "@test replace_i(ex) == :(k + k*k + y*k - sin(z))"
   ]
  },
  {
   "cell_type": "code",
   "execution_count": 115,
   "metadata": {},
   "outputs": [
    {
     "data": {
      "text/plain": [
       "\"(i + i * i + y * i) - sin(z)\""
      ]
     },
     "metadata": {},
     "output_type": "display_data"
    }
   ],
   "source": [
    "s = string(ex)"
   ]
  },
  {
   "cell_type": "markdown",
   "metadata": {},
   "source": [
    "####"
   ]
  },
  {
   "cell_type": "code",
   "execution_count": 119,
   "metadata": {},
   "outputs": [
    {
     "data": {
      "text/plain": [
       "sreplace_i (generic function with 1 method)"
      ]
     },
     "metadata": {},
     "output_type": "display_data"
    }
   ],
   "source": [
    "sreplace_i(s::String) = string(replace_i(Meta.parse(s)))"
   ]
  },
  {
   "cell_type": "code",
   "execution_count": 121,
   "metadata": {},
   "outputs": [
    {
     "data": {
      "text/plain": [
       "sreplace_i (generic function with 1 method)"
      ]
     },
     "metadata": {},
     "output_type": "display_data"
    }
   ],
   "source": [
    "sreplace_i(s::String) = replace(s, \"i\" => \"k\")"
   ]
  },
  {
   "cell_type": "code",
   "execution_count": null,
   "metadata": {},
   "outputs": [
    {
     "data": {
      "text/plain": [
       "\"(k + k * k + y * k) - skn(z)\""
      ]
     },
     "metadata": {},
     "output_type": "display_data"
    }
   ],
   "source": [
    "sreplace_i(s)  "
   ]
  },
  {
   "cell_type": "markdown",
   "metadata": {},
   "source": [
    "If the exercises so far did not feel very useful let's focus on one, that is similar to a part of the [`IntervalArithmetics.jl`](https://github.com/JuliaIntervals/IntervalArithmetic.jl) pkg."
   ]
  },
  {
   "cell_type": "markdown",
   "metadata": {
    "vscode": {
     "languageId": "julia"
    }
   },
   "source": [
    "<div class=\"alert alert-block alert-success\">\n",
    "<b>Exercise:</b> \n",
    "\n",
    "Write function `wrap!(ex::Expr)` which wraps literal values (numbers) with a call to `f()`. You can test it on the following example\n",
    "```julia\n",
    "f = x -> convert(Float64, x)\n",
    "ex = :(x*x + 2*y*x + y*y)     # original expression\n",
    "rex = :(x*x + f(2)*y*x + y*y) # result expression\n",
    "```\n",
    "\n",
    "**HINTS**:\n",
    "- use recursion and multiple dispatch\n",
    "- dispatch on `::Number` to detect numbers in an expression\n",
    "- for testing purposes, create a copy of `ex` before mutating\n",
    "\n",
    "</div>"
   ]
  },
  {
   "cell_type": "markdown",
   "metadata": {},
   "source": [
    "<div class=\"alert alert-block alert-info\">\n",
    "<b>Solution</b>: </div>\n",
    "\n",
    "####"
   ]
  },
  {
   "cell_type": "code",
   "execution_count": null,
   "metadata": {},
   "outputs": [],
   "source": [
    "g = x -> convert(Float64, x)\n",
    "ex = :(x*x + 2*y*x + y*y)     # original expression\n",
    "rex = :(x*x + g(2)*y*x + y*y) # result expression"
   ]
  },
  {
   "cell_type": "code",
   "execution_count": null,
   "metadata": {},
   "outputs": [],
   "source": []
  },
  {
   "cell_type": "code",
   "execution_count": null,
   "metadata": {},
   "outputs": [],
   "source": []
  },
  {
   "cell_type": "code",
   "execution_count": null,
   "metadata": {},
   "outputs": [],
   "source": []
  },
  {
   "cell_type": "code",
   "execution_count": null,
   "metadata": {},
   "outputs": [],
   "source": []
  },
  {
   "cell_type": "code",
   "execution_count": null,
   "metadata": {},
   "outputs": [],
   "source": []
  },
  {
   "cell_type": "markdown",
   "metadata": {},
   "source": [
    "####\n",
    "\n",
    "This kind of manipulation is at the core of some pkgs, such as aforementioned [`IntervalArithmetics.jl`](https://github.com/JuliaIntervals/IntervalArithmetic.jl) where every number is replaced with a narrow interval in order to find some bounds on the result of a computation.\n"
   ]
  },
  {
   "cell_type": "markdown",
   "metadata": {},
   "source": [
    "[^5]: Once you understand the recursive structure of expressions, the AST can be constructed manually like any other type.\n",
    "\n",
    "## Resources\n",
    "- Julia's manual on [metaprogramming](https://docs.julialang.org/en/v1/manual/metaprogramming/)\n",
    "- David P. Sanders' [workshop @ JuliaCon 2021](https://www.youtube.com/watch?v=2QLhw6LVaq0) \n",
    "- Steven Johnson's [keynote talk @ JuliaCon 2019](https://www.youtube.com/watch?v=mSgXWpvQEHE)\n",
    "- Andy Ferris's [workshop @ JuliaCon 2018](https://www.youtube.com/watch?v=SeqAQHKLNj4)\n",
    "- [From Macros to DSL](https://github.com/johnmyleswhite/julia_tutorials) by John Myles White \n",
    "- Notes on [JuliaCompilerPlugin](https://hackmd.io/bVhb97Q4QTWeBQw8Rq4IFw?both#Julia-Compiler-Plugin-Project)"
   ]
  }
 ],
 "metadata": {
  "kernelspec": {
   "display_name": "Julia 1.10.5",
   "language": "julia",
   "name": "julia-1.10"
  },
  "language_info": {
   "file_extension": ".jl",
   "mimetype": "application/julia",
   "name": "julia",
   "version": "1.10.5"
  }
 },
 "nbformat": 4,
 "nbformat_minor": 2
}
