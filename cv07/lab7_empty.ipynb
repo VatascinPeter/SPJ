{
 "cells": [
  {
   "cell_type": "markdown",
   "metadata": {},
   "source": [
    "# Lab 07: Macros\n",
    "A little reminder from the [lecture](@ref macro_lecture), a macro in its essence is a function, which \n",
    "1. takes as an input an expression (parsed input)\n",
    "2. modifies the expressions in arguments\n",
    "3. inserts the modified expression at the same place as the one that is parsed.\n",
    "\n",
    "In this lab we are going to use what we have learned about manipulation of expressions and explore avenues of where macros can be useful\n",
    "- convenience (`@repeat`, `@show`)\n",
    "- performance critical code generation (`@poly`)\n",
    "- alleviate tedious code generation (`@species`, `@eats`)\n",
    "- just as a syntactic sugar (`@ecosystem`)\n",
    "\n",
    "## Show macro\n",
    "Let's start with dissecting \"simple\" `@show` macro, which allows us to demonstrate advanced concepts of macros and expression manipulation."
   ]
  },
  {
   "cell_type": "code",
   "execution_count": 1,
   "metadata": {},
   "outputs": [
    {
     "data": {
      "text/plain": [
       "1"
      ]
     },
     "metadata": {},
     "output_type": "display_data"
    }
   ],
   "source": [
    "x = 1"
   ]
  },
  {
   "cell_type": "code",
   "execution_count": 2,
   "metadata": {},
   "outputs": [
    {
     "name": "stdout",
     "output_type": "stream",
     "text": [
      "x + 1 = 2\n"
     ]
    },
    {
     "data": {
      "text/plain": [
       "2"
      ]
     },
     "metadata": {},
     "output_type": "display_data"
    }
   ],
   "source": [
    "@show x + 1  "
   ]
  },
  {
   "cell_type": "code",
   "execution_count": 3,
   "metadata": {},
   "outputs": [
    {
     "name": "stdout",
     "output_type": "stream",
     "text": [
      "x + 1 = 2\n"
     ]
    },
    {
     "data": {
      "text/plain": [
       "2"
      ]
     },
     "metadata": {},
     "output_type": "display_data"
    }
   ],
   "source": [
    "let y = x + 1       # creates a temporary local variable\n",
    "    println(\"x + 1 = \", y)\n",
    "    y               # show macro also returns the result\n",
    "end"
   ]
  },
  {
   "cell_type": "code",
   "execution_count": 4,
   "metadata": {},
   "outputs": [
    {
     "name": "stdout",
     "output_type": "stream",
     "text": [
      "x = 3 = 3\n"
     ]
    },
    {
     "data": {
      "text/plain": [
       "3"
      ]
     },
     "metadata": {},
     "output_type": "display_data"
    }
   ],
   "source": [
    "# assignments should create the variable\n",
    "@show x = 3"
   ]
  },
  {
   "cell_type": "code",
   "execution_count": 5,
   "metadata": {},
   "outputs": [
    {
     "name": "stdout",
     "output_type": "stream",
     "text": [
      "x = 2 = 2\n"
     ]
    },
    {
     "data": {
      "text/plain": [
       "2"
      ]
     },
     "metadata": {},
     "output_type": "display_data"
    }
   ],
   "source": [
    "let y = x = 2 \n",
    "    println(\"x = 2 = \", y)\n",
    "    y\n",
    "end"
   ]
  },
  {
   "cell_type": "code",
   "execution_count": 6,
   "metadata": {},
   "outputs": [
    {
     "data": {
      "text/plain": [
       "2"
      ]
     },
     "metadata": {},
     "output_type": "display_data"
    }
   ],
   "source": [
    "x                   # should be equal to 2"
   ]
  },
  {
   "cell_type": "markdown",
   "metadata": {},
   "source": [
    "The original Julia's [implementation](https://github.com/JuliaLang/julia/blob/ae8452a9e0b973991c30f27beb2201db1b0ea0d3/base/show.jl#L946-L959) is not dissimilar to the following macro definition:"
   ]
  },
  {
   "cell_type": "code",
   "execution_count": 7,
   "metadata": {},
   "outputs": [
    {
     "data": {
      "text/plain": [
       "@myshow (macro with 1 method)"
      ]
     },
     "metadata": {},
     "output_type": "display_data"
    }
   ],
   "source": [
    "macro myshow(ex)\n",
    "    quote\n",
    "        println($(QuoteNode(ex)), \" = \", repr(begin local value = $(esc(ex)) end))\n",
    "        value\n",
    "    end\n",
    "end"
   ]
  },
  {
   "cell_type": "markdown",
   "metadata": {},
   "source": [
    "Testing it gives us the expected behavior"
   ]
  },
  {
   "cell_type": "code",
   "execution_count": null,
   "metadata": {},
   "outputs": [],
   "source": [
    "@myshow xx = 1 + 1\n",
    "xx                  # should be defined"
   ]
  },
  {
   "cell_type": "markdown",
   "metadata": {},
   "source": [
    "In this \"simple\" example, we had to use the following concepts mentioned already in the [lecture](@ref macro_lecture):\n",
    "- `QuoteNode(ex)` is used to wrap the expression inside another layer of quoting, such that when it is interpolated into `:()` it stays being a piece of code instead of the value it represents - [**TRUE QUOTING**](@ref lec7_quotation)\n",
    "- `esc(ex)` is used in case that the expression contains an assignment, that has to be evaluated in the top level module `Main` (we are `esc`aping the local context) - [**ESCAPING**](@ref lec7_hygiene)\n",
    "- `$(QuoteNode(ex))` and `$(esc(ex))` is used to evaluate an expression into another expression. [**INTERPOLATION**](@ref lec7_quotation)\n",
    "- `local value = ` is used in order to return back the result after evaluation\n",
    "\n",
    "Lastly, let's mention that we can use `@macroexpand` to see how the code is manipulated in the `@myshow` macro"
   ]
  },
  {
   "cell_type": "code",
   "execution_count": null,
   "metadata": {},
   "outputs": [],
   "source": [
    "@macroexpand @show x + 1"
   ]
  },
  {
   "cell_type": "markdown",
   "metadata": {},
   "source": [
    "## Repeat macro\n",
    "In the profiling/performance [labs](@ref perf_lab) we have sometimes needed to run some code multiple times in order to gather some samples and we have tediously written out simple for loops inside functions such as this"
   ]
  },
  {
   "cell_type": "code",
   "execution_count": null,
   "metadata": {},
   "outputs": [],
   "source": [
    "function run_polynomial(n, a, x)\n",
    "    for _ in 1:n\n",
    "        polynomial(a, x)\n",
    "    end\n",
    "end"
   ]
  },
  {
   "cell_type": "markdown",
   "metadata": {},
   "source": [
    "We can remove this boilerplate code by creating a very simple macro that does this for us."
   ]
  },
  {
   "cell_type": "markdown",
   "metadata": {},
   "source": [
    "<div class=\"alert alert-block alert-success\">\n",
    "<b>Exercise:</b> \n",
    "\n",
    "Define macro `@repeat` that takes two arguments, first one being the number of times a code is to be run and the other being the actual code.\n",
    "\n",
    "```julia\n",
    "    julia> @repeat 3 println(\"Hello!\")\n",
    "    Hello!\n",
    "    Hello!\n",
    "    Hello!\n",
    "```\n",
    "\n",
    "Before defining the macro, it is recommended to write the code manipulation functionality into a helper function `_repeat`, which helps in organization and debugging of macros.\n",
    "\n",
    "```julia\n",
    "    _repeat(3, :(println(\"Hello!\"))) # testing \"macro\" without defining it\n",
    "```\n",
    "\n",
    "**HINTS**:\n",
    "- use `$` interpolation into a for loop expression; for example given `ex = :(1+x)` we can interpolate it into another expression `:($ex + y)` -> `:(1 + x + y)`\n",
    "- if unsure what gets interpolated use round brackets `:($(ex) + y)`\n",
    "- macro is a function that *creates* code that does what we want\n",
    "\n",
    "**BONUS**:\n",
    "What happens if we call `@repeat 3 x = 2`? Is `x` defined?\n",
    "\n",
    "</div>"
   ]
  },
  {
   "cell_type": "markdown",
   "metadata": {},
   "source": [
    "<div class=\"alert alert-block alert-info\">\n",
    "<b>Solution</b>: </div>\n",
    "\n",
    "####"
   ]
  },
  {
   "cell_type": "code",
   "execution_count": 11,
   "metadata": {},
   "outputs": [],
   "source": []
  },
  {
   "cell_type": "code",
   "execution_count": 12,
   "metadata": {},
   "outputs": [],
   "source": []
  },
  {
   "cell_type": "code",
   "execution_count": 13,
   "metadata": {},
   "outputs": [],
   "source": []
  },
  {
   "cell_type": "markdown",
   "metadata": {},
   "source": [
    "Even if we had used escaping the expression `x = 2` won't get evaluated properly due to the induced scope of the for loop. In order to resolve this we would have to specially match that kind of expression and generate a proper syntax withing the for loop `global $ex`. However we may just warn the user in the docstring that the usage is disallowed. "
   ]
  },
  {
   "cell_type": "markdown",
   "metadata": {},
   "source": [
    "####"
   ]
  },
  {
   "cell_type": "markdown",
   "metadata": {},
   "source": [
    "Note that this kind of repeat macro is also defined in the [`Flux.jl`](https://fluxml.ai/) machine learning framework, wherein it's called `@epochs` and is used for creating training [loop](https://fluxml.ai/Flux.jl/stable/training/training/#Datasets)."
   ]
  },
  {
   "cell_type": "markdown",
   "metadata": {},
   "source": [
    "## Polynomial macro\n",
    "This is probably the last time we are rewriting the `polynomial` function, though not quite in the same way. We have seen in the last [lab](@ref introspection_lab), that some optimizations occur automatically, when the compiler can infer the length of the coefficient array, however with macros we can *generate* optimized code directly (not on the same level - we are essentially preparing already unrolled/inlined code).\n",
    "\n",
    "Ideally we would like to write some macro `@poly` that takes a polynomial in a mathematical notation and spits out an anonymous function for its evaluation, where the loop is unrolled. \n",
    "\n",
    "*Example usage*:\n",
    "```julia\n",
    "p = @poly x 3x^2+2x^1+10x^0  # the first argument being the independent variable to match\n",
    "p(2) # return the value\n",
    "```\n",
    "\n",
    "However in order to make this happen, let's first consider much simpler case of creating the same but without the need for parsing the polynomial as a whole and employ the fact that macro can have multiple arguments separated by spaces.\n",
    "\n",
    "```julia\n",
    "p = @poly 3 2 10\n",
    "p(2)\n",
    "```"
   ]
  },
  {
   "cell_type": "markdown",
   "metadata": {},
   "source": [
    "<div class=\"alert alert-block alert-success\">\n",
    "<b>Exercise:</b> \n",
    "\n",
    "Create macro `@poly` that takes multiple arguments and creates an anonymous function that constructs the unrolled code. Instead of directly defining the macro inside the macro body, create helper function `_poly` with the same signature that can be reused outside of it.\n",
    "\n",
    "Recall Horner's method polynomial evaluation from previous [labs](@ref horner):\n",
    "```julia\n",
    "function polynomial(a, x)\n",
    "    accumulator = a[end] * one(x)\n",
    "    for i in length(a)-1:-1:1\n",
    "        accumulator = accumulator * x + a[i]\n",
    "        #= accumulator = muladd(x, accumulator, a[i]) =# # equivalent\n",
    "    end\n",
    "    accumulator  \n",
    "end\n",
    "```\n",
    "\n",
    "**HINTS**:\n",
    "- you can use `muladd` function as replacement for `ac * x + a[i]`\n",
    "- think of the `accumulator` variable as the mathematical expression that is incrementally built (try to write out the Horner's method[^1] to see it)\n",
    "- you can nest expression arbitrarily\n",
    "- the order of coefficients has different order than in previous labs (going from high powers of `x` last to them being first)\n",
    "- use `evalpoly` to check the correctness\n",
    "```julia\n",
    "using Test\n",
    "p = @poly 3 2 10\n",
    "@test p(2) == evalpoly(2, [10,2,3]) # reversed coefficients\n",
    "```\n",
    "\n",
    "[^1]: Explanation of the Horner schema can be found on [https://en.wikipedia.org/wiki/Horner%27s\\_method](https://en.wikipedia.org/wiki/Horner%27s_method).\n",
    "\n",
    "</div>"
   ]
  },
  {
   "cell_type": "markdown",
   "metadata": {},
   "source": [
    "<div class=\"alert alert-block alert-info\">\n",
    "<b>Solution</b>: </div>\n",
    "\n",
    "####"
   ]
  },
  {
   "cell_type": "code",
   "execution_count": 14,
   "metadata": {},
   "outputs": [],
   "source": []
  },
  {
   "cell_type": "code",
   "execution_count": 15,
   "metadata": {},
   "outputs": [],
   "source": []
  },
  {
   "cell_type": "code",
   "execution_count": 16,
   "metadata": {},
   "outputs": [],
   "source": []
  },
  {
   "cell_type": "code",
   "execution_count": 17,
   "metadata": {},
   "outputs": [],
   "source": []
  },
  {
   "cell_type": "code",
   "execution_count": 18,
   "metadata": {},
   "outputs": [],
   "source": []
  },
  {
   "cell_type": "markdown",
   "metadata": {},
   "source": [
    "####"
   ]
  },
  {
   "cell_type": "markdown",
   "metadata": {},
   "source": [
    "Moving on to the first/harder case, where we need to parse the mathematical expression."
   ]
  },
  {
   "cell_type": "markdown",
   "metadata": {},
   "source": [
    "\n",
    "<div class=\"alert alert-block alert-success\">\n",
    "<b>Exercise:</b> \n",
    "\n",
    "Create macro `@poly` that takes two arguments first one being the independent variable and second one being the polynomial written in mathematical notation. As in the previous case this macro should define an anonymous function that constructs the unrolled code. \n",
    "```julia\n",
    "julia> p = @poly x 3x^2+2x^1+10x^0  # the first argument being the independent variable to match\n",
    "```\n",
    "\n",
    "**HINTS**:\n",
    "- though in general we should be prepared for some edge cases, assume that we are really strict with the syntax allowed (e.g. we really require spelling out x^0, even though it is mathematically equivalent to `1`)\n",
    "- reuse the `_poly` function from the previous exercise\n",
    "- use the `MacroTools.jl` to match/capture `a_*$v^(n_)`, where `v` is the symbol of independent variable, this is going to be useful in the following steps\n",
    "    1. get maximal rank of the polynomial\n",
    "    2. get coefficient for each power\n",
    "\n",
    "<div class=\"alert alert-block alert-warning\">\n",
    "<b>Note:</b> \"`MacroTools.jl`\"\n",
    "Though not the most intuitive, [`MacroTools.jl`](https://fluxml.ai/MacroTools.jl/stable/) pkg help us with writing custom macros. We will use two utilities\n",
    "#### `@capture`\n",
    "This macro is used to match a pattern in a *single* expression and return values of particular spots. For example\n",
    "\n",
    "```julia\n",
    "julia> using MacroTools\n",
    "julia> @capture(:[1, 2, 3, 4, 5, 6, 7], [1, a_, 3, b__, c_])\n",
    "true\n",
    "\n",
    "julia> a, b, c\n",
    "(2,[4,5,6],7)\n",
    "```\n",
    "\n",
    "#### `postwalk`/`prewalk`\n",
    "In order to extend `@capture` to more complicated expression trees, we can used either `postwalk` or `prewalk` to walk the AST and match expression along the way. For example\n",
    "```julia\n",
    "julia> using MacroTools: prewalk, postwalk\n",
    "julia> ex = quote\n",
    "        x = f(y, g(z))\n",
    "        return h(x)\n",
    "    end\n",
    "\n",
    "julia> postwalk(ex) do x\n",
    "        @capture(x, fun_(arg_)) && println(\"Function: \", fun, \" with argument: \", arg)\n",
    "        x\n",
    "    end;\n",
    "Function: g with argument: z\n",
    "Function: h with argument: x\n",
    "```\n",
    "Note that the `x` or the iteration is required, because by default postwalk/prewalk replaces currently read expression with the output of the body of `do` block.\n",
    "</div>\n",
    "\n",
    "</div>"
   ]
  },
  {
   "cell_type": "markdown",
   "metadata": {},
   "source": [
    "<div class=\"alert alert-block alert-info\">\n",
    "<b>Solution</b>: </div>\n",
    "\n",
    "####"
   ]
  },
  {
   "cell_type": "code",
   "execution_count": 19,
   "metadata": {},
   "outputs": [],
   "source": []
  },
  {
   "cell_type": "code",
   "execution_count": 20,
   "metadata": {},
   "outputs": [],
   "source": []
  },
  {
   "cell_type": "code",
   "execution_count": 21,
   "metadata": {},
   "outputs": [],
   "source": []
  },
  {
   "cell_type": "markdown",
   "metadata": {},
   "source": [
    "####"
   ]
  },
  {
   "cell_type": "markdown",
   "metadata": {},
   "source": [
    "## Ecosystem macros\n",
    "There are at least two ways how we can make our life simpler when using our `Ecosystem` and `EcosystemCore` pkgs. Firstly, recall that in order to test our simulation we always had to write something like this:\n",
    "```julia\n",
    "function create_world()\n",
    "    n_grass       = 500\n",
    "    regrowth_time = 17.0\n",
    "\n",
    "    n_sheep         = 100\n",
    "    Δenergy_sheep   = 5.0\n",
    "    sheep_reproduce = 0.5\n",
    "    sheep_foodprob  = 0.4\n",
    "\n",
    "    n_wolves       = 8\n",
    "    Δenergy_wolf   = 17.0\n",
    "    wolf_reproduce = 0.03\n",
    "    wolf_foodprob  = 0.02\n",
    "\n",
    "    gs = [Grass(id, regrowth_time) for id in 1:n_grass];\n",
    "    ss = [Sheep(id, 2*Δenergy_sheep, Δenergy_sheep, sheep_reproduce, sheep_foodprob) for id in n_grass+1:n_grass+n_sheep];\n",
    "    ws = [Wolf(id, 2*Δenergy_wolf, Δenergy_wolf, wolf_reproduce, wolf_foodprob) for id in n_grass+n_sheep+1:n_grass+n_sheep+n_wolves];\n",
    "    World(vcat(gs, ss, ws))\n",
    "end\n",
    "world = create_world();"
   ]
  },
  {
   "cell_type": "markdown",
   "metadata": {},
   "source": [
    "which includes the tedious process of defining the agent counts, their parameters and last but not least the unique id manipulation. As part of the [HW](@ref hw07) for this lecture you will be tasked to define a simple DSL, which can be used to define a world in a few lines.\n",
    "\n",
    "Secondly, the definition of a new `Animal` or `Plant`, that did not have any special behavior currently requires quite a bit of repetitive code. For example defining a new plant type `Broccoli` goes as follows"
   ]
  },
  {
   "cell_type": "markdown",
   "metadata": {},
   "source": [
    "```julia\n",
    "abstract type Broccoli <: PlantSpecies end\n",
    "Base.show(io::IO,::Type{Broccoli}) = print(io,\"🥦\")\n",
    "\n",
    "EcosystemCore.eats(::Animal{Sheep},::Plant{Broccoli}) = true\n",
    "```\n",
    "\n",
    "and definition of a new animal like a `Rabbit` looks very similar\n",
    "```julia\n",
    "abstract type Rabbit <: AnimalSpecies end\n",
    "Base.show(io::IO,::Type{Rabbit}) = print(io,\"🐇\")\n",
    "\n",
    "EcosystemCore.eats(::Animal{Rabbit},p::Plant{Grass}) = size(p) > 0\n",
    "EcosystemCore.eats(::Animal{Rabbit},p::Plant{Broccoli}) = size(p) > 0\n",
    "```\n",
    "In order to make this code \"clearer\" (depends on your preference) we will create two macros, which can be called at one place to construct all the relations.\n",
    "\n",
    "### New Animal/Plant definition\n",
    "Our goal is to be able to define new plants and animal species, while having a clear idea about their relations. For this we have proposed the following macros/syntax:\n",
    "```julia\n",
    "@species Plant Broccoli 🥦\n",
    "@species Animal Rabbit 🐇\n",
    "@eats Rabbit [Grass => 0.5, Broccoli => 1.0, Mushroom => -1.0]\n",
    "```\n",
    "Unfortunately the current version of `Ecosystem` and `EcosystemCore`, already contains some definitions of species such as `Sheep`, `Wolf` and `Mushroom`, which may collide with definitions during prototyping, therefore we have created a modified version of those pkgs, which will be provided in the lab.\n"
   ]
  },
  {
   "cell_type": "markdown",
   "metadata": {},
   "source": [
    "<div class=\"alert alert-block alert-warning\">\n",
    "<b>Note:</b> \"Testing relations\"\n",
    "We can test the current definition with the following code that constructs \"eating matrix\"\n",
    "\n",
    "```julia\n",
    "using Ecosystem\n",
    "using Ecosystem.EcosystemCore\n",
    "\n",
    "function eating_matrix()\n",
    "    _init(ps::Type{<:PlantSpecies}) = ps(1, 10.0)\n",
    "    _init(as::Type{<:AnimalSpecies}) = as(1, 10.0, 1.0, 0.8, 0.7)\n",
    "    function _check(s1, s2)\n",
    "        try\n",
    "            if s1 !== s2\n",
    "                EcosystemCore.eats(_init(s1), _init(s2)) ? \"✅\" : \"❌\"\n",
    "            else\n",
    "                return \"❌\"\n",
    "            end\n",
    "        catch e\n",
    "            if e isa MethodError\n",
    "                return \"❔\"\n",
    "            else\n",
    "                throw(e)\n",
    "            end\n",
    "        end\n",
    "    end\n",
    "\n",
    "    animal_species = subtypes(AnimalSpecies)\n",
    "    plant_species = subtypes(PlantSpecies)\n",
    "    species = vcat(animal_species, plant_species)\n",
    "    em = [_check(s, ss) for (s,ss) in Iterators.product(animal_species, species)]\n",
    "    string.(hcat([\"🌍\", animal_species...], vcat(permutedims(species), em)))\n",
    "end\n",
    "\n",
    "eating_matrix()\n",
    "    🌍  🐑  🐺  🌿  🍄\n",
    "    🐑  ❌  ❌  ✅  ✅\n",
    "    🐺  ✅  ❌  ❌  ❌\n",
    "```\n",
    "\n",
    "\n",
    "</div>"
   ]
  },
  {
   "cell_type": "markdown",
   "metadata": {},
   "source": [
    "<div class=\"alert alert-block alert-success\">\n",
    "<b>Exercise:</b> \n",
    "\n",
    "Based on the following example syntax, \n",
    "\n",
    "```julia\n",
    "@species Plant Broccoli 🥦\n",
    "@species Animal Rabbit 🐇\n",
    "```\n",
    "write macro `@species` inside `Ecosystem` pkg, which defines the abstract type, its show function and exports the type. For example `@species Plant Broccoli 🥦` should generate code:\n",
    "\n",
    "```julia\n",
    "abstract type Broccoli <: PlantSpecies end\n",
    "Base.show(io::IO,::Type{Broccoli}) = print(io,\"🥦\")\n",
    "export Broccoli\n",
    "```\n",
    "Define first helper function `_species` to inspect the macro's output. This is indispensable, as we are defining new types/constants and thus we may otherwise encounter errors during repeated evaluation (though only if the type signature changed).\n",
    "```julia\n",
    "_species(:Plant, :Broccoli, :🥦)\n",
    "_species(:Animal, :Rabbit, :🐇)\n",
    "```\n",
    "\n",
    "**HINTS**:\n",
    "- use `QuoteNode` in the show function just like in the `@myshow` example\n",
    "- escaping `esc` is needed for the returned in order to evaluate in the top most module (`Ecosystem`/`Main`)\n",
    "- ideally these changes should be made inside the modified `Ecosystem` pkg provided in the lab (though not everything can be refreshed with `Revise`) - there is a file `ecosystem_macros.jl` just for this purpose\n",
    "- multiple function definitions can be included into a `quote end` block\n",
    "- interpolation works with any expression, e.g. `$(typ == :Animal ? AnimalSpecies : PlantSpecies)`\n",
    "\n",
    "**BONUS**:\n",
    "Based on `@species` define also macros `@animal` and `@plant` with two arguments instead of three, where the species type is implicitly carried in the macro's name.\n",
    "\n",
    "\n",
    "\n",
    "</div>"
   ]
  },
  {
   "cell_type": "markdown",
   "metadata": {},
   "source": [
    "<div class=\"alert alert-block alert-info\">\n",
    "<b>Solution</b>: </div>\n",
    "\n",
    "####"
   ]
  },
  {
   "cell_type": "code",
   "execution_count": null,
   "metadata": {},
   "outputs": [],
   "source": []
  },
  {
   "cell_type": "markdown",
   "metadata": {},
   "source": [
    "####"
   ]
  },
  {
   "cell_type": "markdown",
   "metadata": {},
   "source": [
    "The next exercise applies macros to the agents eating behavior."
   ]
  },
  {
   "cell_type": "markdown",
   "metadata": {},
   "source": [
    "<div class=\"alert alert-block alert-success\">\n",
    "<b>Exercise:</b> \n",
    "\n",
    "Define macro `@eats` inside `Ecosystem` pkg that assigns particular species their eating habits via `eat!` and `eats` functions. The macro should process the following example syntax\n",
    "```julia\n",
    "@eats Rabbit [Grass => 0.5, Broccoli => 1.0],\n",
    "```\n",
    "where `Grass => 0.5` defines the behavior of the `eat!` function. The coefficient is used here as a multiplier for the energy balance, in other words the `Rabbit` should get only `0.5` of energy for a piece of `Grass`.\n",
    "\n",
    "**HINTS**:\n",
    "- ideally these changes should be made inside the modified `Ecosystem` pkg provided in the lab (though not everything can be refreshed with `Revise`) - there is a file `ecosystem_macros.jl` just for this purpose\n",
    "- escaping `esc` is needed for the returned in order to evaluate in the top most module (`Ecosystem`/`Main`)\n",
    "- you can create an empty `quote end` block with `code = Expr(:block)` and push new expressions into its `args` incrementally\n",
    "- use dispatch to create specific code for the different combinations of agents eating other agents (there may be catch in that we have to first `eval` the symbols before calling in order to know if they are animals or plants)\n",
    "\n",
    "<div class=\"alert alert-block alert-warning\">\n",
    "<b>Note:</b> \"Reminder of `EcosystemCore` `eat!` and `eats` functionality\"\n",
    "\n",
    "In order to define that an `Wolf` eats `Sheep`, we have to define two methods\n",
    "\n",
    "```julia\n",
    "EcosystemCore.eats(::Animal{Wolf}, ::Animal{Sheep}) = true\n",
    "\n",
    "function EcosystemCore.eat!(ae::Animal{Wolf}, af::Animal{Sheep}, w::World)\n",
    "    incr_energy!(ae, $(multiplier)*energy(af)*Δenergy(ae))\n",
    "    kill_agent!(af, w)\n",
    "end\n",
    "```\n",
    "In order to define that an `Sheep` eats `Grass`, we have to define two methods\n",
    "\n",
    "```julia\n",
    "EcosystemCore.eats(::Animal{Sheep}, p::Plant{Grass}) = size(p)>0\n",
    "\n",
    "function EcosystemCore.eat!(a::Animal{Sheep}, p::Plant{Grass}, w::World)\n",
    "    incr_energy!(a, $(multiplier)*size(p)*Δenergy(a))\n",
    "    p.size = 0\n",
    "end\n",
    "```\n",
    "</div>\n",
    "\n",
    "**BONUS**:\n",
    "You can try running the simulation with the newly added agents.\n",
    "\n",
    "</div>"
   ]
  },
  {
   "cell_type": "markdown",
   "metadata": {},
   "source": [
    "<div class=\"alert alert-block alert-info\">\n",
    "<b>Solution</b>: </div>\n",
    "\n",
    "####"
   ]
  },
  {
   "cell_type": "code",
   "execution_count": null,
   "metadata": {},
   "outputs": [],
   "source": []
  },
  {
   "cell_type": "markdown",
   "metadata": {},
   "source": [
    "####"
   ]
  },
  {
   "cell_type": "markdown",
   "metadata": {},
   "source": [
    "\n",
    "---\n",
    "## Resources\n",
    "- macros in Julia [documentation](https://docs.julialang.org/en/v1/manual/metaprogramming/#man-macros)\n",
    "\n",
    "### `Type{T}` type selectors\n",
    "We have used `::Type{T}` signature[^2] at few places in the `Ecosystem` family of packages (and it will be helpful in the HW as well), such as in the `show` methods\n",
    "```julia\n",
    "Base.show(io::IO,::Type{World}) = print(io,\"🌍\")\n",
    "```\n",
    "This particular example defines a method where the second argument is the `World` type itself and not an instance of a `World` type. As a result we are able to dispatch on specific types as values. \n",
    "\n",
    "Furthermore we can use subtyping operator to match all types in a hierarchy, e.g. `::Type{<:AnimalSpecies}` matches all animal species\n",
    "\n",
    "[^2]: [https://docs.julialang.org/en/v1/manual/types/#man-typet-type](https://docs.julialang.org/en/v1/manual/types/#man-typet-type)\n"
   ]
  }
 ],
 "metadata": {
  "kernelspec": {
   "display_name": "Julia 1.10.5",
   "language": "julia",
   "name": "julia-1.10"
  },
  "language_info": {
   "file_extension": ".jl",
   "mimetype": "application/julia",
   "name": "julia",
   "version": "1.10.5"
  }
 },
 "nbformat": 4,
 "nbformat_minor": 2
}
